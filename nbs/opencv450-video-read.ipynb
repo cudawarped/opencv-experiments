{
 "cells": [
  {
   "cell_type": "markdown",
   "metadata": {},
   "source": [
    "# Comparisson of [Nvidia Video Codec SDK ](https://developer.nvidia.com/nvidia-video-codec-sdk) with CPU and iGPU ([Quick Sync](https://en.wikipedia.org/wiki/Intel_Quick_Sync_Video)) decoding using OpenCV 4.5.0 with python - CUDA 10.2, Ffmpeg 4.1.3"
   ]
  },
  {
   "cell_type": "markdown",
   "metadata": {},
   "source": [
    "To run the h264_cuvid test in the notebook you will need to compile OpenCV against ffmpeg libs built with --enable-cuda --enable-cuvid.\n",
    "\n",
    "Notes: \n",
    "1. Whilst using VideoCapture with h264_cuvid decoding is only as fast as CPU decoding, it does offload the decoding leaving more CPU resources available.  Additionally this option currently supports far more codecs than cv.cudacodec.VideoReader.\n",
    "2. GPU codec support depends on the GPU generation, see NVDEC_VideoDecoder_API_ProgGuide.pdf in the [NVidia Video Codec SDK documentation](https://developer.nvidia.com/nvidia-video-codec-sdk) for details.\n",
    "3. Unfortunately the current QuickSync implementation does not support container formats or RTSP streaming."
   ]
  },
  {
   "cell_type": "markdown",
   "metadata": {},
   "source": [
    "## Init"
   ]
  },
  {
   "cell_type": "code",
   "execution_count": 1,
   "metadata": {},
   "outputs": [],
   "source": [
    "#export\n",
    "import os\n",
    "import time\n",
    "import numpy as np\n",
    "from functools import partial\n",
    "import matplotlib.pyplot as plt\n",
    "import cv2 as cv\n",
    "import pandas as pd"
   ]
  },
  {
   "cell_type": "code",
   "execution_count": 57,
   "metadata": {},
   "outputs": [],
   "source": [
    "#export\n",
    "# globals\n",
    "#vid_path = os.environ['OPENCV_TEST_DATA_PATH'] + '/cv/video/768x576.avi'\n",
    "#vid_path = os.environ['OPENCV_TEST_DATA_PATH'] + '/cv/video/1920x1080.avi'\n",
    "#vid_path = 'rtsp://127.0.0.1/mediafile.264'\n",
    "#vid_path=\"rtsp://127.0.0.1/jellyfish-120-mbps-4k-uhd-h264.264\";\n",
    "#vid_path=\"rtsp://127.0.0.1/big_buck_bunny.264\";\n",
    "# test files from http://jell.yfish.us/\n",
    "vid_path = os.environ['USERPROFILE'] + '/Videos/jellyfish-120-mbps-4k-uhd-h264.mkv'\n",
    "#vid_path = os.environ['USERPROFILE'] + '/Videos/jellyfish-120-mbps-4k-uhd-hevc-10bit.mkv'\n",
    "\n",
    "check_res = False"
   ]
  },
  {
   "cell_type": "code",
   "execution_count": 3,
   "metadata": {},
   "outputs": [],
   "source": [
    "def CheckFrames(f1,f2,epsilon = -1,rows = -1,cols = -1,channels = -1):\n",
    "    assert len(f1) > 0 and len(f1) == len(f2), f'f1 length {len(f1)}, f2 length {len(f2)}'    \n",
    "    epsilon = 0 if epsilon == -1 else epsilon\n",
    "    rows = f1[0].shape[0] if rows == -1 else rows\n",
    "    cols = f1[0].shape[1] if cols == -1 else cols\n",
    "    channels = f1[0].shape[2] if channels == -1 and len(f1[0].shape) == 3  else channels    \n",
    "    for i in range(0,len(f1)):\n",
    "        assert np.sum(f1[i][:rows,:cols,:channels] != f2[i][:rows,:cols,:channels]) <= epsilon, f'frame {i} different'"
   ]
  },
  {
   "cell_type": "code",
   "execution_count": 4,
   "metadata": {},
   "outputs": [],
   "source": [
    "%matplotlib inline"
   ]
  },
  {
   "cell_type": "code",
   "execution_count": 5,
   "metadata": {},
   "outputs": [],
   "source": [
    "#export\n",
    "def ProcVid0(cap):\n",
    "    n_frames, start, end  = 0,0,0\n",
    "    if (cap.IsOpen()== False): # replace with catch\n",
    "        print(\"Error opening video stream or file\")\n",
    "        return\n",
    "    frames_available = True\n",
    "    start = time.time()    \n",
    "    while(cap.IsOpen()):\n",
    "        ret,_ = cap.GetFrame()\n",
    "        if(ret):\n",
    "            n_frames += 1 \n",
    "    end = time.time()\n",
    "    return (end - start)*1000/n_frames, n_frames;"
   ]
  },
  {
   "cell_type": "code",
   "execution_count": 6,
   "metadata": {},
   "outputs": [],
   "source": [
    "#export\n",
    "# host mem not implemented, manually pin memory\n",
    "class PinnedMem(object):\n",
    "    def __init__(self, size, dtype=np.uint8):\n",
    "        self.array = np.empty(size,dtype)\n",
    "        cv.cuda.registerPageLocked(self.array)\n",
    "        self.pinned = True\n",
    "    def __del__(self):\n",
    "        cv.cuda.unregisterPageLocked(self.array)\n",
    "        self.pinned = False\n",
    "    def __repr__(self):\n",
    "        return f'pinned = {self.pinned}'"
   ]
  },
  {
   "cell_type": "code",
   "execution_count": 7,
   "metadata": {},
   "outputs": [],
   "source": [
    "#export\n",
    "class VidCap:\n",
    "    def __init__(self,vid_path,max_frames = -1,store_res = False,file_to_write=None):\n",
    "        self.vid_path = vid_path\n",
    "        self.store_res = store_res\n",
    "        self.res = []\n",
    "        self.frame_num = 0\n",
    "        self.open = False\n",
    "        cap = cv.VideoCapture(vid_path)\n",
    "        assert cap.isOpened(), f\"{vid_path}: cannot be opened!\"\n",
    "        self.num_frames = cap.get(cv.CAP_PROP_FRAME_COUNT)\n",
    "        self.max_frames = self.num_frames if max_frames == -1 else max_frames\n",
    "        ret, frame = cap.read()\n",
    "        cap.release()\n",
    "        self.rows,self.cols,self.channels = frame.shape\n",
    "        self.write_video = False\n",
    "        if(file_to_write):\n",
    "            self.write_video = True\n",
    "            #fourcc = cv.VideoWriter_fourcc(*'H264')\n",
    "            fourcc = cv.VideoWriter_fourcc('M', '4', 'S', '2')\n",
    "            self.out = cv.VideoWriter(file_to_write,cv.CAP_FFMPEG,fourcc,25,(self.cols,self.rows))\n",
    "    \n",
    "    def UpdateState(self,ret): \n",
    "        if (not ret or self.frame_num+1 == self.max_frames): \n",
    "            self.open = False            \n",
    "        if(ret or self.frame_num+1 == self.max_frames):\n",
    "            self.frame_num += 1\n",
    "        \n",
    "    def IsOpen(self): return self.open\n",
    "    \n",
    "    def __del__(self):\n",
    "        if(self.write_video):\n",
    "            self.out.release()\n",
    "        \n",
    "    #def WriteFrame(self,frame):\n",
    "    #    if(self.file_to_write):\n",
    "    #        self.out.write(frame)\n",
    "        \n",
    "class CudaCap(VidCap):\n",
    "    def __init__(self,vid_path,max_frames=-1, store_res=False, file_to_write=None):\n",
    "        VidCap.__init__(self, vid_path, max_frames, store_res, file_to_write)\n",
    "        # cudacodec always returns 4 channels - check grey video\n",
    "        self.channels = 4\n",
    "        # cudacodec seems to need rows/16\n",
    "        self.rows = (np.ceil(self.rows/16)*16).astype(int)\n",
    "        self.cap = cv.cudacodec.createVideoReader(self.vid_path)\n",
    "        self.open = True\n",
    "        self.frame_device = cv.cuda_GpuMat(self.rows,self.cols,cv.CV_8UC4)\n",
    "        self.frame_host = PinnedMem((self.rows,self.cols,self.channels))\n",
    "        self.stream = cv.cuda_Stream()\n",
    "            \n",
    "    def GetFrame(self):\n",
    "        if(self.store_res or self.write_video):\n",
    "            ret,_ = self.GetHostFrame()\n",
    "            if(self.write_video):\n",
    "                self.out.write(self.frame_host.array[:,:,:3])\n",
    "            if(self.store_res and ret):\n",
    "                self.res.append(np.copy(self.frame_host.array))\n",
    "            return ret,self.frame_device\n",
    "        else:\n",
    "            return self.GetDeviceFrame()\n",
    "            \n",
    "    def GetDeviceFrame(self):\n",
    "        ret,_ = self.cap.nextFrame(self.frame_device,self.stream)\n",
    "        self.UpdateState(ret)\n",
    "        return ret,self.frame_device\n",
    "        \n",
    "    def GetHostFrame(self):\n",
    "        ret,_ = self.GetDeviceFrame()\n",
    "        if(ret):\n",
    "            self.frame_device.download(self.frame_host.array)\n",
    "        return ret,self.frame_host.array\n",
    "        \n",
    "    \n",
    "class CudaCapNpa(CudaCap):\n",
    "    def __init__(self,vid_path,max_frames=-1,store_res=False, file_to_write=None):\n",
    "        CudaCap.__init__(self, vid_path, max_frames, store_res, file_to_write)\n",
    "            \n",
    "    def GetDeviceFrame(self):        \n",
    "        ret,self.frame_device = self.cap.nextFrame()\n",
    "        self.UpdateState(ret)\n",
    "        return ret,self.frame_device\n",
    "    \n",
    "class CpuCap(VidCap):\n",
    "    def __init__(self,vid_path,max_frames=-1,store_res=False,backend=cv.CAP_ANY):\n",
    "        VidCap.__init__(self, vid_path, max_frames, store_res)      \n",
    "\n",
    "        self.cap = cv.VideoCapture(self.vid_path,backend)\n",
    "        assert self.cap.isOpened(), f\"{vid_path}: cannot be opened for backend: {backend}!\"\n",
    "        #if self.cap.isOpened():\n",
    "        self.open = True\n",
    "        self.frame = np.empty((self.rows,self.cols,self.channels),np.uint8)\n",
    "            \n",
    "    def GetFrame(self):\n",
    "        ret,_ = self.cap.read(self.frame)\n",
    "        self.UpdateState(ret)\n",
    "        if (ret):\n",
    "            if(self.store_res):\n",
    "                self.res.append(np.copy(self.frame))\n",
    "        return ret,self.frame\n",
    "                \n",
    "    def __del__(self):\n",
    "        self.cap.release()\n",
    "        \n",
    "class CpuCapNpa(CpuCap):\n",
    "    def __init__(self,vid_path,max_frames=-1,store_res=False,backend=cv.CAP_ANY):\n",
    "        CpuCap.__init__(self, vid_path, max_frames, store_res,backend)      \n",
    "            \n",
    "    def GetFrame(self):\n",
    "        ret,self.frame = self.cap.read()\n",
    "        self.UpdateState(ret)\n",
    "        if (ret):\n",
    "            if(self.store_res):\n",
    "                self.res.append(np.copy(self.frame))\n",
    "        return ret,self.frame\n",
    "    "
   ]
  },
  {
   "cell_type": "markdown",
   "metadata": {},
   "source": [
    "<a id=\"cpu\"></a>"
   ]
  },
  {
   "cell_type": "markdown",
   "metadata": {},
   "source": [
    "## CPU"
   ]
  },
  {
   "cell_type": "code",
   "execution_count": 71,
   "metadata": {},
   "outputs": [],
   "source": [
    "os.environ[\"OPENCV_FFMPEG_CAPTURE_OPTIONS\"] = \"\""
   ]
  },
  {
   "cell_type": "code",
   "execution_count": 72,
   "metadata": {},
   "outputs": [
    {
     "name": "stdout",
     "output_type": "stream",
     "text": [
      "CPU 0 (no pre alloc): 900 frames, 19.07 ms/frame\n"
     ]
    }
   ],
   "source": [
    "#export\n",
    "cpu_cap_npa = CpuCapNpa(vid_path,-1,check_res)\n",
    "cpu_time_0,n_frames = ProcVid0(cpu_cap_npa)\n",
    "print(f'CPU 0 (no pre alloc): {n_frames} frames, {cpu_time_0:.2f} ms/frame')"
   ]
  },
  {
   "cell_type": "code",
   "execution_count": 73,
   "metadata": {},
   "outputs": [
    {
     "name": "stdout",
     "output_type": "stream",
     "text": [
      "CPU 1: 900 frames, 12.09 ms/frame\n"
     ]
    }
   ],
   "source": [
    "#export\n",
    "cpu_cap = CpuCap(vid_path,-1,check_res)\n",
    "cpu_time_1,n_frames = ProcVid0(cpu_cap)\n",
    "print(f'CPU 1: {n_frames} frames, {cpu_time_1:.2f} ms/frame')"
   ]
  },
  {
   "cell_type": "code",
   "execution_count": 74,
   "metadata": {},
   "outputs": [],
   "source": [
    "if(check_res):\n",
    "    CheckFrames(cpu_cap.res,cpu_cap_npa.res)"
   ]
  },
  {
   "cell_type": "markdown",
   "metadata": {},
   "source": [
    "<a id=\"cpu_quicksync\"></a>"
   ]
  },
  {
   "cell_type": "markdown",
   "metadata": {},
   "source": [
    "## CPU - Quicksync"
   ]
  },
  {
   "cell_type": "markdown",
   "metadata": {},
   "source": [
    "If this implementation is slower than the default, software decoding is probably taking place.\n",
    "\n",
    "To confirm hardware decoding in windows 10 check Video Decode window in the GPU pane of the task manager for activity as below. \n",
    "\n",
    "To fix check drivers, OpenCv version etc. "
   ]
  },
  {
   "cell_type": "markdown",
   "metadata": {},
   "source": [
    "![title](imgs/quicksync.PNG)"
   ]
  },
  {
   "cell_type": "code",
   "execution_count": 14,
   "metadata": {},
   "outputs": [],
   "source": [
    "#export\n",
    "vid_path_h264 = os.environ['USERPROFILE'] + '/Videos/jellyfish-120-mbps-4k-uhd-h264.h264'"
   ]
  },
  {
   "cell_type": "code",
   "execution_count": 15,
   "metadata": {},
   "outputs": [
    {
     "name": "stdout",
     "output_type": "stream",
     "text": [
      "CPU Quick Sync (no pre alloc): 900 frames, 29.84 ms/frame\n"
     ]
    }
   ],
   "source": [
    "#export\n",
    "cpu_cap_mfx_npa = CpuCapNpa(vid_path_h264,-1,check_res,cv.CAP_INTEL_MFX)\n",
    "cpu_time_mfx_0,n_frames = ProcVid0(cpu_cap_mfx_npa)\n",
    "print(f'CPU Quick Sync (no pre alloc): {n_frames} frames, {cpu_time_mfx_0:.2f} ms/frame')"
   ]
  },
  {
   "cell_type": "code",
   "execution_count": 16,
   "metadata": {},
   "outputs": [
    {
     "name": "stdout",
     "output_type": "stream",
     "text": [
      "CPU Quick Sync (no pre alloc): 900 frames, 28.68 ms/frame\n"
     ]
    }
   ],
   "source": [
    "#export\n",
    "cpu_cap_mfx = CpuCap(vid_path_h264,-1,check_res,cv.CAP_INTEL_MFX)\n",
    "cpu_time_mfx_1,n_frames = ProcVid0(cpu_cap_mfx)\n",
    "print(f'CPU Quick Sync (no pre alloc): {n_frames} frames, {cpu_time_mfx_1:.2f} ms/frame')"
   ]
  },
  {
   "cell_type": "markdown",
   "metadata": {},
   "source": [
    "<a id=\"gpu\"></a>"
   ]
  },
  {
   "cell_type": "markdown",
   "metadata": {},
   "source": [
    "## GPU"
   ]
  },
  {
   "cell_type": "markdown",
   "metadata": {},
   "source": [
    "Not all GPU's have a hardware decoder, e.g. anything with GM108, see\n",
    "[(1)](https://devtalk.nvidia.com/default/topic/1024934/video-codec-and-optical-flow-sdk/cuvidcreatedecoder-returns-error-cuda_error_no_device/) and \n",
    "[(2)](https://developer.nvidia.com/video-encode-decode-gpu-support-matrix) for discussions."
   ]
  },
  {
   "cell_type": "markdown",
   "metadata": {},
   "source": [
    "### cv.VideoCapture - h264_cuvid"
   ]
  },
  {
   "cell_type": "code",
   "execution_count": 78,
   "metadata": {},
   "outputs": [],
   "source": [
    "os.environ[\"OPENCV_FFMPEG_CAPTURE_OPTIONS\"] = \"video_codec;h264_cuvid|video_codec;hevc_cuvid\""
   ]
  },
  {
   "cell_type": "code",
   "execution_count": 79,
   "metadata": {},
   "outputs": [
    {
     "name": "stdout",
     "output_type": "stream",
     "text": [
      "CPU 0 with h264_cuvid (no pre alloc): 900 frames, 17.78 ms/frame\n"
     ]
    }
   ],
   "source": [
    "#export\n",
    "cpu_cap_npa = CpuCapNpa(vid_path,-1,check_res)\n",
    "cpu_time_0,n_frames = ProcVid0(cpu_cap_npa)\n",
    "print(f'CPU 0 with h264_cuvid (no pre alloc): {n_frames} frames, {cpu_time_0:.2f} ms/frame')"
   ]
  },
  {
   "cell_type": "code",
   "execution_count": 80,
   "metadata": {},
   "outputs": [
    {
     "name": "stdout",
     "output_type": "stream",
     "text": [
      "CPU 1 with h264_cuvid: 900 frames, 12.89 ms/frame\n"
     ]
    }
   ],
   "source": [
    "#export\n",
    "cpu_cap = CpuCap(vid_path,-1,check_res)\n",
    "cpu_time_1,n_frames = ProcVid0(cpu_cap)\n",
    "print(f'CPU 1 with h264_cuvid: {n_frames} frames, {cpu_time_1:.2f} ms/frame')"
   ]
  },
  {
   "cell_type": "markdown",
   "metadata": {},
   "source": [
    "### cv.cudacodec.VideoReader"
   ]
  },
  {
   "cell_type": "code",
   "execution_count": 70,
   "metadata": {},
   "outputs": [],
   "source": [
    "# Check the check_res frames.\n",
    "check_res = False\n",
    "file_to_write=\"F:\\\\Dev\\\\Media\\\\jelly_out.mp4\""
   ]
  },
  {
   "cell_type": "code",
   "execution_count": 67,
   "metadata": {},
   "outputs": [
    {
     "name": "stdout",
     "output_type": "stream",
     "text": [
      "GPU 0 (no pre alloc): 900 frames, 6.03 ms/frame\n"
     ]
    }
   ],
   "source": [
    "#export\n",
    "gpu_cap_npa = CudaCapNpa(vid_path,-1,check_res)\n",
    "gpu_time_0,n_frames = ProcVid0(gpu_cap_npa)\n",
    "print(f'GPU 0 (no pre alloc): {n_frames} frames, {gpu_time_0:.2f} ms/frame')"
   ]
  },
  {
   "cell_type": "code",
   "execution_count": 68,
   "metadata": {},
   "outputs": [
    {
     "name": "stdout",
     "output_type": "stream",
     "text": [
      "GPU 0 (no pre alloc): 900 frames, 5.78 ms/frame\n"
     ]
    }
   ],
   "source": [
    "gpu_cap_npa = CudaCapNpa(vid_path,-1,check_res)\n",
    "gpu_time_0,n_frames = ProcVid0(gpu_cap_npa)\n",
    "print(f'GPU 0 (no pre alloc): {n_frames} frames, {gpu_time_0:.2f} ms/frame')"
   ]
  },
  {
   "cell_type": "code",
   "execution_count": 69,
   "metadata": {},
   "outputs": [],
   "source": [
    "if(check_res):\n",
    "    n_frames = min(len(gpu_cap.res),len(gpu_cap_npa.res))\n",
    "    CheckFrames(gpu_cap.res[:n_frames],gpu_cap_npa.res[:n_frames])"
   ]
  },
  {
   "cell_type": "markdown",
   "metadata": {},
   "source": [
    "<a id='opencv_decoding_performance_comparisson'></a>"
   ]
  },
  {
   "cell_type": "markdown",
   "metadata": {},
   "source": [
    "## Results"
   ]
  },
  {
   "cell_type": "code",
   "execution_count": 83,
   "metadata": {},
   "outputs": [
    {
     "data": {
      "text/html": [
       "<style  type=\"text/css\" >\n",
       "</style><table id=\"T_3f8c6446_2285_11eb_9633_84fdd1e21bc9\" ><thead>    <tr>        <th class=\"col_heading level0 col0\" >CPU/GPU</th>        <th class=\"col_heading level0 col1\" >Frame Proc Time (ms)</th>    </tr></thead><tbody>\n",
       "                <tr>\n",
       "                                <td id=\"T_3f8c6446_2285_11eb_9633_84fdd1e21bc9row0_col0\" class=\"data row0 col0\" >RTX 2080 (pre-alloc)</td>\n",
       "                        <td id=\"T_3f8c6446_2285_11eb_9633_84fdd1e21bc9row0_col1\" class=\"data row0 col1\" >5.780000</td>\n",
       "            </tr>\n",
       "            <tr>\n",
       "                                <td id=\"T_3f8c6446_2285_11eb_9633_84fdd1e21bc9row1_col0\" class=\"data row1 col0\" >RTX 2080</td>\n",
       "                        <td id=\"T_3f8c6446_2285_11eb_9633_84fdd1e21bc9row1_col1\" class=\"data row1 col1\" >6.030000</td>\n",
       "            </tr>\n",
       "            <tr>\n",
       "                                <td id=\"T_3f8c6446_2285_11eb_9633_84fdd1e21bc9row2_col0\" class=\"data row2 col0\" >GTX 1060 (pre-alloc)</td>\n",
       "                        <td id=\"T_3f8c6446_2285_11eb_9633_84fdd1e21bc9row2_col1\" class=\"data row2 col1\" >7.850000</td>\n",
       "            </tr>\n",
       "            <tr>\n",
       "                                <td id=\"T_3f8c6446_2285_11eb_9633_84fdd1e21bc9row3_col0\" class=\"data row3 col0\" >HD Graphics 530 (pre-alloc)</td>\n",
       "                        <td id=\"T_3f8c6446_2285_11eb_9633_84fdd1e21bc9row3_col1\" class=\"data row3 col1\" >9.270000</td>\n",
       "            </tr>\n",
       "            <tr>\n",
       "                                <td id=\"T_3f8c6446_2285_11eb_9633_84fdd1e21bc9row4_col0\" class=\"data row4 col0\" >GTX 980M (pre-alloc)</td>\n",
       "                        <td id=\"T_3f8c6446_2285_11eb_9633_84fdd1e21bc9row4_col1\" class=\"data row4 col1\" >11.740000</td>\n",
       "            </tr>\n",
       "            <tr>\n",
       "                                <td id=\"T_3f8c6446_2285_11eb_9633_84fdd1e21bc9row5_col0\" class=\"data row5 col0\" >i7-8700 (pre-alloc)</td>\n",
       "                        <td id=\"T_3f8c6446_2285_11eb_9633_84fdd1e21bc9row5_col1\" class=\"data row5 col1\" >12.090000</td>\n",
       "            </tr>\n",
       "            <tr>\n",
       "                                <td id=\"T_3f8c6446_2285_11eb_9633_84fdd1e21bc9row6_col0\" class=\"data row6 col0\" >RTX 2080 h264_cuvid (pre-alloc)</td>\n",
       "                        <td id=\"T_3f8c6446_2285_11eb_9633_84fdd1e21bc9row6_col1\" class=\"data row6 col1\" >12.890000</td>\n",
       "            </tr>\n",
       "            <tr>\n",
       "                                <td id=\"T_3f8c6446_2285_11eb_9633_84fdd1e21bc9row7_col0\" class=\"data row7 col0\" >HD Graphics 4400 (pre-alloc)</td>\n",
       "                        <td id=\"T_3f8c6446_2285_11eb_9633_84fdd1e21bc9row7_col1\" class=\"data row7 col1\" >13.970000</td>\n",
       "            </tr>\n",
       "            <tr>\n",
       "                                <td id=\"T_3f8c6446_2285_11eb_9633_84fdd1e21bc9row8_col0\" class=\"data row8 col0\" >GTX 980M</td>\n",
       "                        <td id=\"T_3f8c6446_2285_11eb_9633_84fdd1e21bc9row8_col1\" class=\"data row8 col1\" >14.340000</td>\n",
       "            </tr>\n",
       "            <tr>\n",
       "                                <td id=\"T_3f8c6446_2285_11eb_9633_84fdd1e21bc9row9_col0\" class=\"data row9 col0\" >HD Graphics 530</td>\n",
       "                        <td id=\"T_3f8c6446_2285_11eb_9633_84fdd1e21bc9row9_col1\" class=\"data row9 col1\" >14.730000</td>\n",
       "            </tr>\n",
       "            <tr>\n",
       "                                <td id=\"T_3f8c6446_2285_11eb_9633_84fdd1e21bc9row10_col0\" class=\"data row10 col0\" >RTX 2080 h264_cuvid</td>\n",
       "                        <td id=\"T_3f8c6446_2285_11eb_9633_84fdd1e21bc9row10_col1\" class=\"data row10 col1\" >17.780000</td>\n",
       "            </tr>\n",
       "            <tr>\n",
       "                                <td id=\"T_3f8c6446_2285_11eb_9633_84fdd1e21bc9row11_col0\" class=\"data row11 col0\" >HD Graphics 5500 HDD (pre-alloc)</td>\n",
       "                        <td id=\"T_3f8c6446_2285_11eb_9633_84fdd1e21bc9row11_col1\" class=\"data row11 col1\" >18.030000</td>\n",
       "            </tr>\n",
       "            <tr>\n",
       "                                <td id=\"T_3f8c6446_2285_11eb_9633_84fdd1e21bc9row12_col0\" class=\"data row12 col0\" >i7-8700</td>\n",
       "                        <td id=\"T_3f8c6446_2285_11eb_9633_84fdd1e21bc9row12_col1\" class=\"data row12 col1\" >19.070000</td>\n",
       "            </tr>\n",
       "            <tr>\n",
       "                                <td id=\"T_3f8c6446_2285_11eb_9633_84fdd1e21bc9row13_col0\" class=\"data row13 col0\" >i5-6500 (pre-alloc)</td>\n",
       "                        <td id=\"T_3f8c6446_2285_11eb_9633_84fdd1e21bc9row13_col1\" class=\"data row13 col1\" >22.010000</td>\n",
       "            </tr>\n",
       "            <tr>\n",
       "                                <td id=\"T_3f8c6446_2285_11eb_9633_84fdd1e21bc9row14_col0\" class=\"data row14 col0\" >HD Graphics 5500 HDD</td>\n",
       "                        <td id=\"T_3f8c6446_2285_11eb_9633_84fdd1e21bc9row14_col1\" class=\"data row14 col1\" >23.740000</td>\n",
       "            </tr>\n",
       "            <tr>\n",
       "                                <td id=\"T_3f8c6446_2285_11eb_9633_84fdd1e21bc9row15_col0\" class=\"data row15 col0\" >HD Graphics 4400</td>\n",
       "                        <td id=\"T_3f8c6446_2285_11eb_9633_84fdd1e21bc9row15_col1\" class=\"data row15 col1\" >23.880000</td>\n",
       "            </tr>\n",
       "            <tr>\n",
       "                                <td id=\"T_3f8c6446_2285_11eb_9633_84fdd1e21bc9row16_col0\" class=\"data row16 col0\" >i7-6700HQ (pre-alloc)</td>\n",
       "                        <td id=\"T_3f8c6446_2285_11eb_9633_84fdd1e21bc9row16_col1\" class=\"data row16 col1\" >23.990000</td>\n",
       "            </tr>\n",
       "            <tr>\n",
       "                                <td id=\"T_3f8c6446_2285_11eb_9633_84fdd1e21bc9row17_col0\" class=\"data row17 col0\" >i7-6700HQ</td>\n",
       "                        <td id=\"T_3f8c6446_2285_11eb_9633_84fdd1e21bc9row17_col1\" class=\"data row17 col1\" >39.390000</td>\n",
       "            </tr>\n",
       "            <tr>\n",
       "                                <td id=\"T_3f8c6446_2285_11eb_9633_84fdd1e21bc9row18_col0\" class=\"data row18 col0\" >GT 730M (pre-alloc)</td>\n",
       "                        <td id=\"T_3f8c6446_2285_11eb_9633_84fdd1e21bc9row18_col1\" class=\"data row18 col1\" >40.640000</td>\n",
       "            </tr>\n",
       "            <tr>\n",
       "                                <td id=\"T_3f8c6446_2285_11eb_9633_84fdd1e21bc9row19_col0\" class=\"data row19 col0\" >GT 730M</td>\n",
       "                        <td id=\"T_3f8c6446_2285_11eb_9633_84fdd1e21bc9row19_col1\" class=\"data row19 col1\" >40.800000</td>\n",
       "            </tr>\n",
       "            <tr>\n",
       "                                <td id=\"T_3f8c6446_2285_11eb_9633_84fdd1e21bc9row20_col0\" class=\"data row20 col0\" >i5-4210U (pre-alloc)</td>\n",
       "                        <td id=\"T_3f8c6446_2285_11eb_9633_84fdd1e21bc9row20_col1\" class=\"data row20 col1\" >47.720000</td>\n",
       "            </tr>\n",
       "            <tr>\n",
       "                                <td id=\"T_3f8c6446_2285_11eb_9633_84fdd1e21bc9row21_col0\" class=\"data row21 col0\" >i5-4210U</td>\n",
       "                        <td id=\"T_3f8c6446_2285_11eb_9633_84fdd1e21bc9row21_col1\" class=\"data row21 col1\" >50.650000</td>\n",
       "            </tr>\n",
       "            <tr>\n",
       "                                <td id=\"T_3f8c6446_2285_11eb_9633_84fdd1e21bc9row22_col0\" class=\"data row22 col0\" >i5-5200U HDD (pre-alloc)</td>\n",
       "                        <td id=\"T_3f8c6446_2285_11eb_9633_84fdd1e21bc9row22_col1\" class=\"data row22 col1\" >51.060000</td>\n",
       "            </tr>\n",
       "            <tr>\n",
       "                                <td id=\"T_3f8c6446_2285_11eb_9633_84fdd1e21bc9row23_col0\" class=\"data row23 col0\" >i5-5200U HDD</td>\n",
       "                        <td id=\"T_3f8c6446_2285_11eb_9633_84fdd1e21bc9row23_col1\" class=\"data row23 col1\" >58.640000</td>\n",
       "            </tr>\n",
       "    </tbody></table>"
      ],
      "text/plain": [
       "<pandas.io.formats.style.Styler at 0x18ea6742088>"
      ]
     },
     "execution_count": 83,
     "metadata": {},
     "output_type": "execute_result"
    }
   ],
   "source": [
    "results = [['i7-6700HQ', 39.39],['i7-6700HQ (pre-alloc)', 23.99],['i5-6500 (pre-alloc)',22.01],['i5-5200U HDD',58.64],\n",
    "           ['i5-5200U HDD (pre-alloc)',51.06],['HD Graphics 530',14.73],['HD Graphics 530 (pre-alloc)',9.27],\n",
    "           ['HD Graphics 5500 HDD',23.74],['HD Graphics 5500 HDD (pre-alloc)',18.03],['GTX 980M',14.34],\n",
    "          ['GTX 980M (pre-alloc)',11.74],['GTX 1060 (pre-alloc)',7.85],['i5-4210U',50.65],['i5-4210U (pre-alloc)',47.72],\n",
    "           ['GT 730M',40.80],['GT 730M (pre-alloc)',40.64],['HD Graphics 4400',23.88],['HD Graphics 4400 (pre-alloc)',13.97],\n",
    "          ['i7-8700',19.07],['i7-8700 (pre-alloc)',12.09],['RTX 2080 h264_cuvid',17.78],\n",
    "           ['RTX 2080 h264_cuvid (pre-alloc)',12.89],['RTX 2080',6.03],['RTX 2080 (pre-alloc)',5.78]]\n",
    "df = pd.DataFrame(results,columns=['CPU/GPU','Frame Proc Time (ms)']).sort_values('Frame Proc Time (ms)').round(2)\n",
    "df.style.hide_index()"
   ]
  },
  {
   "cell_type": "markdown",
   "metadata": {},
   "source": [
    "# Export"
   ]
  },
  {
   "cell_type": "code",
   "execution_count": 84,
   "metadata": {},
   "outputs": [
    {
     "name": "stdout",
     "output_type": "stream",
     "text": [
      "Converted opencv410x-video-read.ipynb to exp\\nb_opencv410x-video-read.py\n"
     ]
    }
   ],
   "source": [
    "# taken from https://github.com/fastai/fastai_docs/blob/master/dev_nb/notebook2script.py\n",
    "!python notebook2script.py opencv410x-video-read.ipynb"
   ]
  },
  {
   "cell_type": "code",
   "execution_count": null,
   "metadata": {},
   "outputs": [],
   "source": [
    "! python exp/nb_opencv410x-video-read.py"
   ]
  },
  {
   "cell_type": "code",
   "execution_count": null,
   "metadata": {},
   "outputs": [],
   "source": []
  }
 ],
 "metadata": {
  "kernelspec": {
   "display_name": "Python 3",
   "language": "python",
   "name": "python3"
  },
  "language_info": {
   "codemirror_mode": {
    "name": "ipython",
    "version": 3
   },
   "file_extension": ".py",
   "mimetype": "text/x-python",
   "name": "python",
   "nbconvert_exporter": "python",
   "pygments_lexer": "ipython3",
   "version": "3.7.7"
  },
  "toc": {
   "base_numbering": 1,
   "nav_menu": {},
   "number_sections": true,
   "sideBar": true,
   "skip_h1_title": false,
   "title_cell": "Table of Contents",
   "title_sidebar": "Contents",
   "toc_cell": false,
   "toc_position": {},
   "toc_section_display": true,
   "toc_window_display": false
  }
 },
 "nbformat": 4,
 "nbformat_minor": 2
}
