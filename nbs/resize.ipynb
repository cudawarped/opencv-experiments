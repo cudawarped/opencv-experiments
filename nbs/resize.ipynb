{
 "cells": [
  {
   "cell_type": "code",
   "execution_count": 94,
   "metadata": {},
   "outputs": [],
   "source": [
    "import cv2\n",
    "import numpy as np\n",
    "import time"
   ]
  },
  {
   "cell_type": "code",
   "execution_count": 110,
   "metadata": {},
   "outputs": [
    {
     "data": {
      "text/plain": [
       "'4.5.0'"
      ]
     },
     "execution_count": 110,
     "metadata": {},
     "output_type": "execute_result"
    }
   ],
   "source": [
    "cv2.__version__"
   ]
  },
  {
   "cell_type": "markdown",
   "metadata": {},
   "source": [
    "# OpenCV Resize"
   ]
  },
  {
   "cell_type": "code",
   "execution_count": 95,
   "metadata": {},
   "outputs": [],
   "source": [
    "img = np.random.random((2048, 2048,3)).astype(np.uint8)"
   ]
  },
  {
   "cell_type": "markdown",
   "metadata": {},
   "source": [
    "## Without pre-alloc"
   ]
  },
  {
   "cell_type": "code",
   "execution_count": 96,
   "metadata": {},
   "outputs": [],
   "source": [
    "resize_width = 1024\n",
    "resize_height = 1024 \n",
    "loop_cnt = 100000"
   ]
  },
  {
   "cell_type": "markdown",
   "metadata": {},
   "source": [
    "### CPU"
   ]
  },
  {
   "cell_type": "code",
   "execution_count": 97,
   "metadata": {},
   "outputs": [
    {
     "name": "stdout",
     "output_type": "stream",
     "text": [
      "cpu time: 952.11 us\n"
     ]
    }
   ],
   "source": [
    "time_start = time.time() \n",
    "for _ in range(loop_cnt): \n",
    "    resize_img = cv2.resize(img, (resize_height, resize_width), interpolation=cv2.INTER_LINEAR) \n",
    "print('cpu time: {:.2f} us'.format((time.time() - time_start) * 1e6 / loop_cnt))"
   ]
  },
  {
   "cell_type": "markdown",
   "metadata": {},
   "source": [
    "### GPU"
   ]
  },
  {
   "cell_type": "code",
   "execution_count": 98,
   "metadata": {},
   "outputs": [],
   "source": [
    "device_img = cv2.cuda_GpuMat()"
   ]
  },
  {
   "cell_type": "markdown",
   "metadata": {},
   "source": [
    "#### Upload/Dload for single GPU operation"
   ]
  },
  {
   "cell_type": "code",
   "execution_count": 99,
   "metadata": {},
   "outputs": [
    {
     "name": "stdout",
     "output_type": "stream",
     "text": [
      "gpu time: 3926.30 us\n"
     ]
    }
   ],
   "source": [
    "time_start = time.time() \n",
    "for _ in range(loop_cnt): \n",
    "    device_img.upload(img) \n",
    "    resize_device_img = cv2.cuda.resize(device_img, (resize_height, resize_width),interpolation=cv2.INTER_LINEAR)\n",
    "    resize_img = resize_device_img.download()\n",
    "print('gpu time: {:.2f} us'.format((time.time() - time_start) * 1e6 / loop_cnt)) "
   ]
  },
  {
   "cell_type": "markdown",
   "metadata": {},
   "source": [
    "#### Normal operation"
   ]
  },
  {
   "cell_type": "code",
   "execution_count": 100,
   "metadata": {},
   "outputs": [],
   "source": [
    "device_img = cv2.cuda_GpuMat(img)"
   ]
  },
  {
   "cell_type": "code",
   "execution_count": 101,
   "metadata": {},
   "outputs": [
    {
     "name": "stdout",
     "output_type": "stream",
     "text": [
      "gpu time: 460.10 us\n"
     ]
    }
   ],
   "source": [
    "time_start = time.time() \n",
    "for _ in range(loop_cnt): \n",
    "    resize_device_img = cv2.cuda.resize(device_img, (resize_height, resize_width),interpolation=cv2.INTER_LINEAR)\n",
    "print('gpu time: {:.2f} us'.format((time.time() - time_start) * 1e6 / loop_cnt)) "
   ]
  },
  {
   "cell_type": "markdown",
   "metadata": {},
   "source": [
    "## With pre-alloc"
   ]
  },
  {
   "cell_type": "markdown",
   "metadata": {},
   "source": [
    "### CPU"
   ]
  },
  {
   "cell_type": "code",
   "execution_count": 102,
   "metadata": {},
   "outputs": [],
   "source": [
    "resize_img = np.zeros((resize_height, resize_width,3),dtype=np.uint8)"
   ]
  },
  {
   "cell_type": "code",
   "execution_count": 103,
   "metadata": {},
   "outputs": [
    {
     "name": "stdout",
     "output_type": "stream",
     "text": [
      "cpu time: 390.59 us\n"
     ]
    }
   ],
   "source": [
    "time_start = time.time() \n",
    "for _ in range(loop_cnt): \n",
    "    cv2.resize(img, (resize_height, resize_width), resize_img, interpolation=cv2.INTER_LINEAR)\n",
    "print('cpu time: {:.2f} us'.format((time.time() - time_start) * 1e6 / loop_cnt)) "
   ]
  },
  {
   "cell_type": "markdown",
   "metadata": {},
   "source": [
    "### GPU"
   ]
  },
  {
   "cell_type": "code",
   "execution_count": 111,
   "metadata": {},
   "outputs": [],
   "source": [
    "device_img = cv2.cuda_GpuMat(img)\n",
    "resize_device_img = cv2.cuda_GpuMat(resize_img)"
   ]
  },
  {
   "cell_type": "code",
   "execution_count": 112,
   "metadata": {},
   "outputs": [
    {
     "name": "stdout",
     "output_type": "stream",
     "text": [
      "gpu time: 87.67 us\n"
     ]
    }
   ],
   "source": [
    "time_start = time.time() \n",
    "for _ in range(loop_cnt):     \n",
    "    cv2.cuda.resize(device_img, (resize_height, resize_width),resize_device_img,interpolation=cv2.INTER_LINEAR)\n",
    "print('gpu time: {:.2f} us'.format((time.time() - time_start) * 1e6 / loop_cnt)) "
   ]
  },
  {
   "cell_type": "markdown",
   "metadata": {},
   "source": [
    "#### Check timer"
   ]
  },
  {
   "cell_type": "code",
   "execution_count": 106,
   "metadata": {},
   "outputs": [
    {
     "name": "stdout",
     "output_type": "stream",
     "text": [
      "89.9 µs ± 1.53 µs per loop (mean ± std. dev. of 7 runs, 10000 loops each)\n"
     ]
    }
   ],
   "source": [
    "%timeit cv2.cuda.resize(device_img, (resize_height, resize_width),dst=resize_device_img,interpolation=cv2.INTER_LINEAR)"
   ]
  },
  {
   "cell_type": "markdown",
   "metadata": {},
   "source": [
    "#### Streams - unrealistic without pause, check for GPU saturation"
   ]
  },
  {
   "cell_type": "code",
   "execution_count": 107,
   "metadata": {},
   "outputs": [],
   "source": [
    "stream = cv.cuda_Stream()"
   ]
  },
  {
   "cell_type": "code",
   "execution_count": 108,
   "metadata": {},
   "outputs": [
    {
     "name": "stdout",
     "output_type": "stream",
     "text": [
      "44.3 µs ± 377 ns per loop (mean ± std. dev. of 7 runs, 10000 loops each)\n"
     ]
    }
   ],
   "source": [
    "%timeit cv2.cuda.resize(device_img, (resize_height, resize_width),dst=resize_device_img,interpolation=cv2.INTER_LINEAR, stream=stream)"
   ]
  },
  {
   "cell_type": "code",
   "execution_count": null,
   "metadata": {},
   "outputs": [],
   "source": []
  }
 ],
 "metadata": {
  "kernelspec": {
   "display_name": "Python 3",
   "language": "python",
   "name": "python3"
  },
  "language_info": {
   "codemirror_mode": {
    "name": "ipython",
    "version": 3
   },
   "file_extension": ".py",
   "mimetype": "text/x-python",
   "name": "python",
   "nbconvert_exporter": "python",
   "pygments_lexer": "ipython3",
   "version": "3.8.1"
  }
 },
 "nbformat": 4,
 "nbformat_minor": 4
}
