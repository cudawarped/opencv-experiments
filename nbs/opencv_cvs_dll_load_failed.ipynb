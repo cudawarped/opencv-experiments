{
 "cells": [
  {
   "cell_type": "markdown",
   "id": "6973dcb4-2e8a-409c-a147-291c8520fb18",
   "metadata": {},
   "source": [
    "# \"ImportError: DLL load failed while importing cv2: The specified module could not be found.\""
   ]
  },
  {
   "cell_type": "markdown",
   "id": "0f79e94d-bc84-4f09-a4a9-90be2e41388e",
   "metadata": {},
   "source": [
    "If your on Windows using python >= 3.8 having built OpenCV >= 4.6 from source and your seeing the above error when calling ` import cv2`, this short guide should help solve your problem.\n",
    "\n",
    "The guide assumes that you have either installed the python bindings during the build process ([not recommended](https://github.com/opencv/opencv/issues/13202#issuecomment-439730899)) or manually copied `cv2.cp3x-win_amd64.pyd` to your distributions `site-packages` directory (e.g. `C:\\Users\\<USER>\\mambaforge\\Lib\\site-packages`).\n",
    "\n",
    "So what's the issue?  Although the message is quite explicit regarding the cause, it doesn't really help with finding a solution. In a nutshell python has found `cv2.cp3x-win_amd64.pyd`, tried and then failed to load it because a it can't find a dependant shared library. Now the advice I have seen online regarding this is to dig out trusty dependancy walker, load the `cv2.cp3x-win_amd64.pyd` and see which dependencies the system can't find.\n",
    "\n",
    "Now this is solid advice if we had a C++ application and/or we were using python < 3.8 (which uses the system/user path for dll resolution), however we are not, so even if dependency walker can't detect any problems we may still be facing the above error.\n",
    "\n",
    "The good news is there is an easy fix if you know where the missing DLL's are and only slightly more involved if you don't as long as you have access to the missing DLL's on your system."
   ]
  },
  {
   "cell_type": "markdown",
   "id": "f8ded592",
   "metadata": {},
   "source": [
    "## Fix when path to missing DLL's is known"
   ]
  },
  {
   "cell_type": "markdown",
   "id": "eb494db2",
   "metadata": {},
   "source": [
    "To demonstrate the fix, I have built the OpenCV shared library and corresponding python bindings and manually copied them to the \n",
    "`site-packages` directory inside my python distribution (`C:\\Users\\b\\mambaforge\\Lib\\site-packages`).  \n",
    "\n",
    "As I have built a shared library the python bindings are dependant on `opencv_world460.dll` and I haven't told python where they are I get the error shown below whenn trying to import them."
   ]
  },
  {
   "cell_type": "code",
   "execution_count": 1,
   "id": "53efd81a",
   "metadata": {},
   "outputs": [
    {
     "ename": "ImportError",
     "evalue": "DLL load failed while importing cv2: The specified module could not be found.",
     "output_type": "error",
     "traceback": [
      "\u001b[1;31m---------------------------------------------------------------------------\u001b[0m",
      "\u001b[1;31mImportError\u001b[0m                               Traceback (most recent call last)",
      "Cell \u001b[1;32mIn [1], line 1\u001b[0m\n\u001b[1;32m----> 1\u001b[0m \u001b[38;5;28;01mimport\u001b[39;00m \u001b[38;5;21;01mcv2\u001b[39;00m\n",
      "\u001b[1;31mImportError\u001b[0m: DLL load failed while importing cv2: The specified module could not be found."
     ]
    }
   ],
   "source": [
    "import cv2"
   ]
  },
  {
   "cell_type": "markdown",
   "id": "cfa1c021",
   "metadata": {},
   "source": [
    "Given that I know the path to OpenCV's shared libraries is required and I haven't told python about it, the first thing to try is to add it to pythons DLL search path and see if that solves the problem."
   ]
  },
  {
   "cell_type": "code",
   "execution_count": 2,
   "id": "ba4db59c",
   "metadata": {},
   "outputs": [
    {
     "ename": "ImportError",
     "evalue": "DLL load failed while importing cv2: The specified module could not be found.",
     "output_type": "error",
     "traceback": [
      "\u001b[1;31m---------------------------------------------------------------------------\u001b[0m",
      "\u001b[1;31mImportError\u001b[0m                               Traceback (most recent call last)",
      "Cell \u001b[1;32mIn [2], line 3\u001b[0m\n\u001b[0;32m      1\u001b[0m \u001b[38;5;28;01mimport\u001b[39;00m \u001b[38;5;21;01mos\u001b[39;00m;\n\u001b[0;32m      2\u001b[0m os\u001b[38;5;241m.\u001b[39madd_dll_directory(\u001b[38;5;124m\"\u001b[39m\u001b[38;5;124mD:\u001b[39m\u001b[38;5;130;01m\\\\\u001b[39;00m\u001b[38;5;124mbuild\u001b[39m\u001b[38;5;130;01m\\\\\u001b[39;00m\u001b[38;5;124mopencv\u001b[39m\u001b[38;5;130;01m\\\\\u001b[39;00m\u001b[38;5;124mcuda_11_8_cc_all_sym\u001b[39m\u001b[38;5;130;01m\\\\\u001b[39;00m\u001b[38;5;124mbin\u001b[39m\u001b[38;5;124m\"\u001b[39m)\n\u001b[1;32m----> 3\u001b[0m \u001b[38;5;28;01mimport\u001b[39;00m \u001b[38;5;21;01mcv2\u001b[39;00m\n",
      "\u001b[1;31mImportError\u001b[0m: DLL load failed while importing cv2: The specified module could not be found."
     ]
    }
   ],
   "source": [
    "import os\n",
    "os.add_dll_directory(\"D:\\\\build\\\\opencv\\\\cuda_11_8_cc_all_sym\\\\bin\")\n",
    "import cv2"
   ]
  },
  {
   "cell_type": "markdown",
   "id": "e1b17eca",
   "metadata": {},
   "source": [
    "Ahh the same error, what's going on.\n",
    "\n",
    "In this case I also built OpenCV against the CUDA SDK so there is a good chance its missing DLL's from there aswell. I can try to fix the issue by simply adding the location of the CUDA SDK binaries to the python DLL search path as shown below."
   ]
  },
  {
   "cell_type": "code",
   "execution_count": 3,
   "id": "235eb45b",
   "metadata": {},
   "outputs": [],
   "source": [
    "os.add_dll_directory(\"C:\\\\Program Files\\\\NVIDIA GPU Computing Toolkit\\\\CUDA\\\\v11.8\\\\bin\")\n",
    "import cv2"
   ]
  },
  {
   "cell_type": "markdown",
   "id": "40b84c80",
   "metadata": {},
   "source": [
    "This appears to have solved the issue, but its a good idea to examine the build information just to double check I have loaded the right version of OpenCV."
   ]
  },
  {
   "cell_type": "code",
   "execution_count": 4,
   "id": "a40cc8c5",
   "metadata": {},
   "outputs": [
    {
     "name": "stdout",
     "output_type": "stream",
     "text": [
      "\n",
      "General configuration for OpenCV 4.6.0-dev =====================================\n",
      "  Version control:               4.6.0-508-g21133a2091\n",
      "\n",
      "  Extra modules:\n",
      "    Location (extra):            D:/repos/opencv/contrib/modules\n",
      "    Version control (extra):     4.6.0.20220920-35-g9d84eaed\n",
      "\n",
      "  Platform:\n",
      "    Timestamp:                   2022-11-06T17:20:19Z\n",
      "    Host:                        Windows 10.0.22000 AMD64\n",
      "    CMake:                       3.23.2\n",
      "    CMake generator:             Ninja\n",
      "    CMake build tool:            C:/PROGRA~1/MICROS~2/2022/COMMUN~1/Common7/IDE/COMMON~1/MICROS~1/CMake/Ninja/ninja.exe\n",
      "    MSVC:                        1933\n",
      "    Configuration:               Release\n",
      "\n",
      "  CPU/HW features:\n",
      "    Baseline:                    SSE SSE2 SSE3\n",
      "      requested:                 SSE3\n",
      "    Dispatched code generation:  SSE4_1 SSE4_2 FP16 AVX AVX2 AVX512_SKX\n",
      "      requested:                 SSE4_1 SSE4_2 AVX FP16 AVX2 AVX512_SKX\n",
      "      SSE4_1 (18 files):         + SSSE3 SSE4_1\n",
      "      SSE4_2 (2 files):          + SSSE3 SSE4_1 POPCNT SSE4_2\n",
      "      FP16 (1 files):            + SSSE3 SSE4_1 POPCNT SSE4_2 FP16 AVX\n",
      "      AVX (5 files):             + SSSE3 SSE4_1 POPCNT SSE4_2 AVX\n",
      "      AVX2 (34 files):           + SSSE3 SSE4_1 POPCNT SSE4_2 FP16 FMA3 AVX AVX2\n",
      "      AVX512_SKX (8 files):      + SSSE3 SSE4_1 POPCNT SSE4_2 FP16 FMA3 AVX AVX2 AVX_512F AVX512_COMMON AVX512_SKX\n",
      "\n",
      "  C/C++:\n",
      "    Built as dynamic libs?:      YES\n",
      "    C++ standard:                11\n",
      "    C++ Compiler:                C:/Program Files/Microsoft Visual Studio/2022/Community/VC/Tools/MSVC/14.33.31629/bin/Hostx64/x64/cl.exe  (ver 19.33.31629.0)\n",
      "    C++ flags (Release):         /DWIN32 /D_WINDOWS /W4 /GR  /D _CRT_SECURE_NO_DEPRECATE /D _CRT_NONSTDC_NO_DEPRECATE /D _SCL_SECURE_NO_WARNINGS /Gy /bigobj /Oi  /fp:precise /FS     /EHa /wd4127 /wd4251 /wd4324 /wd4275 /wd4512 /wd4589 /wd4819  /MD /O2 /Ob2 /DNDEBUG  /Zi\n",
      "    C++ flags (Debug):           /DWIN32 /D_WINDOWS /W4 /GR  /D _CRT_SECURE_NO_DEPRECATE /D _CRT_NONSTDC_NO_DEPRECATE /D _SCL_SECURE_NO_WARNINGS /Gy /bigobj /Oi  /fp:precise /FS     /EHa /wd4127 /wd4251 /wd4324 /wd4275 /wd4512 /wd4589 /wd4819  /MDd /Zi /Ob0 /Od /RTC1 \n",
      "    C Compiler:                  C:/Program Files/Microsoft Visual Studio/2022/Community/VC/Tools/MSVC/14.33.31629/bin/Hostx64/x64/cl.exe\n",
      "    C flags (Release):           /DWIN32 /D_WINDOWS /W3  /D _CRT_SECURE_NO_DEPRECATE /D _CRT_NONSTDC_NO_DEPRECATE /D _SCL_SECURE_NO_WARNINGS /Gy /bigobj /Oi  /fp:precise /FS       /MD /O2 /Ob2 /DNDEBUG  /Zi\n",
      "    C flags (Debug):             /DWIN32 /D_WINDOWS /W3  /D _CRT_SECURE_NO_DEPRECATE /D _CRT_NONSTDC_NO_DEPRECATE /D _SCL_SECURE_NO_WARNINGS /Gy /bigobj /Oi  /fp:precise /FS     /MDd /Zi /Ob0 /Od /RTC1 \n",
      "    Linker flags (Release):      /machine:x64  /INCREMENTAL:NO  /debug\n",
      "    Linker flags (Debug):        /machine:x64  /debug /INCREMENTAL \n",
      "    ccache:                      NO\n",
      "    Precompiled headers:         NO\n",
      "    Extra dependencies:          cudart_static.lib nppc.lib nppial.lib nppicc.lib nppidei.lib nppif.lib nppig.lib nppim.lib nppist.lib nppisu.lib nppitc.lib npps.lib cublas.lib cudnn.lib cufft.lib -LIBPATH:\"C:/Program Files/NVIDIA GPU Computing Toolkit/CUDA/v11.8/lib/x64\"\n",
      "    3rdparty dependencies:\n",
      "\n",
      "  OpenCV modules:\n",
      "    To be built:                 aruco barcode bgsegm bioinspired calib3d ccalib core cudaarithm cudabgsegm cudacodec cudafeatures2d cudafilters cudaimgproc cudalegacy cudaobjdetect cudaoptflow cudastereo cudawarping cudev datasets dnn dnn_objdetect dnn_superres dpm face features2d flann fuzzy gapi hfs highgui img_hash imgcodecs imgproc intensity_transform line_descriptor mcc ml objdetect optflow phase_unwrapping photo plot python3 quality rapid reg rgbd saliency shape stereo stitching structured_light superres surface_matching text tracking ts video videoio videostab wechat_qrcode world xfeatures2d ximgproc xobjdetect xphoto\n",
      "    Disabled:                    -\n",
      "    Disabled by dependency:      -\n",
      "    Unavailable:                 alphamat cvv freetype hdf java julia matlab ovis python2 python2 sfm viz\n",
      "    Applications:                tests perf_tests examples apps\n",
      "    Documentation:               NO\n",
      "    Non-free algorithms:         NO\n",
      "\n",
      "  Windows RT support:            NO\n",
      "\n",
      "  GUI: \n",
      "    Win32 UI:                    YES\n",
      "    OpenGL support:              YES (opengl32 glu32)\n",
      "    VTK support:                 NO\n",
      "\n",
      "  Media I/O: \n",
      "    ZLib:                        build (ver 1.2.12)\n",
      "    JPEG:                        build-libjpeg-turbo (ver 2.1.3-62)\n",
      "      SIMD Support Request:      YES\n",
      "      SIMD Support:              NO\n",
      "    WEBP:                        build (ver encoder: 0x020f)\n",
      "    PNG:                         build (ver 1.6.37)\n",
      "    TIFF:                        build (ver 42 - 4.2.0)\n",
      "    JPEG 2000:                   build (ver 2.4.0)\n",
      "    OpenEXR:                     build (ver 2.3.0)\n",
      "    HDR:                         YES\n",
      "    SUNRASTER:                   YES\n",
      "    PXM:                         YES\n",
      "    PFM:                         YES\n",
      "\n",
      "  Video I/O:\n",
      "    DC1394:                      NO\n",
      "    FFMPEG:                      YES (prebuilt binaries)\n",
      "      avcodec:                   YES (58.134.100)\n",
      "      avformat:                  YES (58.76.100)\n",
      "      avutil:                    YES (56.70.100)\n",
      "      swscale:                   YES (5.9.100)\n",
      "      avresample:                YES (4.0.0)\n",
      "    GStreamer:                   NO\n",
      "    DirectShow:                  YES\n",
      "    Media Foundation:            YES\n",
      "      DXVA:                      YES\n",
      "\n",
      "  Parallel framework:            Concurrency\n",
      "\n",
      "  Trace:                         YES (with Intel ITT)\n",
      "\n",
      "  Other third-party libraries:\n",
      "    Intel IPP:                   2020.0.0 Gold [2020.0.0]\n",
      "           at:                   D:/build/opencv/cuda_11_8_cc_all_sym/3rdparty/ippicv/ippicv_win/icv\n",
      "    Intel IPP IW:                sources (2020.0.0)\n",
      "              at:                D:/build/opencv/cuda_11_8_cc_all_sym/3rdparty/ippicv/ippicv_win/iw\n",
      "    Lapack:                      NO\n",
      "    Eigen:                       NO\n",
      "    Custom HAL:                  NO\n",
      "    Protobuf:                    build (3.19.1)\n",
      "\n",
      "  NVIDIA CUDA:                   YES (ver 11.8, CUFFT CUBLAS NVCUVID NVCUVENC FAST_MATH)\n",
      "    NVIDIA GPU arch:             35 37 50 52 60 61 70 75 80 86\n",
      "    NVIDIA PTX archs:            86\n",
      "\n",
      "  cuDNN:                         YES (ver 8.6.0)\n",
      "\n",
      "  OpenCL:                        YES (NVD3D11)\n",
      "    Include path:                D:/repos/opencv/opencv/3rdparty/include/opencl/1.2\n",
      "    Link libraries:              Dynamic load\n",
      "\n",
      "  Python 3:\n",
      "    Interpreter:                 C:/Users/b/mambaforge//python.exe (ver 3.9.13)\n",
      "    Libraries:                   C:/Users/b/mambaforge//libs/python39.lib (ver 3.9.13)\n",
      "    numpy:                       C:/Users/b/mambaforge//lib/site-packages/numpy/core/include (ver 1.23.3)\n",
      "    install path:                C:/Users/b/mambaforge//Lib/site-packages//cv2/python-3.9\n",
      "\n",
      "  Python (for build):            C:/Users/b/mambaforge//python.exe\n",
      "\n",
      "  Java:                          \n",
      "    ant:                         NO\n",
      "    JNI:                         NO\n",
      "    Java wrappers:               NO\n",
      "    Java tests:                  NO\n",
      "\n",
      "  Install to:                    D:/build/opencv/cuda_11_8_cc_all_sym/install\n",
      "-----------------------------------------------------------------\n",
      "\n",
      "\n"
     ]
    }
   ],
   "source": [
    "print(cv2.getBuildInformation())"
   ]
  },
  {
   "cell_type": "markdown",
   "id": "d2a1fa50",
   "metadata": {},
   "source": [
    "That was easy but what can I do if I'm not as good at guessing what's missing.  Next I will use the same example again to demonstrate how to find out which DLL's python is searching for."
   ]
  },
  {
   "cell_type": "markdown",
   "id": "a19c2557",
   "metadata": {},
   "source": [
    "## Fix when path to missing dll's is not known"
   ]
  },
  {
   "cell_type": "markdown",
   "id": "2e87bb2c-2894-4b7b-b6cd-cb1d831d71e4",
   "metadata": {},
   "source": [
    "To find which DLL's are missing we can use [process monitor](https://learn.microsoft.com/en-us/sysinternals/downloads/procmon) which will enable us to see the names of the DLL's which python is trying to load.\n",
    "\n",
    "When you first run process monitor you will be presented with the option to filter the output.  Since we only want to view files which are acessed by the python.exe process, on the dropdown select \"Process Name\" and in the text box type python.exe and click **Add** then select \"Operation\" from the first dropdown and \"CreateFile\" from the second and press **Add**.  Your filter should now resemble the below."
   ]
  },
  {
   "cell_type": "markdown",
   "id": "f50e1a35-ed8e-4e1a-b0e9-5082141f1e74",
   "metadata": {},
   "source": [
    "![](imgs/proc_mon_filter.png)"
   ]
  },
  {
   "cell_type": "markdown",
   "id": "d48f1533-76da-4985-8c1d-beaa17ce7d81",
   "metadata": {},
   "source": [
    "Before continuing it is advisable to close any other python proceses as the output from these will pollute the main window.\n",
    "\n",
    "Now start python and before typing `import cv2`, press the clear button (red trash can) in process monitor to clear any output generated during python's initialization."
   ]
  },
  {
   "cell_type": "code",
   "execution_count": 1,
   "id": "11dae139",
   "metadata": {},
   "outputs": [
    {
     "ename": "ImportError",
     "evalue": "DLL load failed while importing cv2: The specified module could not be found.",
     "output_type": "error",
     "traceback": [
      "\u001b[1;31m---------------------------------------------------------------------------\u001b[0m",
      "\u001b[1;31mImportError\u001b[0m                               Traceback (most recent call last)",
      "Cell \u001b[1;32mIn [1], line 1\u001b[0m\n\u001b[1;32m----> 1\u001b[0m \u001b[38;5;28;01mimport\u001b[39;00m \u001b[38;5;21;01mcv2\u001b[39;00m\n",
      "\u001b[1;31mImportError\u001b[0m: DLL load failed while importing cv2: The specified module could not be found."
     ]
    }
   ],
   "source": [
    "import cv2"
   ]
  },
  {
   "cell_type": "markdown",
   "id": "844f62eb-7f59-4fa7-8f99-4e878fc0a667",
   "metadata": {},
   "source": [
    "![title](imgs/proc_mon_failed_search_opencv.png)"
   ]
  },
  {
   "cell_type": "markdown",
   "id": "5519ca3f-a004-4099-8e42-e9ed90c0b0b8",
   "metadata": {},
   "source": [
    "Because I have reset the python DLL search path on running `import cv2` I get the above output in process monitor which shows that we successfully found `cv2.cp3x-win_amd64.pyd` (otherwise we would see the \"ModuleNotFoundError: No module named 'cv2'\" error) however it also shows several attempts have been made to locate `opencv_img_hash_460.dll` and `opencv_world460.dll` without success.\n",
    "\n",
    "As before we add the directory containing these to the python DLL search path."
   ]
  },
  {
   "cell_type": "code",
   "execution_count": 2,
   "id": "db489147-2ea4-438e-bfeb-8faafabbdc92",
   "metadata": {},
   "outputs": [
    {
     "ename": "ImportError",
     "evalue": "DLL load failed while importing cv2: The specified module could not be found.",
     "output_type": "error",
     "traceback": [
      "\u001b[1;31m---------------------------------------------------------------------------\u001b[0m",
      "\u001b[1;31mImportError\u001b[0m                               Traceback (most recent call last)",
      "Cell \u001b[1;32mIn [2], line 3\u001b[0m\n\u001b[0;32m      1\u001b[0m \u001b[38;5;28;01mimport\u001b[39;00m \u001b[38;5;21;01mos\u001b[39;00m\n\u001b[0;32m      2\u001b[0m os\u001b[38;5;241m.\u001b[39madd_dll_directory(\u001b[38;5;124m\"\u001b[39m\u001b[38;5;124mD:\u001b[39m\u001b[38;5;130;01m\\\\\u001b[39;00m\u001b[38;5;124mbuild\u001b[39m\u001b[38;5;130;01m\\\\\u001b[39;00m\u001b[38;5;124mopencv\u001b[39m\u001b[38;5;130;01m\\\\\u001b[39;00m\u001b[38;5;124mcuda_11_8_cc_all_sym\u001b[39m\u001b[38;5;130;01m\\\\\u001b[39;00m\u001b[38;5;124mbin\u001b[39m\u001b[38;5;124m\"\u001b[39m)\n\u001b[1;32m----> 3\u001b[0m \u001b[38;5;28;01mimport\u001b[39;00m \u001b[38;5;21;01mcv2\u001b[39;00m\n",
      "\u001b[1;31mImportError\u001b[0m: DLL load failed while importing cv2: The specified module could not be found."
     ]
    }
   ],
   "source": [
    "import os\n",
    "os.add_dll_directory(\"D:\\\\build\\\\opencv\\\\cuda_11_8_cc_all_sym\\\\bin\")\n",
    "import cv2"
   ]
  },
  {
   "cell_type": "markdown",
   "id": "f081282d-4a50-4d7e-af6b-fee7cced09df",
   "metadata": {},
   "source": [
    "![title](imgs/proc_mon_failed_search_nvidia.png)"
   ]
  },
  {
   "cell_type": "markdown",
   "id": "90e9fdc7-f159-4c00-b80a-2329b39dbdb7",
   "metadata": {},
   "source": [
    "Now process monitor shows that `opencv_img_hash_460.dll` and `opencv_world460.dll` were located successfully after a few attempts however we are missing `nppc64_11.dll` which is part of the CUDA SDK.  As before if we add the CUDA SDK binary directory to the python DLL search path the call to `import cv2` will be successful.  If however we were still seeing the same error we could simply repeat the process, that is examine the output in process monitor and add the directories containing the missing DLL's to the python DLL search path."
   ]
  },
  {
   "cell_type": "code",
   "execution_count": null,
   "id": "c7388249",
   "metadata": {},
   "outputs": [],
   "source": []
  }
 ],
 "metadata": {
  "kernelspec": {
   "display_name": "Python 3 (ipykernel)",
   "language": "python",
   "name": "python3"
  },
  "language_info": {
   "codemirror_mode": {
    "name": "ipython",
    "version": 3
   },
   "file_extension": ".py",
   "mimetype": "text/x-python",
   "name": "python",
   "nbconvert_exporter": "python",
   "pygments_lexer": "ipython3",
   "version": "3.9.13"
  },
  "toc": {
   "base_numbering": 1,
   "nav_menu": {},
   "number_sections": true,
   "sideBar": true,
   "skip_h1_title": false,
   "title_cell": "Table of Contents",
   "title_sidebar": "Contents",
   "toc_cell": false,
   "toc_position": {},
   "toc_section_display": true,
   "toc_window_display": false
  },
  "varInspector": {
   "cols": {
    "lenName": 16,
    "lenType": 16,
    "lenVar": 40
   },
   "kernels_config": {
    "python": {
     "delete_cmd_postfix": "",
     "delete_cmd_prefix": "del ",
     "library": "var_list.py",
     "varRefreshCmd": "print(var_dic_list())"
    },
    "r": {
     "delete_cmd_postfix": ") ",
     "delete_cmd_prefix": "rm(",
     "library": "var_list.r",
     "varRefreshCmd": "cat(var_dic_list()) "
    }
   },
   "types_to_exclude": [
    "module",
    "function",
    "builtin_function_or_method",
    "instance",
    "_Feature"
   ],
   "window_display": false
  }
 },
 "nbformat": 4,
 "nbformat_minor": 5
}
