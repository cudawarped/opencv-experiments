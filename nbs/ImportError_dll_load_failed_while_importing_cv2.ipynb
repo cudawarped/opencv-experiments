{
 "cells": [
  {
   "cell_type": "raw",
   "id": "7b8b37ca",
   "metadata": {},
   "source": [
    "---\n",
    "title: \"ImportError: DLL load failed while importing cv2: The specified module could not be found.\"\n",
    "toc: true\n",
    "date: 05/12/23\n",
    "date-modified: 06/27/24\n",
    "keywords: OpenCV, Python, ImportError, cv2, importing, failed, module, CUDA, cuDNN\n",
    "pagetitle: \"ImportError: DLL load failed while importing cv2: The specified module could not be found\"\n",
    "description-meta: \"Definitive guide to fixing the ImportError: DLL load failed while importing cv2: The specified module could not be found. error when trying to import the OpenCV python module.\"\n",
    "description: \"Definitive guide to fixing the 'ImportError: DLL load failed while importing cv2: The specified module could not be found.' error when trying to import the OpenCV python module.\"\n",
    "jupyter: python3\n",
    "notebook-links: true\n",
    "format:\n",
    "  html:\n",
    "    code-tools:\n",
    "        source: https://github.com/cudawarped/opencv-experiments/blob/master/nbs/ImportError_dll_load_failed_while_importing_cv2.ipynb\n",
    "    code-annotations: below\n",
    "    code-block-border-left: \"#76b900\"\n",
    "---"
   ]
  },
  {
   "cell_type": "markdown",
   "id": "74010ddb",
   "metadata": {},
   "source": [
    "#  The problem"
   ]
  },
  {
   "cell_type": "markdown",
   "id": "0f79e94d-bc84-4f09-a4a9-90be2e41388e",
   "metadata": {},
   "source": [
    "If you're using Windows with Python >= 3.8, have built OpenCV >= 4.6 from source, and are encountering the \"ImportError: DLL load failed while importing cv2: The specified module could not be found\" error when calling `import cv2`, this short guide should help solve your problem.\n",
    "\n",
    "This guide assumes that you have either installed the Python bindings during the build process or manually copied **cv2.cpxx-win_amd64.pyd** to your distribution's *site-packages* directory (e.g., *C:\\\\Users\\\\\\<USER\\>\\\\miniforge3\\\\Lib\\\\site\\-packages*).\n",
    "\n",
    "So, what's the issue? Although the error message is quite explicit about the cause, it doesn't really help with finding a solution. In a nutshell, Python has found **cv2.cpxx-win_amd64.pyd** tried to load it, and then failed because it can't find a dependent shared library.\n",
    "\n",
    "The advice I've seen online regarding this issue is to use Dependency Walker, load the **cv2.cpxx-win_amd64.pyd**, and identify which dependencies the system can't find. This is solid advice if you have a C++ application, are using Python < 3.8 (which uses the system/user path for DLL resolution), or are not using a Python distribution that performs path manipulation under the hood (e.g., Anaconda). However, if the above does not apply, even if Dependency Walker doesn't detect any problems, we may still face the above error.\n",
    "\n",
    "The good news is that there's an easy fix if you know where the missing DLLs are, and it's only slightly more involved if you don't, as long as you have access to the missing DLLs on your system."
   ]
  },
  {
   "cell_type": "markdown",
   "id": "f8ded592",
   "metadata": {},
   "source": [
    "# Fix when path to missing DLL's is known"
   ]
  },
  {
   "cell_type": "markdown",
   "id": "eb494db2",
   "metadata": {},
   "source": [
    "To demonstrate the fix, I have built OpenCV as a shared library (**opencv_world410.dll**) with its corresponding Python bindings (**cv2.cpxx-win_amd64.pyd**). To enable them to be loaded (`import cv2`) without any extra configuration, I have manually copied them to the *site-packages* directory inside my Python distribution (*C:\\\\Users\\\\b\\\\miniforge3\\\\Lib\\\\site\\-packages*).\n",
    "\n",
    "As I have built a shared library, the Python bindings are dependent on **opencv_world410.dll**, which contains all of OpenCV's executable code. If I had built a static library, all of OpenCV's executable code would be contained inside **cv2.cpxx-win_amd64.pyd**. Since I haven't told Python where the DLL is located, I get the following error when trying to import the bindings:"
   ]
  },
  {
   "cell_type": "code",
   "execution_count": 1,
   "id": "53efd81a",
   "metadata": {},
   "outputs": [
    {
     "ename": "ImportError",
     "evalue": "DLL load failed while importing cv2: The specified module could not be found.",
     "output_type": "error",
     "traceback": [
      "\u001b[1;31m---------------------------------------------------------------------------\u001b[0m",
      "\u001b[1;31mImportError\u001b[0m                               Traceback (most recent call last)",
      "Cell \u001b[1;32mIn[1], line 1\u001b[0m\n\u001b[1;32m----> 1\u001b[0m \u001b[38;5;28;01mimport\u001b[39;00m \u001b[38;5;21;01mcv2\u001b[39;00m\n",
      "\u001b[1;31mImportError\u001b[0m: DLL load failed while importing cv2: The specified module could not be found."
     ]
    }
   ],
   "source": [
    "import cv2"
   ]
  },
  {
   "cell_type": "markdown",
   "id": "cfa1c021",
   "metadata": {},
   "source": [
    "Given that I know the path to OpenCV's shared libraries is required and I haven't told Python about it, the first thing to try is to add it to Pythons DLL search path with `os.add_dll_directory()` as we are using Python >= 3.8 and see if that solves the problem."
   ]
  },
  {
   "cell_type": "code",
   "execution_count": 2,
   "id": "ba4db59c",
   "metadata": {},
   "outputs": [
    {
     "ename": "ImportError",
     "evalue": "DLL load failed while importing cv2: The specified module could not be found.",
     "output_type": "error",
     "traceback": [
      "\u001b[1;31m---------------------------------------------------------------------------\u001b[0m",
      "\u001b[1;31mImportError\u001b[0m                               Traceback (most recent call last)",
      "Cell \u001b[1;32mIn[2], line 3\u001b[0m\n\u001b[0;32m      1\u001b[0m \u001b[38;5;28;01mimport\u001b[39;00m \u001b[38;5;21;01mos\u001b[39;00m\n\u001b[0;32m      2\u001b[0m os\u001b[38;5;241m.\u001b[39madd_dll_directory(\u001b[38;5;124mr\u001b[39m\u001b[38;5;124m'\u001b[39m\u001b[38;5;124mD:\u001b[39m\u001b[38;5;124m\\\u001b[39m\u001b[38;5;124mbuild\u001b[39m\u001b[38;5;124m\\\u001b[39m\u001b[38;5;124mopencv\u001b[39m\u001b[38;5;124m\\\u001b[39m\u001b[38;5;124m4_10\u001b[39m\u001b[38;5;124m\\\u001b[39m\u001b[38;5;124minstall\u001b[39m\u001b[38;5;124m\\\u001b[39m\u001b[38;5;124mx64\u001b[39m\u001b[38;5;124m\\\u001b[39m\u001b[38;5;124mvc17\u001b[39m\u001b[38;5;124m\\\u001b[39m\u001b[38;5;124mbin\u001b[39m\u001b[38;5;124m'\u001b[39m)\n\u001b[1;32m----> 3\u001b[0m \u001b[38;5;28;01mimport\u001b[39;00m \u001b[38;5;21;01mcv2\u001b[39;00m\n",
      "\u001b[1;31mImportError\u001b[0m: DLL load failed while importing cv2: The specified module could not be found."
     ]
    }
   ],
   "source": [
    "import os\n",
    "os.add_dll_directory(r'D:\\build\\opencv\\4_10\\install\\x64\\vc17\\bin')\n",
    "import cv2"
   ]
  },
  {
   "cell_type": "markdown",
   "id": "e1b17eca",
   "metadata": {},
   "source": [
    "Ahh the same error, what's going on.\n",
    "\n",
    "In this case I also built OpenCV against the CUDA SDK so there is a good chance its missing DLL's from there as well. I can try to fix the issue by simply adding the location of the CUDA SDK binaries to the python DLL search path as shown below."
   ]
  },
  {
   "cell_type": "code",
   "execution_count": 3,
   "id": "235eb45b",
   "metadata": {},
   "outputs": [],
   "source": [
    "os.add_dll_directory(r'C:\\Program Files\\NVIDIA GPU Computing Toolkit\\CUDA\\v12.5\\bin')\n",
    "import cv2"
   ]
  },
  {
   "cell_type": "markdown",
   "id": "40b84c80",
   "metadata": {},
   "source": [
    "This appears to have solved the issue, but its a good idea to examine the build information by calling `print(cv2.getBuildInformation())` just to double check I have loaded the right version of OpenCV."
   ]
  },
  {
   "cell_type": "code",
   "execution_count": 4,
   "id": "a40cc8c5",
   "metadata": {},
   "outputs": [
    {
     "name": "stdout",
     "output_type": "stream",
     "text": [
      "\n",
      "General configuration for OpenCV 4.10.0-dev =====================================\n",
      "  Version control:               4.10.0-49-g11c69bb171\n",
      "\n",
      "  Extra modules:\n",
      "    Location (extra):            D:/repos/opencv/contrib/modules\n",
      "    Version control (extra):     4.10.0-2-ga886fa5c\n",
      "\n",
      "  Platform:\n",
      "    Timestamp:                   2024-06-25T15:14:43Z\n",
      "    Host:                        Windows 10.0.22631 AMD64\n",
      "    CMake:                       3.29.5\n",
      "    CMake generator:             Ninja Multi-Config\n",
      "    CMake build tool:            D:/bin/ninja/ninja.exe\n",
      "    MSVC:                        1940\n",
      "    Configuration:               Debug Release\n",
      "\n",
      "  CPU/HW features:\n",
      "    Baseline:                    SSE SSE2 SSE3\n",
      "      requested:                 SSE3\n",
      "    Dispatched code generation:  SSE4_1 SSE4_2 FP16 AVX AVX2 AVX512_SKX\n",
      "      requested:                 SSE4_1 SSE4_2 AVX FP16 AVX2 AVX512_SKX\n",
      "      SSE4_1 (18 files):         + SSSE3 SSE4_1\n",
      "      SSE4_2 (2 files):          + SSSE3 SSE4_1 POPCNT SSE4_2\n",
      "      FP16 (1 files):            + SSSE3 SSE4_1 POPCNT SSE4_2 FP16 AVX\n",
      "      AVX (9 files):             + SSSE3 SSE4_1 POPCNT SSE4_2 AVX\n",
      "      AVX2 (38 files):           + SSSE3 SSE4_1 POPCNT SSE4_2 FP16 FMA3 AVX AVX2\n",
      "      AVX512_SKX (8 files):      + SSSE3 SSE4_1 POPCNT SSE4_2 FP16 FMA3 AVX AVX2 AVX_512F AVX512_COMMON AVX512_SKX\n",
      "\n",
      "  C/C++:\n",
      "    Built as dynamic libs?:      YES\n",
      "    C++ standard:                11\n",
      "    C++ Compiler:                C:/Program Files/Microsoft Visual Studio/2022/Community/VC/Tools/MSVC/14.40.33807/bin/Hostx64/x64/cl.exe  (ver 19.40.33811.0)\n",
      "    C++ flags (Release):         /DWIN32 /D_WINDOWS /W4 /GR  /D _CRT_SECURE_NO_DEPRECATE /D _CRT_NONSTDC_NO_DEPRECATE /D _SCL_SECURE_NO_WARNINGS /Gy /bigobj /Oi  /fp:precise /FS     /EHa /wd4127 /wd4251 /wd4324 /wd4275 /wd4512 /wd4589 /wd4819  /O2 /Ob2 /DNDEBUG  /Zi\n",
      "    C++ flags (Debug):           /DWIN32 /D_WINDOWS /W4 /GR  /D _CRT_SECURE_NO_DEPRECATE /D _CRT_NONSTDC_NO_DEPRECATE /D _SCL_SECURE_NO_WARNINGS /Gy /bigobj /Oi  /fp:precise /FS     /EHa /wd4127 /wd4251 /wd4324 /wd4275 /wd4512 /wd4589 /wd4819  /Zi /Ob0 /Od /RTC1 \n",
      "    C Compiler:                  C:/Program Files/Microsoft Visual Studio/2022/Community/VC/Tools/MSVC/14.40.33807/bin/Hostx64/x64/cl.exe\n",
      "    C flags (Release):           /DWIN32 /D_WINDOWS /W3  /D _CRT_SECURE_NO_DEPRECATE /D _CRT_NONSTDC_NO_DEPRECATE /D _SCL_SECURE_NO_WARNINGS /Gy /bigobj /Oi  /fp:precise /FS       /O2 /Ob2 /DNDEBUG  /Zi\n",
      "    C flags (Debug):             /DWIN32 /D_WINDOWS /W3  /D _CRT_SECURE_NO_DEPRECATE /D _CRT_NONSTDC_NO_DEPRECATE /D _SCL_SECURE_NO_WARNINGS /Gy /bigobj /Oi  /fp:precise /FS     /Zi /Ob0 /Od /RTC1 \n",
      "    Linker flags (Release):      /machine:x64  /INCREMENTAL:NO  /debug\n",
      "    Linker flags (Debug):        /machine:x64  /debug /INCREMENTAL \n",
      "    ccache:                      NO\n",
      "    Precompiled headers:         NO\n",
      "    Extra dependencies:          C:/Program Files/NVIDIA GPU Computing Toolkit/CUDA/v12.5/lib/x64/cudart_static.lib C:/Program Files/NVIDIA GPU Computing Toolkit/CUDA/v12.5/lib/x64/nppial.lib C:/Program Files/NVIDIA GPU Computing Toolkit/CUDA/v12.5/lib/x64/nppc.lib C:/Program Files/NVIDIA GPU Computing Toolkit/CUDA/v12.5/lib/x64/nppitc.lib C:/Program Files/NVIDIA GPU Computing Toolkit/CUDA/v12.5/lib/x64/nppig.lib C:/Program Files/NVIDIA GPU Computing Toolkit/CUDA/v12.5/lib/x64/nppist.lib C:/Program Files/NVIDIA GPU Computing Toolkit/CUDA/v12.5/lib/x64/nppidei.lib C:/Program Files/NVIDIA GPU Computing Toolkit/CUDA/v12.5/lib/x64/cublas.lib C:/Program Files/NVIDIA GPU Computing Toolkit/CUDA/v12.5/lib/x64/cublasLt.lib C:/Program Files/NVIDIA GPU Computing Toolkit/CUDA/v12.5/lib/x64/cufft.lib C:/Program Files/NVIDIA GPU Computing Toolkit/CUDA/v12.5/lib/x64/nppif.lib C:/Program Files/NVIDIA GPU Computing Toolkit/CUDA/v12.5/lib/x64/nppim.lib C:/Program Files/NVIDIA GPU Computing Toolkit/CUDA/v12.5/lib/x64/nppicc.lib\n",
      "    3rdparty dependencies:\n",
      "\n",
      "  OpenCV modules:\n",
      "    To be built:                 aruco bgsegm bioinspired calib3d ccalib core cudaarithm cudabgsegm cudacodec cudafeatures2d cudafilters cudaimgproc cudalegacy cudaobjdetect cudaoptflow cudastereo cudawarping cudev datasets dnn dnn_objdetect dnn_superres dpm face features2d flann fuzzy gapi hfs highgui img_hash imgcodecs imgproc intensity_transform line_descriptor mcc ml objdetect optflow phase_unwrapping photo plot python3 quality rapid reg rgbd saliency shape signal stereo stitching structured_light superres surface_matching text tracking ts video videoio videostab wechat_qrcode world xfeatures2d ximgproc xobjdetect xphoto\n",
      "    Disabled:                    -\n",
      "    Disabled by dependency:      -\n",
      "    Unavailable:                 alphamat cannops cvv freetype hdf java julia matlab ovis python2 python2 sfm viz\n",
      "    Applications:                tests perf_tests examples apps\n",
      "    Documentation:               doxygen python\n",
      "    Non-free algorithms:         NO\n",
      "\n",
      "  Windows RT support:            NO\n",
      "\n",
      "  GUI: \n",
      "    Win32 UI:                    YES\n",
      "    VTK support:                 NO\n",
      "\n",
      "  Media I/O: \n",
      "    ZLib:                        build (ver 1.3.1)\n",
      "    JPEG:                        build-libjpeg-turbo (ver 3.0.3-70)\n",
      "      SIMD Support Request:      YES\n",
      "      SIMD Support:              NO\n",
      "    WEBP:                        build (ver encoder: 0x020f)\n",
      "    PNG:                         build (ver 1.6.43)\n",
      "      SIMD Support Request:      YES\n",
      "      SIMD Support:              YES (Intel SSE)\n",
      "    TIFF:                        build (ver 42 - 4.6.0)\n",
      "    JPEG 2000:                   build (ver 2.5.0)\n",
      "    OpenEXR:                     build (ver 2.3.0)\n",
      "    HDR:                         YES\n",
      "    SUNRASTER:                   YES\n",
      "    PXM:                         YES\n",
      "    PFM:                         YES\n",
      "\n",
      "  Video I/O:\n",
      "    DC1394:                      NO\n",
      "    FFMPEG:                      YES (prebuilt binaries)\n",
      "      avcodec:                   YES (58.134.100)\n",
      "      avformat:                  YES (58.76.100)\n",
      "      avutil:                    YES (56.70.100)\n",
      "      swscale:                   YES (5.9.100)\n",
      "      avresample:                YES (4.0.0)\n",
      "    GStreamer:                   NO\n",
      "    DirectShow:                  YES\n",
      "    Media Foundation:            YES\n",
      "      DXVA:                      YES\n",
      "\n",
      "  Parallel framework:            Concurrency\n",
      "\n",
      "  Trace:                         YES (with Intel ITT)\n",
      "\n",
      "  Other third-party libraries:\n",
      "    Intel IPP:                   2021.11.0 [2021.11.0]\n",
      "           at:                   D:/build/opencv/4_10/3rdparty/ippicv/ippicv_win/icv\n",
      "    Intel IPP IW:                sources (2021.11.0)\n",
      "              at:                D:/build/opencv/4_10/3rdparty/ippicv/ippicv_win/iw\n",
      "    Lapack:                      NO\n",
      "    Eigen:                       NO\n",
      "    Custom HAL:                  NO\n",
      "    Protobuf:                    build (3.19.1)\n",
      "    Flatbuffers:                 builtin/3rdparty (23.5.9)\n",
      "\n",
      "  NVIDIA CUDA:                   YES (ver 12.5.40, CUFFT CUBLAS NVCUVID NVCUVENC)\n",
      "    NVIDIA GPU arch:             86\n",
      "    NVIDIA PTX archs:\n",
      "\n",
      "  cuDNN:                         YES (ver 9.2.0)\n",
      "\n",
      "  OpenCL:                        YES (NVD3D11)\n",
      "    Include path:                D:/repos/opencv/opencv/3rdparty/include/opencl/1.2\n",
      "    Link libraries:              Dynamic load\n",
      "\n",
      "  Python 3:\n",
      "    Interpreter:                 C:/Users/b/miniforge3/python.exe (ver 3.10.14)\n",
      "    Libraries:                   C:/Users/b/miniforge3/libs/python310.lib (ver 3.10.14)\n",
      "    Limited API:                 NO\n",
      "    numpy:                       C:/Users/b/miniforge3/Lib/site-packages/numpy/core/include (ver 1.26.4)\n",
      "    install path:                C:/Users/b/miniforge3/Lib/site-packages//cv2/python-3.10\n",
      "\n",
      "  Python (for build):            C:/Users/b/miniforge3/python.exe\n",
      "\n",
      "  Java:                          \n",
      "    ant:                         NO\n",
      "    Java:                        NO\n",
      "    JNI:                         NO\n",
      "    Java wrappers:               NO\n",
      "    Java tests:                  NO\n",
      "\n",
      "  Install to:                    D:/build/opencv/4_10/install\n",
      "-----------------------------------------------------------------\n",
      "\n",
      "\n"
     ]
    }
   ],
   "source": [
    "#| echo: false\n",
    "#| output: false\n",
    "print(cv2.getBuildInformation())"
   ]
  },
  {
   "cell_type": "markdown",
   "id": "82a0c865",
   "metadata": {},
   "source": [
    "```python\n",
    "print(cv2.getBuildInformation())\n",
    "```\n",
    "::: {.callout-note collapse=true}\n",
    "## Expand to see an example of the output from `print(cv2.getBuildInformation())`\n",
    "```\n",
    "General configuration for OpenCV 4.10.0-dev =====================================\n",
    "  Version control:               4.10.0-49-g11c69bb171\n",
    "\n",
    "  Extra modules:\n",
    "    Location (extra):            D:/repos/opencv/contrib/modules\n",
    "    Version control (extra):     4.10.0-2-ga886fa5c\n",
    "\n",
    "  Platform:\n",
    "    Timestamp:                   2024-06-25T15:14:43Z\n",
    "    Host:                        Windows 10.0.22631 AMD64\n",
    "    CMake:                       3.29.5\n",
    "    CMake generator:             Ninja Multi-Config\n",
    "    CMake build tool:            D:/bin/ninja/ninja.exe\n",
    "    MSVC:                        1940\n",
    "    Configuration:               Debug Release\n",
    "\n",
    "  CPU/HW features:\n",
    "    Baseline:                    SSE SSE2 SSE3\n",
    "      requested:                 SSE3\n",
    "    Dispatched code generation:  SSE4_1 SSE4_2 FP16 AVX AVX2 AVX512_SKX\n",
    "      requested:                 SSE4_1 SSE4_2 AVX FP16 AVX2 AVX512_SKX\n",
    "      SSE4_1 (18 files):         + SSSE3 SSE4_1\n",
    "      SSE4_2 (2 files):          + SSSE3 SSE4_1 POPCNT SSE4_2\n",
    "      FP16 (1 files):            + SSSE3 SSE4_1 POPCNT SSE4_2 FP16 AVX\n",
    "      AVX (9 files):             + SSSE3 SSE4_1 POPCNT SSE4_2 AVX\n",
    "      AVX2 (38 files):           + SSSE3 SSE4_1 POPCNT SSE4_2 FP16 FMA3 AVX AVX2\n",
    "      AVX512_SKX (8 files):      + SSSE3 SSE4_1 POPCNT SSE4_2 FP16 FMA3 AVX AVX2 AVX_512F AVX512_COMMON AVX512_SKX\n",
    "\n",
    "  C/C++:\n",
    "    Built as dynamic libs?:      YES\n",
    "    C++ standard:                11\n",
    "    C++ Compiler:                C:/Program Files/Microsoft Visual Studio/2022/Community/VC/Tools/MSVC/14.40.33807/bin/Hostx64/x64/cl.exe  (ver 19.40.33811.0)\n",
    "    C++ flags (Release):         /DWIN32 /D_WINDOWS /W4 /GR  /D _CRT_SECURE_NO_DEPRECATE /D _CRT_NONSTDC_NO_DEPRECATE /D _SCL_SECURE_NO_WARNINGS /Gy /bigobj /Oi  /fp:precise /FS     /EHa /wd4127 /wd4251 /wd4324 /wd4275 /wd4512 /wd4589 /wd4819  /O2 /Ob2 /DNDEBUG  /Zi\n",
    "    C++ flags (Debug):           /DWIN32 /D_WINDOWS /W4 /GR  /D _CRT_SECURE_NO_DEPRECATE /D _CRT_NONSTDC_NO_DEPRECATE /D _SCL_SECURE_NO_WARNINGS /Gy /bigobj /Oi  /fp:precise /FS     /EHa /wd4127 /wd4251 /wd4324 /wd4275 /wd4512 /wd4589 /wd4819  /Zi /Ob0 /Od /RTC1 \n",
    "    C Compiler:                  C:/Program Files/Microsoft Visual Studio/2022/Community/VC/Tools/MSVC/14.40.33807/bin/Hostx64/x64/cl.exe\n",
    "    C flags (Release):           /DWIN32 /D_WINDOWS /W3  /D _CRT_SECURE_NO_DEPRECATE /D _CRT_NONSTDC_NO_DEPRECATE /D _SCL_SECURE_NO_WARNINGS /Gy /bigobj /Oi  /fp:precise /FS       /O2 /Ob2 /DNDEBUG  /Zi\n",
    "    C flags (Debug):             /DWIN32 /D_WINDOWS /W3  /D _CRT_SECURE_NO_DEPRECATE /D _CRT_NONSTDC_NO_DEPRECATE /D _SCL_SECURE_NO_WARNINGS /Gy /bigobj /Oi  /fp:precise /FS     /Zi /Ob0 /Od /RTC1 \n",
    "    Linker flags (Release):      /machine:x64  /INCREMENTAL:NO  /debug\n",
    "    Linker flags (Debug):        /machine:x64  /debug /INCREMENTAL \n",
    "    ccache:                      NO\n",
    "    Precompiled headers:         NO\n",
    "    Extra dependencies:          C:/Program Files/NVIDIA GPU Computing Toolkit/CUDA/v12.5/lib/x64/cudart_static.lib C:/Program Files/NVIDIA GPU Computing Toolkit/CUDA/v12.5/lib/x64/nppial.lib C:/Program Files/NVIDIA GPU Computing Toolkit/CUDA/v12.5/lib/x64/nppc.lib C:/Program Files/NVIDIA GPU Computing Toolkit/CUDA/v12.5/lib/x64/nppitc.lib C:/Program Files/NVIDIA GPU Computing Toolkit/CUDA/v12.5/lib/x64/nppig.lib C:/Program Files/NVIDIA GPU Computing Toolkit/CUDA/v12.5/lib/x64/nppist.lib C:/Program Files/NVIDIA GPU Computing Toolkit/CUDA/v12.5/lib/x64/nppidei.lib C:/Program Files/NVIDIA GPU Computing Toolkit/CUDA/v12.5/lib/x64/cublas.lib C:/Program Files/NVIDIA GPU Computing Toolkit/CUDA/v12.5/lib/x64/cublasLt.lib C:/Program Files/NVIDIA GPU Computing Toolkit/CUDA/v12.5/lib/x64/cufft.lib C:/Program Files/NVIDIA GPU Computing Toolkit/CUDA/v12.5/lib/x64/nppif.lib C:/Program Files/NVIDIA GPU Computing Toolkit/CUDA/v12.5/lib/x64/nppim.lib C:/Program Files/NVIDIA GPU Computing Toolkit/CUDA/v12.5/lib/x64/nppicc.lib\n",
    "    3rdparty dependencies:\n",
    "\n",
    "  OpenCV modules:\n",
    "    To be built:                 aruco bgsegm bioinspired calib3d ccalib core cudaarithm cudabgsegm cudacodec cudafeatures2d cudafilters cudaimgproc cudalegacy cudaobjdetect cudaoptflow cudastereo cudawarping cudev datasets dnn dnn_objdetect dnn_superres dpm face features2d flann fuzzy gapi hfs highgui img_hash imgcodecs imgproc intensity_transform line_descriptor mcc ml objdetect optflow phase_unwrapping photo plot python3 quality rapid reg rgbd saliency shape signal stereo stitching structured_light superres surface_matching text tracking ts video videoio videostab wechat_qrcode world xfeatures2d ximgproc xobjdetect xphoto\n",
    "    Disabled:                    -\n",
    "    Disabled by dependency:      -\n",
    "    Unavailable:                 alphamat cannops cvv freetype hdf java julia matlab ovis python2 python2 sfm viz\n",
    "    Applications:                tests perf_tests examples apps\n",
    "    Documentation:               doxygen python\n",
    "    Non-free algorithms:         NO\n",
    "\n",
    "  Windows RT support:            NO\n",
    "\n",
    "  GUI: \n",
    "    Win32 UI:                    YES\n",
    "    VTK support:                 NO\n",
    "\n",
    "  Media I/O: \n",
    "    ZLib:                        build (ver 1.3.1)\n",
    "    JPEG:                        build-libjpeg-turbo (ver 3.0.3-70)\n",
    "      SIMD Support Request:      YES\n",
    "      SIMD Support:              NO\n",
    "    WEBP:                        build (ver encoder: 0x020f)\n",
    "    PNG:                         build (ver 1.6.43)\n",
    "      SIMD Support Request:      YES\n",
    "      SIMD Support:              YES (Intel SSE)\n",
    "    TIFF:                        build (ver 42 - 4.6.0)\n",
    "    JPEG 2000:                   build (ver 2.5.0)\n",
    "    OpenEXR:                     build (ver 2.3.0)\n",
    "    HDR:                         YES\n",
    "    SUNRASTER:                   YES\n",
    "    PXM:                         YES\n",
    "    PFM:                         YES\n",
    "\n",
    "  Video I/O:\n",
    "    DC1394:                      NO\n",
    "    FFMPEG:                      YES (prebuilt binaries)\n",
    "      avcodec:                   YES (58.134.100)\n",
    "      avformat:                  YES (58.76.100)\n",
    "      avutil:                    YES (56.70.100)\n",
    "      swscale:                   YES (5.9.100)\n",
    "      avresample:                YES (4.0.0)\n",
    "    GStreamer:                   NO\n",
    "    DirectShow:                  YES\n",
    "    Media Foundation:            YES\n",
    "      DXVA:                      YES\n",
    "\n",
    "  Parallel framework:            Concurrency\n",
    "\n",
    "  Trace:                         YES (with Intel ITT)\n",
    "\n",
    "  Other third-party libraries:\n",
    "    Intel IPP:                   2021.11.0 [2021.11.0]\n",
    "           at:                   D:/build/opencv/4_10/3rdparty/ippicv/ippicv_win/icv\n",
    "    Intel IPP IW:                sources (2021.11.0)\n",
    "              at:                D:/build/opencv/4_10/3rdparty/ippicv/ippicv_win/iw\n",
    "    Lapack:                      NO\n",
    "    Eigen:                       NO\n",
    "    Custom HAL:                  NO\n",
    "    Protobuf:                    build (3.19.1)\n",
    "    Flatbuffers:                 builtin/3rdparty (23.5.9)\n",
    "\n",
    "  NVIDIA CUDA:                   YES (ver 12.5.40, CUFFT CUBLAS NVCUVID NVCUVENC)\n",
    "    NVIDIA GPU arch:             86\n",
    "    NVIDIA PTX archs:\n",
    "\n",
    "  cuDNN:                         YES (ver 9.2.0)\n",
    "\n",
    "  OpenCL:                        YES (NVD3D11)\n",
    "    Include path:                D:/repos/opencv/opencv/3rdparty/include/opencl/1.2\n",
    "    Link libraries:              Dynamic load\n",
    "\n",
    "  Python 3:\n",
    "    Interpreter:                 C:/Users/b/miniforge3/python.exe (ver 3.10.14)\n",
    "    Libraries:                   C:/Users/b/miniforge3/libs/python310.lib (ver 3.10.14)\n",
    "    Limited API:                 NO\n",
    "    numpy:                       C:/Users/b/miniforge3/Lib/site-packages/numpy/core/include (ver 1.26.4)\n",
    "    install path:                C:/Users/b/miniforge3/Lib/site-packages//cv2/python-3.10\n",
    "\n",
    "  Python (for build):            C:/Users/b/miniforge3/python.exe\n",
    "\n",
    "  Java:                          \n",
    "    ant:                         NO\n",
    "    Java:                        NO\n",
    "    JNI:                         NO\n",
    "    Java wrappers:               NO\n",
    "    Java tests:                  NO\n",
    "\n",
    "  Install to:                    D:/build/opencv/4_10/install\n",
    "-----------------------------------------------------------------\n",
    "```\n",
    ":::"
   ]
  },
  {
   "cell_type": "markdown",
   "id": "d2a1fa50",
   "metadata": {},
   "source": [
    "That was easy but what can I do if I'm not as good at guessing what's missing.  Next I will use the same example again to demonstrate how to find out which DLLs Python is searching for."
   ]
  },
  {
   "cell_type": "markdown",
   "id": "a19c2557",
   "metadata": {},
   "source": [
    "# Fix when path to missing DLL's is not known"
   ]
  },
  {
   "cell_type": "markdown",
   "id": "2e87bb2c-2894-4b7b-b6cd-cb1d831d71e4",
   "metadata": {},
   "source": [
    "To find which DLLs are missing, we can use [Process Monitor](https://learn.microsoft.com/en-us/sysinternals/downloads/procmon), a process monitoring tool for Windows. This tool enables us to see the names of the DLLs that Python is trying to load and the locations it's searching at runtime.\n",
    "\n",
    "Process Monitor produces a significant amount of output by default, so it's a good idea to filter out as much of this noise as you can. To do this, you can either:\n",
    "\n",
    " 1) Load this pre-configured [filter](https://github.com/cudawarped/opencv-experiments/raw/master/nbs/misc/ProcmonConfiguration.pmc) (as [suggested by LaurentBerger](https://github.com/opencv/opencv/issues/23372#issuecomment-1476180498)) using **\"File -> Import Configuration\"**, or\n",
    " 2) Manually add filter entries in the **\"Process Monitor Filter\"** window, which opens by default every time you launch the application.\n",
    "\n",
    "## Manually Adding Filter Entries\n",
    "\n",
    "Since we only want to view shared libraries accessed by the python.exe process, we can add the following filters to make our task easier:\n",
    "\n",
    "1. Process Name -> is -> python.exe\n",
    "2. Operation -> is -> CreateFile\n",
    "3. Result -> is -> NAME NOT FOUND\n",
    "4. Result -> is -> SUCCESS\n",
    "5. Path -> contains -> .dll\n",
    "6. Path -> contains -> .pyd (not striclty necessary, if this was missing the error would be \"ModuleNotFoundError: No module named 'cv2'\" however for completeness we'll include it)\n",
    "\n",
    "Your filter should now resemble the one in the screenshot below:"
   ]
  },
  {
   "cell_type": "markdown",
   "id": "f50e1a35-ed8e-4e1a-b0e9-5082141f1e74",
   "metadata": {},
   "source": [
    "![Process Monitor Filter](imgs/proc_mon_filter.png){fig-align=\"center\"}"
   ]
  },
  {
   "cell_type": "markdown",
   "id": "63df42c4-e002-43f1-9579-12ceb52f35dd",
   "metadata": {},
   "source": [
    "## Using Process Monitor to find the missin DLLs"
   ]
  },
  {
   "cell_type": "markdown",
   "id": "d48f1533-76da-4985-8c1d-beaa17ce7d81",
   "metadata": {},
   "source": [
    "Before continuing, it is advisable to close any other Python processes, as the output from these will pollute the main window of Process Monitor.\n",
    "\n",
    "Now, follow these steps:\n",
    "\n",
    " 1. Start Python.\n",
    " 2. Press the clear button (red trash can icon) in Process Monitor to clear any output generated during Python's initialization.\n",
    " 3. Import OpenCV (`import cv2`)"
   ]
  },
  {
   "cell_type": "markdown",
   "id": "c3f91f5d-b191-4d65-812a-19c215f9ccd9",
   "metadata": {},
   "source": [
    "To demonstrate how this works I have restarted Pyton to reset the paths we manually added with the above calls to `os.add_dll_directory()` and again run `import cv2`, resulting in the same error with the additional output from Process Monitor shown in the screen shot below:"
   ]
  },
  {
   "cell_type": "code",
   "execution_count": 1,
   "id": "11dae139",
   "metadata": {},
   "outputs": [
    {
     "ename": "ImportError",
     "evalue": "DLL load failed while importing cv2: The specified module could not be found.",
     "output_type": "error",
     "traceback": [
      "\u001b[1;31m---------------------------------------------------------------------------\u001b[0m",
      "\u001b[1;31mImportError\u001b[0m                               Traceback (most recent call last)",
      "Cell \u001b[1;32mIn[1], line 1\u001b[0m\n\u001b[1;32m----> 1\u001b[0m \u001b[38;5;28;01mimport\u001b[39;00m \u001b[38;5;21;01mcv2\u001b[39;00m\n",
      "\u001b[1;31mImportError\u001b[0m: DLL load failed while importing cv2: The specified module could not be found."
     ]
    }
   ],
   "source": [
    "import cv2"
   ]
  },
  {
   "cell_type": "markdown",
   "id": "844f62eb-7f59-4fa7-8f99-4e878fc0a667",
   "metadata": {},
   "source": [
    "![Process Monitor failed to locate **opencv_world4100.dll** and **opencv_img_hash_4100.dll**](imgs/proc_mon_failed_search_opencv.png){fig-align=\"center\"}"
   ]
  },
  {
   "cell_type": "markdown",
   "id": "007527f3-e9fc-4e72-8f64-f4b5ec99b887",
   "metadata": {},
   "source": [
    "This output shows that we successfully found **cv2.cp310-win_amd64.pyd** (otherwise we would see the \"ModuleNotFoundError: No module named 'cv2'\" error). However, it also reveals several unsuccessful attempts to locate **opencv_world4100.dll** and **opencv_img_hash_4100.dll** in different directories.\n",
    "\n",
    "::: {.callout-note collapse=false}\n",
    "\n",
    "Because there is a lot of output to sift through, if you can't immediately see which DLLs are missing, I recommend exporting and parsing the output from Process Monitor as described in the \"[Automatically search Process Monitor log for missing DLL](#automatically-search-process-monitor-log-for-missing-dll)\" section below.\n",
    "\n",
    ":::\n",
    "\n",
    "As before, we need to add the directory containing these missing DLLs to the Python DLL search path shown below:"
   ]
  },
  {
   "cell_type": "code",
   "execution_count": 2,
   "id": "db489147-2ea4-438e-bfeb-8faafabbdc92",
   "metadata": {},
   "outputs": [
    {
     "ename": "ImportError",
     "evalue": "DLL load failed while importing cv2: The specified module could not be found.",
     "output_type": "error",
     "traceback": [
      "\u001b[1;31m---------------------------------------------------------------------------\u001b[0m",
      "\u001b[1;31mImportError\u001b[0m                               Traceback (most recent call last)",
      "Cell \u001b[1;32mIn[2], line 3\u001b[0m\n\u001b[0;32m      1\u001b[0m \u001b[38;5;28;01mimport\u001b[39;00m \u001b[38;5;21;01mos\u001b[39;00m\n\u001b[0;32m      2\u001b[0m os\u001b[38;5;241m.\u001b[39madd_dll_directory(\u001b[38;5;124mr\u001b[39m\u001b[38;5;124m'\u001b[39m\u001b[38;5;124mD:\u001b[39m\u001b[38;5;124m\\\u001b[39m\u001b[38;5;124mbuild\u001b[39m\u001b[38;5;124m\\\u001b[39m\u001b[38;5;124mopencv\u001b[39m\u001b[38;5;124m\\\u001b[39m\u001b[38;5;124m4_10\u001b[39m\u001b[38;5;124m\\\u001b[39m\u001b[38;5;124minstall\u001b[39m\u001b[38;5;124m\\\u001b[39m\u001b[38;5;124mx64\u001b[39m\u001b[38;5;124m\\\u001b[39m\u001b[38;5;124mvc17\u001b[39m\u001b[38;5;124m\\\u001b[39m\u001b[38;5;124mbin\u001b[39m\u001b[38;5;124m'\u001b[39m)\n\u001b[1;32m----> 3\u001b[0m \u001b[38;5;28;01mimport\u001b[39;00m \u001b[38;5;21;01mcv2\u001b[39;00m\n",
      "\u001b[1;31mImportError\u001b[0m: DLL load failed while importing cv2: The specified module could not be found."
     ]
    }
   ],
   "source": [
    "import os\n",
    "os.add_dll_directory(r'D:\\build\\opencv\\4_10\\install\\x64\\vc17\\bin')\n",
    "import cv2"
   ]
  },
  {
   "cell_type": "markdown",
   "id": "f081282d-4a50-4d7e-af6b-fee7cced09df",
   "metadata": {},
   "source": [
    "![Process Monitor failed to locate **nppial64_12.dll** and **nppc64_12.dll**](imgs/proc_mon_failed_search_nvidia.png){fig-align=\"center\"}"
   ]
  },
  {
   "cell_type": "markdown",
   "id": "90e9fdc7-f159-4c00-b80a-2329b39dbdb7",
   "metadata": {},
   "source": [
    "After adding the previously missing DLLs to the search path, Process Monitor now shows that **opencv_world4100.dll** and **opencv_img_hash_4100.dll** were located successfully after a few attempts. However, we're now missing **nppial64_12.dll** and **nppc64_12.dll**, which are part of the CUDA SDK.\n",
    "To resolve this, we need to add the CUDA SDK binary directory to the Python DLL search path. Once we do this, the call to `import cv2` will be successful.\n",
    "\n",
    "If we were still seeing the same error after this step, we would simply repeat the process:\n",
    "\n",
    " 1. Examine the output in Process Monitor\n",
    " 2. Identify any remaining missing DLLs\n",
    " 3. Add the directories containing these missing DLLs to the Python DLL search path"
   ]
  },
  {
   "cell_type": "markdown",
   "id": "e629b2fa",
   "metadata": {},
   "source": [
    "# Automatically search Process Monitor log for missing DLL"
   ]
  },
  {
   "cell_type": "markdown",
   "id": "11d8bf37",
   "metadata": {},
   "source": [
    "The output from Process Monitor can be difficult to sift through. To help with this, we can export the output to a .csv file and then parse it using the helper function below.\n",
    "\n",
    "To export the log:\n",
    "\n",
    " 1. Go to File -> Save\n",
    " 2. Select Format -> Comma-Separated Values (CSV)\n",
    " 3. Enter the desired location for the exported file under Path\n",
    " 4. Click Save\n",
    "\n",
    "Below is an examaple of a Python function which will parse the exported CSV and print the names of missing DLLs:"
   ]
  },
  {
   "cell_type": "code",
   "execution_count": 3,
   "id": "6223f2af",
   "metadata": {},
   "outputs": [],
   "source": [
    "import csv\n",
    "from pathlib import Path\n",
    "import re\n",
    "\n",
    "def print_missing_libs(process_mon_export_file_path):\n",
    "    shared_libs = {}\n",
    "    with open(process_mon_export_file_path, mode='r') as file:\n",
    "        csv_reader = csv.reader(file, delimiter=',')\n",
    "        for row in csv_reader:\n",
    "            key = Path(row[3]).name.lower()\n",
    "            val = row[4]\n",
    "            if (key not in shared_libs or key in shared_libs and shared_libs[key] != 'SUCCESS'):\n",
    "                shared_libs[key] = val\n",
    "    \n",
    "    pattern = re.compile(r\"__init__\")\n",
    "    for entry, status in shared_libs.items():\n",
    "        if(status == 'NAME NOT FOUND' and not re.search(pattern, entry)):\n",
    "            print(entry)    "
   ]
  },
  {
   "cell_type": "markdown",
   "id": "bf276111-5530-43b9-8d05-c7fdbd01990f",
   "metadata": {},
   "source": [
    "Example usage and output when Python cannot locate the CUDA SDK :"
   ]
  },
  {
   "cell_type": "code",
   "execution_count": 4,
   "id": "2b34d3f1-2ceb-44b8-93ec-f301342d9e5c",
   "metadata": {},
   "outputs": [
    {
     "name": "stdout",
     "output_type": "stream",
     "text": [
      "nppial64_12.dll\n",
      "nppc64_12.dll\n"
     ]
    }
   ],
   "source": [
    "print_missing_libs(r'D:\\bin\\ProcessMonitor\\Logfile.CSV')"
   ]
  },
  {
   "cell_type": "code",
   "execution_count": null,
   "id": "ff71db3d",
   "metadata": {},
   "outputs": [],
   "source": []
  }
 ],
 "metadata": {
  "kernelspec": {
   "display_name": "Python 3 (ipykernel)",
   "language": "python",
   "name": "python3"
  },
  "language_info": {
   "codemirror_mode": {
    "name": "ipython",
    "version": 3
   },
   "file_extension": ".py",
   "mimetype": "text/x-python",
   "name": "python",
   "nbconvert_exporter": "python",
   "pygments_lexer": "ipython3",
   "version": "3.10.14"
  },
  "toc": {
   "base_numbering": 1,
   "nav_menu": {},
   "number_sections": true,
   "sideBar": true,
   "skip_h1_title": false,
   "title_cell": "Table of Contents",
   "title_sidebar": "Contents",
   "toc_cell": false,
   "toc_position": {},
   "toc_section_display": true,
   "toc_window_display": false
  },
  "varInspector": {
   "cols": {
    "lenName": 16,
    "lenType": 16,
    "lenVar": 40
   },
   "kernels_config": {
    "python": {
     "delete_cmd_postfix": "",
     "delete_cmd_prefix": "del ",
     "library": "var_list.py",
     "varRefreshCmd": "print(var_dic_list())"
    },
    "r": {
     "delete_cmd_postfix": ") ",
     "delete_cmd_prefix": "rm(",
     "library": "var_list.r",
     "varRefreshCmd": "cat(var_dic_list()) "
    }
   },
   "types_to_exclude": [
    "module",
    "function",
    "builtin_function_or_method",
    "instance",
    "_Feature"
   ],
   "window_display": false
  }
 },
 "nbformat": 4,
 "nbformat_minor": 5
}
