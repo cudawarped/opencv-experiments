{
 "cells": [
  {
   "cell_type": "markdown",
   "id": "1545a406",
   "metadata": {},
   "source": [
    "# cv.cudacodec"
   ]
  },
  {
   "cell_type": "code",
   "execution_count": 11,
   "id": "d3f8a4b0",
   "metadata": {},
   "outputs": [],
   "source": [
    "import cv2 as cv\n",
    "import os\n",
    "import time\n",
    "import numpy as np\n",
    "LINUX = False\n",
    "import logging\n",
    "import sys\n",
    "date_strftime_format = \"%Y-%m-%y %H:%M:%S\"\n",
    "logging.basicConfig(stream=sys.stdout, level=logging.INFO, format=\"%(asctime)s %(message)s\", datefmt=date_strftime_format)"
   ]
  },
  {
   "cell_type": "markdown",
   "id": "33f348a4",
   "metadata": {},
   "source": [
    "Quick example comparing cv.cudacodec.VideoReader/VideoWriter with cv.VideoCapture/VideoWriter on Windows 11 and Ubuntu using python wheels from https://github.com/cudawarped/opencv-python-cuda-wheels/releases/tag/4.6.0.20221102.\n",
    "\n",
    "GPU: Mobile RTX 3070 Ti (5th gen decoder & 7th gen encoder)\n",
    "\n",
    "CPU: i7-12700H\n",
    "\n",
    "Results vary between windows and linux even though ubuntu is on wsl using the same driver through WDDM.  Hardware CPU decoding wasn't available on Linux and the FFMpeg libs were not built with nvcuvid support"
   ]
  },
  {
   "cell_type": "code",
   "execution_count": 2,
   "id": "21825e40",
   "metadata": {},
   "outputs": [],
   "source": [
    "# taken from https://test-videos.co.uk/jellyfish/mp4-h264\n",
    "if(LINUX):\n",
    "    vid_path_in_4k = '/home/b/media/jellyfish-120-mbps-4k-uhd-h264.mkv'\n",
    "    vid_path_out_4k = '/home/b/media/jelly_4k.h264'\n",
    "    vid_path_out_1080p = '/home/b/media/jelly.h264'\n",
    "    vid_path_out_1080p_mp4 = '/home/b/media/jelly.mp4'\n",
    "else:\n",
    "    ## decode 4k, then transcode, then encode bench\n",
    "    vid_path_in_4k = os.environ['USERPROFILE'] + \"/Videos/LG_New_York_HDR_UHD_4K_Demo.ts\"\n",
    "    vid_path_in_out_4k = os.environ['USERPROFILE'] + '/Videos/jelly_4k_src.hevc'\n",
    "    vid_path_out_4k = os.environ['USERPROFILE'] + '/Videos/jelly_4k.hevc'\n",
    "    #vid_path_out_1080p = os.environ['USERPROFILE'] + '/Videos/jelly.h264'\n",
    "    #vid_path_out_1080p_mp4 = os.environ['USERPROFILE'] + '/Videos/jelly.mp4'"
   ]
  },
  {
   "cell_type": "code",
   "execution_count": 3,
   "id": "43ae6af1",
   "metadata": {},
   "outputs": [
    {
     "name": "stdout",
     "output_type": "stream",
     "text": [
      "\n",
      "General configuration for OpenCV 4.6.0-dev =====================================\n",
      "  Version control:               4.6.0-508-g21133a2091\n",
      "\n",
      "  Extra modules:\n",
      "    Location (extra):            D:/repos/opencv/opencv-python/opencv_contrib/modules\n",
      "    Version control (extra):     4.6.0-106-g9d84eaed\n",
      "\n",
      "  Platform:\n",
      "    Timestamp:                   2022-11-07T10:18:54Z\n",
      "    Host:                        Windows 10.0.22000 AMD64\n",
      "    CMake:                       3.24.1\n",
      "    CMake generator:             Ninja\n",
      "    CMake build tool:            C:/PROGRA~1/MICROS~2/2022/COMMUN~1/Common7/IDE/COMMON~1/MICROS~1/CMake/Ninja/ninja.exe\n",
      "    MSVC:                        1933\n",
      "    Configuration:               Release\n",
      "\n",
      "  CPU/HW features:\n",
      "    Baseline:                    SSE SSE2 SSE3\n",
      "      requested:                 SSE3\n",
      "    Dispatched code generation:  SSE4_1 SSE4_2 FP16 AVX AVX2 AVX512_SKX\n",
      "      requested:                 SSE4_1 SSE4_2 AVX FP16 AVX2 AVX512_SKX\n",
      "      SSE4_1 (16 files):         + SSSE3 SSE4_1\n",
      "      SSE4_2 (1 files):          + SSSE3 SSE4_1 POPCNT SSE4_2\n",
      "      FP16 (0 files):            + SSSE3 SSE4_1 POPCNT SSE4_2 FP16 AVX\n",
      "      AVX (4 files):             + SSSE3 SSE4_1 POPCNT SSE4_2 AVX\n",
      "      AVX2 (32 files):           + SSSE3 SSE4_1 POPCNT SSE4_2 FP16 FMA3 AVX AVX2\n",
      "      AVX512_SKX (5 files):      + SSSE3 SSE4_1 POPCNT SSE4_2 FP16 FMA3 AVX AVX2 AVX_512F AVX512_COMMON AVX512_SKX\n",
      "\n",
      "  C/C++:\n",
      "    Built as dynamic libs?:      NO\n",
      "    C++ standard:                11\n",
      "    C++ Compiler:                C:/Program Files/Microsoft Visual Studio/2022/Community/VC/Tools/MSVC/14.33.31629/bin/Hostx86/x64/cl.exe  (ver 19.33.31629.0)\n",
      "    C++ flags (Release):         /DWIN32 /D_WINDOWS /W4 /GR  /D _CRT_SECURE_NO_DEPRECATE /D _CRT_NONSTDC_NO_DEPRECATE /D _SCL_SECURE_NO_WARNINGS /Gy /bigobj /Oi  /fp:precise /FS     /EHa /wd4127 /wd4251 /wd4324 /wd4275 /wd4512 /wd4589 /wd4819  /MT /O2 /Ob2 /DNDEBUG \n",
      "    C++ flags (Debug):           /DWIN32 /D_WINDOWS /W4 /GR  /D _CRT_SECURE_NO_DEPRECATE /D _CRT_NONSTDC_NO_DEPRECATE /D _SCL_SECURE_NO_WARNINGS /Gy /bigobj /Oi  /fp:precise /FS     /EHa /wd4127 /wd4251 /wd4324 /wd4275 /wd4512 /wd4589 /wd4819  /MTd /Zi /Ob0 /Od /RTC1 \n",
      "    C Compiler:                  C:/Program Files/Microsoft Visual Studio/2022/Community/VC/Tools/MSVC/14.33.31629/bin/Hostx86/x64/cl.exe\n",
      "    C flags (Release):           /DWIN32 /D_WINDOWS /W3  /D _CRT_SECURE_NO_DEPRECATE /D _CRT_NONSTDC_NO_DEPRECATE /D _SCL_SECURE_NO_WARNINGS /Gy /bigobj /Oi  /fp:precise /FS       /MT /O2 /Ob2 /DNDEBUG \n",
      "    C flags (Debug):             /DWIN32 /D_WINDOWS /W3  /D _CRT_SECURE_NO_DEPRECATE /D _CRT_NONSTDC_NO_DEPRECATE /D _SCL_SECURE_NO_WARNINGS /Gy /bigobj /Oi  /fp:precise /FS     /MTd /Zi /Ob0 /Od /RTC1 \n",
      "    Linker flags (Release):      /machine:x64  /NODEFAULTLIB:atlthunk.lib /INCREMENTAL:NO  /NODEFAULTLIB:libcmtd.lib /NODEFAULTLIB:libcpmtd.lib /NODEFAULTLIB:msvcrtd.lib\n",
      "    Linker flags (Debug):        /machine:x64  /NODEFAULTLIB:atlthunk.lib /debug /INCREMENTAL  /NODEFAULTLIB:libcmt.lib /NODEFAULTLIB:libcpmt.lib /NODEFAULTLIB:msvcrt.lib\n",
      "    ccache:                      NO\n",
      "    Precompiled headers:         NO\n",
      "    Extra dependencies:          wsock32 comctl32 gdi32 ole32 setupapi ws2_32 C:/Program Files/NVIDIA GPU Computing Toolkit/CUDA/v11.8/lib/x64/cuda.lib C:/Program Files/NVIDIA GPU Computing Toolkit/CUDA/v11.8/lib/x64/nvcuvid.lib C:/Program Files/NVIDIA GPU Computing Toolkit/CUDA/v11.8/lib/x64/nvencodeapi.lib Iconv::Iconv cudart_static.lib nppc.lib nppial.lib nppicc.lib nppidei.lib nppif.lib nppig.lib nppim.lib nppist.lib nppisu.lib nppitc.lib npps.lib cublas.lib cudnn.lib cufft.lib -LIBPATH:\"C:/Program Files/NVIDIA GPU Computing Toolkit/CUDA/v11.8/lib/x64\"\n",
      "    3rdparty dependencies:       libprotobuf ade ittnotify libjpeg-turbo libwebp libpng libtiff libopenjp2 IlmImf zlib quirc ippiw ippicv\n",
      "\n",
      "  OpenCV modules:\n",
      "    To be built:                 aruco barcode bgsegm bioinspired calib3d ccalib core cudaarithm cudabgsegm cudacodec cudafeatures2d cudafilters cudaimgproc cudalegacy cudaobjdetect cudaoptflow cudastereo cudawarping cudev datasets dnn dnn_objdetect dnn_superres dpm face features2d flann fuzzy gapi hfs highgui img_hash imgcodecs imgproc intensity_transform line_descriptor mcc ml objdetect optflow phase_unwrapping photo plot python3 quality rapid reg rgbd saliency shape stereo stitching structured_light superres surface_matching text tracking video videoio videostab wechat_qrcode xfeatures2d ximgproc xobjdetect xphoto\n",
      "    Disabled:                    world\n",
      "    Disabled by dependency:      -\n",
      "    Unavailable:                 alphamat cvv freetype hdf java julia matlab ovis python2 sfm ts viz\n",
      "    Applications:                -\n",
      "    Documentation:               NO\n",
      "    Non-free algorithms:         NO\n",
      "\n",
      "  Windows RT support:            NO\n",
      "\n",
      "  GUI:                           WIN32UI\n",
      "    Win32 UI:                    YES\n",
      "    VTK support:                 NO\n",
      "\n",
      "  Media I/O: \n",
      "    ZLib:                        build (ver 1.2.12)\n",
      "    JPEG:                        build-libjpeg-turbo (ver 2.1.3-62)\n",
      "      SIMD Support Request:      YES\n",
      "      SIMD Support:              NO\n",
      "    WEBP:                        build (ver encoder: 0x020f)\n",
      "    PNG:                         build (ver 1.6.37)\n",
      "    TIFF:                        build (ver 42 - 4.2.0)\n",
      "    JPEG 2000:                   build (ver 2.4.0)\n",
      "    OpenEXR:                     build (ver 2.3.0)\n",
      "    HDR:                         YES\n",
      "    SUNRASTER:                   YES\n",
      "    PXM:                         YES\n",
      "    PFM:                         YES\n",
      "\n",
      "  Video I/O:\n",
      "    DC1394:                      NO\n",
      "    FFMPEG:                      YES (prebuilt binaries)\n",
      "      avcodec:                   YES (58.134.100)\n",
      "      avformat:                  YES (58.76.100)\n",
      "      avutil:                    YES (56.70.100)\n",
      "      swscale:                   YES (5.9.100)\n",
      "      avresample:                YES (4.0.0)\n",
      "    GStreamer:                   YES (1.20.3)\n",
      "    DirectShow:                  YES\n",
      "    Media Foundation:            YES\n",
      "      DXVA:                      YES\n",
      "\n",
      "  Parallel framework:            Concurrency\n",
      "\n",
      "  Trace:                         YES (with Intel ITT)\n",
      "\n",
      "  Other third-party libraries:\n",
      "    Intel IPP:                   2020.0.0 Gold [2020.0.0]\n",
      "           at:                   D:/repos/opencv/opencv-python/_skbuild/win-amd64-3.9/cmake-build/3rdparty/ippicv/ippicv_win/icv\n",
      "    Intel IPP IW:                sources (2020.0.0)\n",
      "              at:                D:/repos/opencv/opencv-python/_skbuild/win-amd64-3.9/cmake-build/3rdparty/ippicv/ippicv_win/iw\n",
      "    Lapack:                      NO\n",
      "    Eigen:                       NO\n",
      "    Custom HAL:                  NO\n",
      "    Protobuf:                    build (3.19.1)\n",
      "\n",
      "  NVIDIA CUDA:                   YES (ver 11.8, CUFFT CUBLAS NVCUVID NVCUVENC FAST_MATH)\n",
      "    NVIDIA GPU arch:             35 37 50 52 60 61 70 75 80 86\n",
      "    NVIDIA PTX archs:            86\n",
      "\n",
      "  cuDNN:                         YES (ver 8.6.0)\n",
      "\n",
      "  OpenCL:                        YES (NVD3D11)\n",
      "    Include path:                D:/repos/opencv/opencv-python/opencv/3rdparty/include/opencl/1.2\n",
      "    Link libraries:              Dynamic load\n",
      "\n",
      "  Python 3:\n",
      "    Interpreter:                 C:/Users/b/mambaforge/python.exe (ver 3.9.13)\n",
      "    Libraries:                   C:/Users/b/mambaforge/libs/python39.lib (ver 3.9.13)\n",
      "    numpy:                       C:/Users/b/mambaforge/lib/site-packages/numpy/core/include (ver 1.23.3)\n",
      "    install path:                python/cv2/python-3\n",
      "\n",
      "  Python (for build):            C:/Users/b/mambaforge/python.exe\n",
      "\n",
      "  Java:                          \n",
      "    ant:                         NO\n",
      "    JNI:                         NO\n",
      "    Java wrappers:               NO\n",
      "    Java tests:                  NO\n",
      "\n",
      "  Install to:                    d:/repos/opencv/opencv-python/_skbuild/win-amd64-3.9/cmake-install\n",
      "-----------------------------------------------------------------\n",
      "\n",
      "\n"
     ]
    }
   ],
   "source": [
    "print(cv.getBuildInformation())"
   ]
  },
  {
   "cell_type": "code",
   "execution_count": 4,
   "id": "d7ef32ba",
   "metadata": {},
   "outputs": [],
   "source": [
    "def cvFormat(color_format = cv.cudacodec.COLOR_FORMAT_BGRA):\n",
    "    assert ((color_format == cv.cudacodec.COLOR_FORMAT_BGR) | (color_format == cv.cudacodec.COLOR_FORMAT_BGRA) | \n",
    "            (color_format == cv.cudacodec.COLOR_FORMAT_GRAY) | (color_format == cv.cudacodec.COLOR_FORMAT_NV_NV12)), \\\n",
    "            f'color_format {color_format} not supported!'\n",
    "    if(color_format == cv.cudacodec.COLOR_FORMAT_BGRA): return cv.CV_8UC4\n",
    "    elif((color_format == cv.cudacodec.COLOR_FORMAT_NV_NV12) | (color_format == cv.cudacodec.COLOR_FORMAT_GRAY)): return cv.CV_8UC1\n",
    "    else: return cv.CV_8UC3"
   ]
  },
  {
   "cell_type": "markdown",
   "id": "ac450ca8",
   "metadata": {
    "heading_collapsed": true
   },
   "source": [
    "## Transcoding Example"
   ]
  },
  {
   "cell_type": "markdown",
   "id": "cfdc3d19",
   "metadata": {
    "hidden": true
   },
   "source": [
    "Transcode from 1080p h264 to to 4k hevc for decoding benchmarks"
   ]
  },
  {
   "cell_type": "markdown",
   "id": "9a66cd2c",
   "metadata": {
    "hidden": true
   },
   "source": [
    "### `cv::cudacodec::VideoReader` -> `cv::cudacodec::VideoWriter`"
   ]
  },
  {
   "cell_type": "code",
   "execution_count": 22,
   "id": "b00f632a",
   "metadata": {
    "hidden": true
   },
   "outputs": [],
   "source": [
    "def transcode(vid_path_in, vid_path_out, codec = cv.cudacodec.H264, params = cv.cudacodec_VideoReaderInitParams(), \n",
    "              color_format = cv.cudacodec.COLOR_FORMAT_BGRA):\n",
    "    stream = cv.cuda.Stream()\n",
    "    reader = cv.cudacodec.createVideoReader(vid_path_in,params=params)\n",
    "    reader.set(color_format)\n",
    "    format = reader.format()\n",
    "    if params.targetSz != (0,0):\n",
    "        w,h = params.targetSz   \n",
    "    else:\n",
    "        w,h = (format.width,format.height)\n",
    "        h  = (np.ceil(h/16)*16).astype(int)\n",
    "    \n",
    "    h_decode = h if color_format != cv.cudacodec.COLOR_FORMAT_NV_NV12 else int(h*1.5)\n",
    "    frame = cv.cuda.GpuMat(h_decode,w,cvFormat(color_format))\n",
    "    writer = cv.cudacodec.createVideoWriter(vid_path_out,[w,h],codec,colorFormat = color_format,stream=stream)\n",
    "    n_frames = 0\n",
    "    start = time.time()    \n",
    "    ret, _ = reader.nextFrame(frame,stream)\n",
    "    while(ret):\n",
    "        n_frames += 1\n",
    "        writer.write(frame)\n",
    "        ret, _ = reader.nextFrame(frame,stream)\n",
    "    writer.release()\n",
    "    end = time.time()\n",
    "    return n_frames/(end - start), n_frames;"
   ]
  },
  {
   "cell_type": "markdown",
   "id": "2eab816e",
   "metadata": {
    "hidden": true
   },
   "source": [
    "#### First convert 1080p(h264) to 1080p(hevc) for benchmarking"
   ]
  },
  {
   "cell_type": "markdown",
   "id": "e4d5a36c",
   "metadata": {
    "hidden": true
   },
   "source": [
    "##### Windows 11"
   ]
  },
  {
   "cell_type": "code",
   "execution_count": 19,
   "id": "c2e2a129",
   "metadata": {
    "hidden": true
   },
   "outputs": [
    {
     "name": "stdout",
     "output_type": "stream",
     "text": [
      "Windows 11: Transcoded 300 frames from 1080p(h264) to 4k(hevc) at fps= 98.50\n"
     ]
    }
   ],
   "source": [
    "params = cv.cudacodec_VideoReaderInitParams()\n",
    "params.targetSz = (3840,2160)\n",
    "params.minNumDecodeSurfaces = 10 # maximum decoding performance\n",
    "fps, n_frames = transcode(vid_path_in_1080p,vid_path_in_out_4k,cv.cudacodec.HEVC,params)\n",
    "print(f'Windows 11: Transcoded {n_frames} frames from 1080p(h264) to 4k(hevc) at fps= {fps:.2f}')"
   ]
  },
  {
   "cell_type": "markdown",
   "id": "4a964f42",
   "metadata": {
    "hidden": true
   },
   "source": [
    "#### Bench"
   ]
  },
  {
   "cell_type": "markdown",
   "id": "7ec4d947",
   "metadata": {
    "hidden": true
   },
   "source": [
    "Benchmark 4k transcoding - timings will be slightly optimistic because decoding begins as soon as the VideoWriter is created"
   ]
  },
  {
   "cell_type": "markdown",
   "id": "ff53a4c1",
   "metadata": {
    "hidden": true
   },
   "source": [
    "##### Windows 11"
   ]
  },
  {
   "cell_type": "code",
   "execution_count": 21,
   "id": "511fd755",
   "metadata": {
    "hidden": true
   },
   "outputs": [
    {
     "name": "stdout",
     "output_type": "stream",
     "text": [
      "Windows 11 (warmup): Transcoded 300 frames from 1080p(hevc) to 1080p(h264) at fps = 269.87\n",
      "Windows 11: Transcoded 300 frames from 1080p(hevc) to 1080p(h264) at fps = 427.85\n"
     ]
    }
   ],
   "source": [
    "params = cv.cudacodec_VideoReaderInitParams()\n",
    "params.targetSz = (1920,1080)\n",
    "params.minNumDecodeSurfaces = 30 # maximum decoding performance\n",
    "fps, n_frames = transcode(vid_path_in_out_4k,vid_path_out_4k,cv.cudacodec.H264,params,cv.cudacodec.COLOR_FORMAT_NV_NV12)\n",
    "print(f'Windows 11 (warmup): Transcoded {n_frames} frames from 1080p(hevc) to 1080p(h264) at fps = {fps:.2f}')\n",
    "fps, n_frames = transcode(vid_path_in_out_4k,vid_path_out_4k,cv.cudacodec.H264,params,cv.cudacodec.COLOR_FORMAT_NV_NV12)\n",
    "print(f'Windows 11: Transcoded {n_frames} frames from 1080p(hevc) to 1080p(h264) at fps = {fps:.2f}')"
   ]
  },
  {
   "cell_type": "markdown",
   "id": "595367db",
   "metadata": {
    "hidden": true
   },
   "source": [
    "##### Ubuntu 20.04 LTS WSL"
   ]
  },
  {
   "cell_type": "code",
   "execution_count": 12,
   "id": "61ba98c6",
   "metadata": {
    "hidden": true
   },
   "outputs": [
    {
     "name": "stdout",
     "output_type": "stream",
     "text": [
      "Ubuntu 20.04 LTS WSL: Transcoded 900 frames from 1080p(hevc) to 1080p(h264) at fps = 537.07\n"
     ]
    }
   ],
   "source": [
    "params = cv.cudacodec_VideoReaderInitParams()\n",
    "params.targetSz = (1920,1080)\n",
    "params.minNumDecodeSurfaces = 30 # maximum decoding performance\n",
    "fps, n_frames = transcode(vid_path_in_out_1080p,vid_path_out_1080p,cv.cudacodec.H264,params,cv.cudacodec.COLOR_FORMAT_NV_NV12)\n",
    "print(f'Ubuntu 20.04 LTS WSL: Transcoded {n_frames} frames from 1080p(hevc) to 1080p(h264) at fps = {fps:.2f}')"
   ]
  },
  {
   "cell_type": "markdown",
   "id": "5b7fe364",
   "metadata": {
    "hidden": true
   },
   "source": [
    "### `cv::VideoCapture` -> `cv::cudacodec::VideoWriter`"
   ]
  },
  {
   "cell_type": "code",
   "execution_count": 13,
   "id": "fd4961ba",
   "metadata": {
    "hidden": true
   },
   "outputs": [],
   "source": [
    "def transcode_cpu_to_gpu(vid_path_in, vid_path_out, codec = cv.cudacodec.H264):\n",
    "    cap = cv.VideoCapture(vid_path_in,cv.CAP_FFMPEG,(cv.CAP_PROP_HW_ACCELERATION, cv.VIDEO_ACCELERATION_NONE))\n",
    "    w = int(cap.get(cv.CAP_PROP_FRAME_WIDTH))\n",
    "    h = int(cap.get(cv.CAP_PROP_FRAME_HEIGHT))\n",
    "    frame = np.zeros((h,w,3),dtype='uint8')\n",
    "    writer = cv.cudacodec.createVideoWriter(vid_path_out,[w,h],codec,cv.cudacodec.COLOR_FORMAT_BGR)\n",
    "    n_frames = 0\n",
    "    start = time.time()\n",
    "    ret, _ = cap.read(frame)\n",
    "    while(ret):\n",
    "        n_frames += 1\n",
    "        writer.write(frame)\n",
    "        ret, _ = cap.read(frame)\n",
    "    writer.release()\n",
    "    end = time.time()\n",
    "    return n_frames/(end - start), n_frames;"
   ]
  },
  {
   "cell_type": "markdown",
   "id": "468c1f61",
   "metadata": {
    "hidden": true
   },
   "source": [
    "##### Windows 11"
   ]
  },
  {
   "cell_type": "code",
   "execution_count": 14,
   "id": "1c19d9aa",
   "metadata": {
    "hidden": true
   },
   "outputs": [
    {
     "name": "stdout",
     "output_type": "stream",
     "text": [
      "Windows 11 (warmup): Transcoded 900 frames from 1080p(hevc) to 1080p(h264) at fps = 194.77\n",
      "Windows 11: Transcoded 900 frames from 1080p(hevc) to 1080p(h264) at fps = 173.61\n"
     ]
    }
   ],
   "source": [
    "fps, n_frames = transcode_cpu_to_gpu(vid_path_in_out_1080p,vid_path_out_1080p,cv.cudacodec.H264)\n",
    "print(f'Windows 11 (warmup): Transcoded {n_frames} frames from 1080p(hevc) to 1080p(h264) at fps = {fps:.2f}')\n",
    "fps, n_frames = transcode_cpu_to_gpu(vid_path_in_out_1080p,vid_path_out_1080p,cv.cudacodec.H264)\n",
    "print(f'Windows 11: Transcoded {n_frames} frames from 1080p(hevc) to 1080p(h264) at fps = {fps:.2f}')"
   ]
  },
  {
   "cell_type": "markdown",
   "id": "f0cfb7fa",
   "metadata": {
    "hidden": true
   },
   "source": [
    "##### Ubuntu 20.04 LTS WSL"
   ]
  },
  {
   "cell_type": "code",
   "execution_count": 15,
   "id": "c563f5ac",
   "metadata": {
    "hidden": true
   },
   "outputs": [
    {
     "name": "stdout",
     "output_type": "stream",
     "text": [
      "Ubuntu 20.04 LTS WSL: Transcoded 900 frames from 1080p(hevc) to 1080p(h264) at fps = 147.78\n"
     ]
    }
   ],
   "source": [
    "fps, n_frames = transcode_cpu_to_gpu(vid_path_in_out_1080p,vid_path_out_1080p,cv.cudacodec.H264)\n",
    "print(f'Ubuntu 20.04 LTS WSL: Transcoded {n_frames} frames from 1080p(hevc) to 1080p(h264) at fps = {fps:.2f}')"
   ]
  },
  {
   "cell_type": "markdown",
   "id": "1f7c9033",
   "metadata": {
    "hidden": true
   },
   "source": [
    "### `cv::VideoCapture` -> `cv::VideoCapture`"
   ]
  },
  {
   "cell_type": "markdown",
   "id": "d54dbc48",
   "metadata": {
    "hidden": true
   },
   "source": [
    "Hardware acceleration not available on Linux"
   ]
  },
  {
   "cell_type": "code",
   "execution_count": 16,
   "id": "75263318",
   "metadata": {
    "hidden": true
   },
   "outputs": [],
   "source": [
    "def transcode_videocapture(vid_path_in, vid_path_out, hw_decode = False, hw_encode = False):   \n",
    "    props_decode  = (cv.CAP_PROP_HW_ACCELERATION, cv.VIDEO_ACCELERATION_ANY) if hw_decode else (cv.CAP_PROP_HW_ACCELERATION, cv.VIDEO_ACCELERATION_NONE)\n",
    "    props_encode  = (cv.VIDEOWRITER_PROP_HW_ACCELERATION, cv.VIDEO_ACCELERATION_ANY) if hw_encode else (cv.VIDEOWRITER_PROP_HW_ACCELERATION, cv.VIDEO_ACCELERATION_NONE)\n",
    "    cap = cv.VideoCapture(vid_path_in,cv.CAP_FFMPEG, props_decode)\n",
    "    #fourcc = cv.VideoWriter_fourcc(*\"mp4v\")\n",
    "    fourcc = cv.VideoWriter_fourcc(*\"avc1\")\n",
    "    fps = cap.get(cv.CAP_PROP_FPS)\n",
    "    width = int(cap.get(cv.CAP_PROP_FRAME_WIDTH))\n",
    "    height = int(cap.get(cv.CAP_PROP_FRAME_HEIGHT))\n",
    "    writer = cv.VideoWriter(vid_path_out, fourcc, fps, (width,height), props_encode)\n",
    "    frame = np.zeros((height,width,3),dtype='uint8')\n",
    "    n_frames = 0\n",
    "    start = time.time()\n",
    "    ret, _ = cap.read(frame)\n",
    "    while(ret):\n",
    "        n_frames += 1\n",
    "        writer.write(frame)\n",
    "        ret, _ = cap.read(frame)\n",
    "    writer.release()\n",
    "    end = time.time()\n",
    "    return n_frames/(end - start), n_frames;"
   ]
  },
  {
   "cell_type": "markdown",
   "id": "1c79748d",
   "metadata": {
    "hidden": true
   },
   "source": [
    "##### Windows 11"
   ]
  },
  {
   "cell_type": "markdown",
   "id": "711e4375",
   "metadata": {
    "hidden": true
   },
   "source": [
    "HW Encoding Only"
   ]
  },
  {
   "cell_type": "code",
   "execution_count": 17,
   "id": "6ab764d4",
   "metadata": {
    "hidden": true
   },
   "outputs": [
    {
     "name": "stdout",
     "output_type": "stream",
     "text": [
      "Windows 11: Transcoded 900 frames from 1080p(hevc) to 1080p(h264) at fps = 174.95\n"
     ]
    }
   ],
   "source": [
    "fps, n_frames = transcode_videocapture(vid_path_in_out_1080p,vid_path_out_1080p_mp4, False, True)\n",
    "print(f'Windows 11: Transcoded {n_frames} frames from 1080p(hevc) to 1080p(h264) at fps = {fps:.2f}')"
   ]
  },
  {
   "cell_type": "markdown",
   "id": "4df8088b",
   "metadata": {
    "hidden": true
   },
   "source": [
    "HW Encoding and Decoding - the hw decoder is the bottleneck\n"
   ]
  },
  {
   "cell_type": "code",
   "execution_count": 18,
   "id": "2217de5b",
   "metadata": {
    "hidden": true
   },
   "outputs": [
    {
     "name": "stdout",
     "output_type": "stream",
     "text": [
      "Windows 11: Transcoded 900 frames from 1080p(hevc) to 1080p(h264) at fps = 103.11\n"
     ]
    }
   ],
   "source": [
    "fps, n_frames = transcode_videocapture(vid_path_in_out_1080p,vid_path_out_1080p_mp4, True, True)\n",
    "print(f'Windows 11: Transcoded {n_frames} frames from 1080p(hevc) to 1080p(h264) at fps = {fps:.2f}')"
   ]
  },
  {
   "cell_type": "markdown",
   "id": "01583405",
   "metadata": {
    "hidden": true
   },
   "source": [
    "##### Ubuntu 20.04 LTS WSL"
   ]
  },
  {
   "cell_type": "code",
   "execution_count": 19,
   "id": "f49f4efb",
   "metadata": {
    "hidden": true
   },
   "outputs": [
    {
     "name": "stdout",
     "output_type": "stream",
     "text": [
      "Ubuntu 20.04 LTS WSL: Transcoded 900 frames from 1080p(hevc) to 1080p(h264) at fps = 97.68\n"
     ]
    }
   ],
   "source": [
    "fps, n_frames = transcode_videocapture(vid_path_in_out_1080p,vid_path_out_1080p_mp4, True, True)\n",
    "print(f'Ubuntu 20.04 LTS WSL: Transcoded {n_frames} frames from 1080p(hevc) to 1080p(h264) at fps = {fps:.2f}')"
   ]
  },
  {
   "cell_type": "code",
   "execution_count": null,
   "id": "232917c7",
   "metadata": {
    "hidden": true
   },
   "outputs": [],
   "source": []
  },
  {
   "cell_type": "markdown",
   "id": "4f992d7f",
   "metadata": {},
   "source": [
    "## Decoding Examples"
   ]
  },
  {
   "cell_type": "markdown",
   "id": "328a718b",
   "metadata": {},
   "source": [
    "Using 4k Video to fully stress the decoding unit"
   ]
  },
  {
   "cell_type": "markdown",
   "id": "9c15bcf9",
   "metadata": {},
   "source": [
    "### `cv::cudacodec::VideoReader`"
   ]
  },
  {
   "cell_type": "code",
   "execution_count": 5,
   "id": "bbc098bf",
   "metadata": {},
   "outputs": [],
   "source": [
    "def decode(vid_path_in, color_format = cv.cudacodec.COLOR_FORMAT_BGRA, params = cv.cudacodec_VideoReaderInitParams(), n_frames_d = 0):\n",
    "    stream = cv.cuda.Stream()\n",
    "    reader = cv.cudacodec.createVideoReader(vid_path_in,params=params)\n",
    "    reader.set(color_format)\n",
    "    format = reader.format()\n",
    "    if params.targetSz != (0,0):\n",
    "        w,h = params.targetSz   \n",
    "    else:\n",
    "        w,h = (format.width,format.height)\n",
    "        h  = (np.ceil(h/16)*16).astype(int)\n",
    "    frame = cv.cuda.GpuMat(h,w,cvFormat(color_format))\n",
    "    n_frames = 0\n",
    "    start = time.time()    \n",
    "    ret, _ = reader.nextFrame(frame,stream)\n",
    "    while(ret and ((n_frames < n_frames_d) or not n_frames_d)):\n",
    "        n_frames += 1\n",
    "        ret, _ = reader.nextFrame(frame,stream)\n",
    "    stream.waitForCompletion()\n",
    "    end = time.time()\n",
    "    return n_frames/(end - start), n_frames;"
   ]
  },
  {
   "cell_type": "markdown",
   "id": "ae7846b1",
   "metadata": {},
   "source": [
    "##### Windows 11"
   ]
  },
  {
   "cell_type": "code",
   "execution_count": 12,
   "id": "b88a5f73",
   "metadata": {},
   "outputs": [
    {
     "name": "stderr",
     "output_type": "stream",
     "text": [
      "C:\\Users\\b\\AppData\\Local\\Temp\\ipykernel_24392\\2424715146.py:2: UserWarning: Warning Message\n",
      "  warnings.warn('Warning Message')\n"
     ]
    }
   ],
   "source": [
    "import warnings  \n",
    "warnings.warn('Warning Message') "
   ]
  },
  {
   "cell_type": "code",
   "execution_count": 13,
   "id": "57121314",
   "metadata": {},
   "outputs": [
    {
     "data": {
      "text/plain": [
       "'C:\\\\Users\\\\b/Videos/LG_New_York_HDR_UHD_4K_Demo.ts'"
      ]
     },
     "execution_count": 13,
     "metadata": {},
     "output_type": "execute_result"
    }
   ],
   "source": [
    "vid_path_in_4k"
   ]
  },
  {
   "cell_type": "code",
   "execution_count": 24,
   "id": "12f9d60e",
   "metadata": {},
   "outputs": [],
   "source": [
    "%%capture tmp\n",
    "params = cv.cudacodec_VideoReaderInitParams()\n",
    "#params.udpSource = True\n",
    "\n",
    "reader = cv.cudacodec.createVideoReader(vid_path_in_4k)"
   ]
  },
  {
   "cell_type": "code",
   "execution_count": 25,
   "id": "10fbdf3a",
   "metadata": {},
   "outputs": [],
   "source": [
    "tmp()"
   ]
  },
  {
   "cell_type": "code",
   "execution_count": 16,
   "id": "3ce8c302",
   "metadata": {},
   "outputs": [
    {
     "ename": "error",
     "evalue": "OpenCV(4.6.0-dev) D:\\repos\\opencv\\opencv-python\\opencv_contrib\\modules\\cudacodec\\src\\video_reader.cpp:173: error: (-2:Unspecified error) Parsing/Decoding video source failed, check GPU memory is available and GPU supports hardware decoding. in function '`anonymous-namespace'::VideoReaderImpl::internalGrab'\n",
     "output_type": "error",
     "traceback": [
      "\u001b[1;31m---------------------------------------------------------------------------\u001b[0m",
      "\u001b[1;31merror\u001b[0m                                     Traceback (most recent call last)",
      "Cell \u001b[1;32mIn [16], line 1\u001b[0m\n\u001b[1;32m----> 1\u001b[0m \u001b[43mreader\u001b[49m\u001b[38;5;241;43m.\u001b[39;49m\u001b[43mnextFrame\u001b[49m\u001b[43m(\u001b[49m\u001b[43m)\u001b[49m\n",
      "\u001b[1;31merror\u001b[0m: OpenCV(4.6.0-dev) D:\\repos\\opencv\\opencv-python\\opencv_contrib\\modules\\cudacodec\\src\\video_reader.cpp:173: error: (-2:Unspecified error) Parsing/Decoding video source failed, check GPU memory is available and GPU supports hardware decoding. in function '`anonymous-namespace'::VideoReaderImpl::internalGrab'\n"
     ]
    }
   ],
   "source": [
    "reader.nextFrame()"
   ]
  },
  {
   "cell_type": "code",
   "execution_count": 28,
   "id": "07d86590",
   "metadata": {},
   "outputs": [
    {
     "ename": "error",
     "evalue": "OpenCV(4.6.0-dev) D:\\repos\\opencv\\opencv-python\\opencv_contrib\\modules\\cudacodec\\src\\video_reader.cpp:173: error: (-2:Unspecified error) Parsing/Decoding video source failed, check GPU memory is available and GPU supports hardware decoding. in function '`anonymous-namespace'::VideoReaderImpl::internalGrab'\n",
     "output_type": "error",
     "traceback": [
      "\u001b[1;31m---------------------------------------------------------------------------\u001b[0m",
      "\u001b[1;31merror\u001b[0m                                     Traceback (most recent call last)",
      "Cell \u001b[1;32mIn [28], line 3\u001b[0m\n\u001b[0;32m      1\u001b[0m params \u001b[38;5;241m=\u001b[39m cv\u001b[38;5;241m.\u001b[39mcudacodec_VideoReaderInitParams()\n\u001b[0;32m      2\u001b[0m params\u001b[38;5;241m.\u001b[39mminNumDecodeSurfaces \u001b[38;5;241m=\u001b[39m \u001b[38;5;241m10\u001b[39m \u001b[38;5;66;03m# maximum decoding performance\u001b[39;00m\n\u001b[1;32m----> 3\u001b[0m fps, n_frames \u001b[38;5;241m=\u001b[39m \u001b[43mdecode\u001b[49m\u001b[43m(\u001b[49m\u001b[43mvid_path_in_4k\u001b[49m\u001b[43m,\u001b[49m\u001b[43mcv\u001b[49m\u001b[38;5;241;43m.\u001b[39;49m\u001b[43mcudacodec\u001b[49m\u001b[38;5;241;43m.\u001b[39;49m\u001b[43mCOLOR_FORMAT_BGR\u001b[49m\u001b[43m,\u001b[49m\u001b[43m \u001b[49m\u001b[43mparams\u001b[49m\u001b[43m,\u001b[49m\u001b[38;5;241;43m10\u001b[39;49m\u001b[43m)\u001b[49m\n\u001b[0;32m      4\u001b[0m \u001b[38;5;28mprint\u001b[39m(\u001b[38;5;124mf\u001b[39m\u001b[38;5;124m'\u001b[39m\u001b[38;5;124mWindows 11: Decoded \u001b[39m\u001b[38;5;132;01m{\u001b[39;00mn_frames\u001b[38;5;132;01m}\u001b[39;00m\u001b[38;5;124m frames from 4k(h264) at fps= \u001b[39m\u001b[38;5;132;01m{\u001b[39;00mfps\u001b[38;5;132;01m:\u001b[39;00m\u001b[38;5;124m.2f\u001b[39m\u001b[38;5;132;01m}\u001b[39;00m\u001b[38;5;124m'\u001b[39m)\n",
      "Cell \u001b[1;32mIn [27], line 17\u001b[0m, in \u001b[0;36mdecode\u001b[1;34m(vid_path_in, color_format, params, n_frames_d)\u001b[0m\n\u001b[0;32m     15\u001b[0m \u001b[38;5;28;01mwhile\u001b[39;00m(ret \u001b[38;5;129;01mand\u001b[39;00m ((n_frames \u001b[38;5;241m<\u001b[39m n_frames_d) \u001b[38;5;129;01mor\u001b[39;00m \u001b[38;5;129;01mnot\u001b[39;00m n_frames_d)):\n\u001b[0;32m     16\u001b[0m     n_frames \u001b[38;5;241m+\u001b[39m\u001b[38;5;241m=\u001b[39m \u001b[38;5;241m1\u001b[39m\n\u001b[1;32m---> 17\u001b[0m     ret, _ \u001b[38;5;241m=\u001b[39m \u001b[43mreader\u001b[49m\u001b[38;5;241;43m.\u001b[39;49m\u001b[43mnextFrame\u001b[49m\u001b[43m(\u001b[49m\u001b[43mframe\u001b[49m\u001b[43m,\u001b[49m\u001b[43mstream\u001b[49m\u001b[43m)\u001b[49m\n\u001b[0;32m     18\u001b[0m stream\u001b[38;5;241m.\u001b[39mwaitForCompletion()\n\u001b[0;32m     19\u001b[0m end \u001b[38;5;241m=\u001b[39m time\u001b[38;5;241m.\u001b[39mtime()\n",
      "\u001b[1;31merror\u001b[0m: OpenCV(4.6.0-dev) D:\\repos\\opencv\\opencv-python\\opencv_contrib\\modules\\cudacodec\\src\\video_reader.cpp:173: error: (-2:Unspecified error) Parsing/Decoding video source failed, check GPU memory is available and GPU supports hardware decoding. in function '`anonymous-namespace'::VideoReaderImpl::internalGrab'\n"
     ]
    }
   ],
   "source": [
    "params = cv.cudacodec_VideoReaderInitParams()\n",
    "params.minNumDecodeSurfaces = 10 # maximum decoding performance\n",
    "fps, n_frames = decode(vid_path_in_4k,cv.cudacodec.COLOR_FORMAT_BGR, params,10)\n",
    "print(f'Windows 11: Decoded {n_frames} frames from 4k(h264) at fps= {fps:.2f}')"
   ]
  },
  {
   "cell_type": "markdown",
   "id": "b33c8d89",
   "metadata": {},
   "source": [
    "##### Ubuntu 20.04 LTS WSL"
   ]
  },
  {
   "cell_type": "code",
   "execution_count": 9,
   "id": "6d1eb193",
   "metadata": {},
   "outputs": [
    {
     "name": "stdout",
     "output_type": "stream",
     "text": [
      "Ubuntu 20.04 LTS WSL: Decoded 900 frames from 4k(h264) at fps= 145.98\n"
     ]
    }
   ],
   "source": [
    "params = cv.cudacodec_VideoReaderInitParams()\n",
    "params.minNumDecodeSurfaces = 10 # maximum decoding performance\n",
    "fps, n_frames = decode(vid_path_in_4k,cv.cudacodec.COLOR_FORMAT_BGR, params)\n",
    "print(f'Ubuntu 20.04 LTS WSL: Decoded {n_frames} frames from 4k(h264) at fps= {fps:.2f}')"
   ]
  },
  {
   "cell_type": "markdown",
   "id": "91e1ee7d",
   "metadata": {},
   "source": [
    "### `cv::VideoReader`"
   ]
  },
  {
   "cell_type": "code",
   "execution_count": 10,
   "id": "015c5dab",
   "metadata": {},
   "outputs": [],
   "source": [
    "def decode_videocapture(vid_path_in, hw_decode = False):   \n",
    "    props_decode  = (cv.CAP_PROP_HW_ACCELERATION, cv.VIDEO_ACCELERATION_ANY) if hw_decode else (cv.CAP_PROP_HW_ACCELERATION, cv.VIDEO_ACCELERATION_NONE)\n",
    "    cap = cv.VideoCapture(vid_path_in,cv.CAP_FFMPEG, props_decode)\n",
    "    width = int(cap.get(cv.CAP_PROP_FRAME_WIDTH))\n",
    "    height = int(cap.get(cv.CAP_PROP_FRAME_HEIGHT))\n",
    "    \n",
    "    frame = np.zeros((height,width,3),dtype='uint8')\n",
    "    n_frames = 0\n",
    "    start = time.time()\n",
    "    ret, _ = cap.read(frame)\n",
    "    while(ret):\n",
    "        n_frames += 1\n",
    "        ret, _ = cap.read(frame)\n",
    "    end = time.time()\n",
    "    return n_frames/(end - start), n_frames;"
   ]
  },
  {
   "cell_type": "markdown",
   "id": "d2bdfb45",
   "metadata": {},
   "source": [
    "##### Windows 11"
   ]
  },
  {
   "cell_type": "code",
   "execution_count": 11,
   "id": "f7813240",
   "metadata": {},
   "outputs": [
    {
     "name": "stdout",
     "output_type": "stream",
     "text": [
      "Windows 11: Decoded 900 frames from 4k(h264) at fps= 39.59\n"
     ]
    }
   ],
   "source": [
    "fps, n_frames = decode_videocapture(vid_path_in_4k, False)\n",
    "print(f'Windows 11: Decoded {n_frames} frames from 4k(h264) at fps= {fps:.2f}')"
   ]
  },
  {
   "cell_type": "markdown",
   "id": "e1357c51",
   "metadata": {},
   "source": [
    "HW acceleration is slower through DirectX (D3D11), will be faster with OPENCV_FFMPEG_CAPTURE_OPTIONS=video_codec;h264_cuvid if FFMpeg is compiled with cuvid support"
   ]
  },
  {
   "cell_type": "code",
   "execution_count": 12,
   "id": "f95eeb57",
   "metadata": {},
   "outputs": [
    {
     "name": "stdout",
     "output_type": "stream",
     "text": [
      "Windows 11 (hw acceleration): Decoded 900 frames from 4k(h264) at fps= 29.28\n"
     ]
    }
   ],
   "source": [
    "fps, n_frames = decode_videocapture(vid_path_in_4k, True)\n",
    "print(f'Windows 11 (hw acceleration): Decoded {n_frames} frames from 4k(h264) at fps= {fps:.2f}')"
   ]
  },
  {
   "cell_type": "markdown",
   "id": "6edfe17e",
   "metadata": {},
   "source": [
    "##### Ubuntu 20.04 LTS WSL"
   ]
  },
  {
   "cell_type": "code",
   "execution_count": 13,
   "id": "63d2bb46",
   "metadata": {},
   "outputs": [
    {
     "name": "stdout",
     "output_type": "stream",
     "text": [
      "Ubuntu 20.04 LTS WSL: Decoded 900 frames from 4k(h264) at fps= 70.75\n"
     ]
    }
   ],
   "source": [
    "fps, n_frames = decode_videocapture(vid_path_in_4k, False)\n",
    "print(f'Ubuntu 20.04 LTS WSL: Decoded {n_frames} frames from 4k(h264) at fps= {fps:.2f}')"
   ]
  },
  {
   "cell_type": "markdown",
   "id": "bb8d2dfe",
   "metadata": {},
   "source": [
    "## Encoding Examples"
   ]
  },
  {
   "cell_type": "markdown",
   "id": "d003d2ae",
   "metadata": {},
   "source": [
    "Use 1080p video to allow all frames to be stored in memory before decoding"
   ]
  },
  {
   "cell_type": "markdown",
   "id": "edd86497",
   "metadata": {},
   "source": [
    "### `cv::cudacodec::VideoWriter`"
   ]
  },
  {
   "cell_type": "code",
   "execution_count": 17,
   "id": "e0cfdfa8",
   "metadata": {},
   "outputs": [],
   "source": [
    "def encode(vid_path_in, vid_path_out, codec = cv.cudacodec.H264, params = cv.cudacodec_VideoReaderInitParams(), \n",
    "              color_format = cv.cudacodec.COLOR_FORMAT_BGRA):\n",
    "    stream = cv.cuda.Stream()\n",
    "    reader = cv.cudacodec.createVideoReader(vid_path_in,params=params)\n",
    "    reader.set(color_format)\n",
    "    format = reader.format()\n",
    "    if params.targetSz != (0,0):\n",
    "        w,h = params.targetSz   \n",
    "    else:\n",
    "        w,h = (format.width,format.height)\n",
    "        h  = (np.ceil(h/16)*16).astype(int)\n",
    "    \n",
    "    h_decode = h if color_format != cv.cudacodec.COLOR_FORMAT_NV_NV12 else int(h*1.5)\n",
    "    frame = cv.cuda.GpuMat(h_decode,w,cvFormat(color_format))\n",
    "    writer = cv.cudacodec.createVideoWriter(vid_path_out,[w,h],codec,colorFormat = color_format,stream=stream)\n",
    "    n_frames = 0\n",
    "    frames = [];\n",
    "    ret, _ = reader.nextFrame(frame,stream)\n",
    "    while(ret):\n",
    "        frames.append(frame.clone())\n",
    "        ret, _ = reader.nextFrame(frame,stream)\n",
    "    stream.waitForCompletion()\n",
    "    start = time.time()\n",
    "    for frame_to_encode in frames:        \n",
    "        n_frames += 1\n",
    "        writer.write(frame_to_encode)        \n",
    "    writer.release()\n",
    "    end = time.time()\n",
    "    return n_frames/(end - start), n_frames;"
   ]
  },
  {
   "cell_type": "markdown",
   "id": "f3f92f19",
   "metadata": {},
   "source": [
    "##### Windows 11"
   ]
  },
  {
   "cell_type": "code",
   "execution_count": 22,
   "id": "ad044f4f",
   "metadata": {},
   "outputs": [
    {
     "ename": "error",
     "evalue": "OpenCV(4.6.0-dev) D:\\repos\\opencv\\opencv-python\\opencv\\modules\\core\\src\\cuda\\gpu_mat.cu:116: error: (-217:Gpu API call) out of memory in function '<unnamed>::DefaultAllocator::allocate'\n",
     "output_type": "error",
     "traceback": [
      "\u001b[1;31m---------------------------------------------------------------------------\u001b[0m",
      "\u001b[1;31merror\u001b[0m                                     Traceback (most recent call last)",
      "Cell \u001b[1;32mIn [22], line 4\u001b[0m\n\u001b[0;32m      2\u001b[0m \u001b[38;5;66;03m#params.targetSz = (1920,1080)\u001b[39;00m\n\u001b[0;32m      3\u001b[0m params\u001b[38;5;241m.\u001b[39mminNumDecodeSurfaces \u001b[38;5;241m=\u001b[39m \u001b[38;5;241m30\u001b[39m \u001b[38;5;66;03m# maximum decoding performance\u001b[39;00m\n\u001b[1;32m----> 4\u001b[0m fps, n_frames \u001b[38;5;241m=\u001b[39m \u001b[43mencode\u001b[49m\u001b[43m(\u001b[49m\u001b[43mvid_path_in_4k\u001b[49m\u001b[43m,\u001b[49m\u001b[43mvid_path_out_4k\u001b[49m\u001b[43m,\u001b[49m\u001b[43mcv\u001b[49m\u001b[38;5;241;43m.\u001b[39;49m\u001b[43mcudacodec\u001b[49m\u001b[38;5;241;43m.\u001b[39;49m\u001b[43mH264\u001b[49m\u001b[43m,\u001b[49m\u001b[43mparams\u001b[49m\u001b[43m,\u001b[49m\u001b[43mcv\u001b[49m\u001b[38;5;241;43m.\u001b[39;49m\u001b[43mcudacodec\u001b[49m\u001b[38;5;241;43m.\u001b[39;49m\u001b[43mCOLOR_FORMAT_NV_NV12\u001b[49m\u001b[43m)\u001b[49m\n\u001b[0;32m      5\u001b[0m \u001b[38;5;28mprint\u001b[39m(\u001b[38;5;124mf\u001b[39m\u001b[38;5;124m'\u001b[39m\u001b[38;5;124mWindows 11 (warmup): Encoded \u001b[39m\u001b[38;5;132;01m{\u001b[39;00mn_frames\u001b[38;5;132;01m}\u001b[39;00m\u001b[38;5;124m frames from 1080p(hevc) to 1080p(h264) at fps = \u001b[39m\u001b[38;5;132;01m{\u001b[39;00mfps\u001b[38;5;132;01m:\u001b[39;00m\u001b[38;5;124m.2f\u001b[39m\u001b[38;5;132;01m}\u001b[39;00m\u001b[38;5;124m'\u001b[39m)\n\u001b[0;32m      6\u001b[0m fps, n_frames \u001b[38;5;241m=\u001b[39m encode(vid_path_in_4k,vid_path_out_4k,cv\u001b[38;5;241m.\u001b[39mcudacodec\u001b[38;5;241m.\u001b[39mH264,params,cv\u001b[38;5;241m.\u001b[39mcudacodec\u001b[38;5;241m.\u001b[39mCOLOR_FORMAT_NV_NV12)\n",
      "Cell \u001b[1;32mIn [17], line 20\u001b[0m, in \u001b[0;36mencode\u001b[1;34m(vid_path_in, vid_path_out, codec, params, color_format)\u001b[0m\n\u001b[0;32m     18\u001b[0m ret, _ \u001b[38;5;241m=\u001b[39m reader\u001b[38;5;241m.\u001b[39mnextFrame(frame,stream)\n\u001b[0;32m     19\u001b[0m \u001b[38;5;28;01mwhile\u001b[39;00m(ret):\n\u001b[1;32m---> 20\u001b[0m     frames\u001b[38;5;241m.\u001b[39mappend(\u001b[43mframe\u001b[49m\u001b[38;5;241;43m.\u001b[39;49m\u001b[43mclone\u001b[49m\u001b[43m(\u001b[49m\u001b[43m)\u001b[49m)\n\u001b[0;32m     21\u001b[0m     ret, _ \u001b[38;5;241m=\u001b[39m reader\u001b[38;5;241m.\u001b[39mnextFrame(frame,stream)\n\u001b[0;32m     22\u001b[0m stream\u001b[38;5;241m.\u001b[39mwaitForCompletion()\n",
      "\u001b[1;31merror\u001b[0m: OpenCV(4.6.0-dev) D:\\repos\\opencv\\opencv-python\\opencv\\modules\\core\\src\\cuda\\gpu_mat.cu:116: error: (-217:Gpu API call) out of memory in function '<unnamed>::DefaultAllocator::allocate'\n"
     ]
    }
   ],
   "source": [
    "params = cv.cudacodec_VideoReaderInitParams()\n",
    "#params.targetSz = (1920,1080)\n",
    "params.minNumDecodeSurfaces = 30 # maximum decoding performance\n",
    "fps, n_frames = encode(vid_path_in_4k,vid_path_out_4k,cv.cudacodec.H264,params,cv.cudacodec.COLOR_FORMAT_NV_NV12)\n",
    "print(f'Windows 11 (warmup): Encoded {n_frames} frames from 1080p(hevc) to 1080p(h264) at fps = {fps:.2f}')\n",
    "fps, n_frames = encode(vid_path_in_4k,vid_path_out_4k,cv.cudacodec.H264,params,cv.cudacodec.COLOR_FORMAT_NV_NV12)\n",
    "print(f'Windows 11: Encoded {n_frames} frames from 1080p(hevc) to 1080p(h264) at fps = {fps:.2f}')"
   ]
  },
  {
   "cell_type": "markdown",
   "id": "66240fdb",
   "metadata": {},
   "source": [
    "##### Ubuntu 20.04 LTS WSL"
   ]
  },
  {
   "cell_type": "code",
   "execution_count": null,
   "id": "2e73fd21",
   "metadata": {},
   "outputs": [],
   "source": [
    "params = cv.cudacodec_VideoReaderInitParams()\n",
    "params.targetSz = (1920,1080)\n",
    "params.minNumDecodeSurfaces = 30 # maximum decoding performance\n",
    "fps, n_frames = encode_bench(vid_path_in_out_1080p,vid_path_out_1080p,cv.cudacodec.H264,params,cv.cudacodec.COLOR_FORMAT_NV_NV12)\n",
    "print(f'Ubuntu 20.04 LTS WSL: Encoded {n_frames} frames from 1080p(hevc) to 1080p(h264) at fps = {fps:.2f}')"
   ]
  },
  {
   "cell_type": "code",
   "execution_count": null,
   "id": "0934c324",
   "metadata": {},
   "outputs": [],
   "source": [
    "### `cv::VideoWriter` with hardware acceleration - unable to disable on windows"
   ]
  },
  {
   "cell_type": "code",
   "execution_count": null,
   "id": "801b30e6",
   "metadata": {},
   "outputs": [],
   "source": [
    "def encode_bench_videocapture(vid_path_in, vid_path_out, hw_decode = False, hw_encode = False):   \n",
    "    props_decode  = (cv.CAP_PROP_HW_ACCELERATION, cv.VIDEO_ACCELERATION_ANY) if hw_decode else (cv.CAP_PROP_HW_ACCELERATION, cv.VIDEO_ACCELERATION_NONE)\n",
    "    props_encode  = (cv.VIDEOWRITER_PROP_HW_ACCELERATION, cv.VIDEO_ACCELERATION_ANY) if hw_encode else (cv.VIDEOWRITER_PROP_HW_ACCELERATION, cv.VIDEO_ACCELERATION_NONE)\n",
    "    cap = cv.VideoCapture(vid_path_in,cv.CAP_FFMPEG, props_decode)\n",
    "    #fourcc = cv.VideoWriter_fourcc(*\"mp4v\")\n",
    "    fourcc = cv.VideoWriter_fourcc(*\"avc1\")\n",
    "    fps = cap.get(cv.CAP_PROP_FPS)\n",
    "    width = int(cap.get(cv.CAP_PROP_FRAME_WIDTH))\n",
    "    height = int(cap.get(cv.CAP_PROP_FRAME_HEIGHT))\n",
    "    \n",
    "    frame = np.zeros((height,width,3),dtype='uint8')\n",
    "    n_frames = 0\n",
    "    frames = []\n",
    "    ret, _ = cap.read(frame)\n",
    "    while(ret):\n",
    "        frames.append(frame.copy())\n",
    "        ret, _ = cap.read(frame)\n",
    "    #time.sleep(10)\n",
    "    writer = cv.VideoWriter(vid_path_out, fourcc, fps, (width,height), props_encode)\n",
    "    start = time.time()\n",
    "    for frame_to_encode in frames:\n",
    "        n_frames += 1\n",
    "        writer.write(frame_to_encode)    \n",
    "    writer.release()\n",
    "    end = time.time()\n",
    "    return n_frames/(end - start), n_frames;\n",
    "\n",
    "start = time.time()\n",
    "time.sleep(1)\n",
    "print(time.time() - start)\n",
    "time.sleep(10)\n",
    "print(time.time() - start)"
   ]
  },
  {
   "cell_type": "code",
   "execution_count": null,
   "id": "9acf78f4",
   "metadata": {},
   "outputs": [],
   "source": [
    "# running decode kills the performance of inbuilt hardware encoder?"
   ]
  },
  {
   "cell_type": "code",
   "execution_count": null,
   "id": "d9f353bc",
   "metadata": {},
   "outputs": [],
   "source": [
    "vid_path_in = vid_path_in_out_1080p\n",
    "vid_path_out = vid_path_out_1080p_mp4\n",
    "props_decode  = (cv.CAP_PROP_HW_ACCELERATION, cv.VIDEO_ACCELERATION_NONE)\n",
    "props_encode  = (cv.VIDEOWRITER_PROP_HW_ACCELERATION, cv.VIDEO_ACCELERATION_ANY)\n",
    "cap = cv.VideoCapture(vid_path_in,cv.CAP_FFMPEG, props_decode)\n",
    "#fourcc = cv.VideoWriter_fourcc(*\"mp4v\")\n",
    "fourcc = cv.VideoWriter_fourcc(*\"avc1\")\n",
    "fps = cap.get(cv.CAP_PROP_FPS)\n",
    "width = int(cap.get(cv.CAP_PROP_FRAME_WIDTH))\n",
    "height = int(cap.get(cv.CAP_PROP_FRAME_HEIGHT))\n",
    "#writer = cv.VideoWriter(vid_path_out, fourcc, fps, (width,height), props_encode)\n",
    "frame = np.zeros((height,width,3),dtype='uint8')\n",
    "n_frames = 0\n",
    "frames = []\n",
    "ret, _ = cap.read(frame)\n",
    "while(ret):\n",
    "    frames.append(frame.copy())\n",
    "    ret, _ = cap.read(frame)\n",
    "            \n",
    "\n",
    "\n",
    "writer = cv.VideoWriter(vid_path_out, fourcc, fps, (width,height), props_encode)\n",
    "#time.sleep(10)\n",
    "n_frames = 0\n",
    "start = time.time()\n",
    "for frame_to_encode in frames:\n",
    "    n_frames += 1\n",
    "    writer.write(frame_to_encode)    \n",
    "writer.release()\n",
    "end = time.time()\n",
    "n_frames/(end - start), n_frames\n",
    "#return n_frames/(end - start), n_frames;\n",
    "\n",
    "len(frames)"
   ]
  },
  {
   "cell_type": "code",
   "execution_count": null,
   "id": "5600e201",
   "metadata": {},
   "outputs": [],
   "source": [
    "Decoding is the bottleneck.  Note: Running encoding twice has reduced performace memory?"
   ]
  },
  {
   "cell_type": "code",
   "execution_count": null,
   "id": "1045f3f0",
   "metadata": {},
   "outputs": [],
   "source": [
    "##### Windows 11"
   ]
  },
  {
   "cell_type": "code",
   "execution_count": null,
   "id": "e6172199",
   "metadata": {},
   "outputs": [],
   "source": [
    "fps, n_frames = encode_bench_videocapture(vid_path_in_out_1080p,vid_path_out_1080p_mp4, False, True)\n",
    "print(f'Windows 11: Encoded {n_frames} frames from 1080p(hevc) to 1080p(h264) at fps = {fps:.2f}')\n",
    "\n",
    "fps, n_frames = encode_bench_videocapture(vid_path_in_out_1080p,vid_path_out_1080p_mp4, False, True)\n",
    "print(f'Windows 11: Encoded {n_frames} frames from 1080p(hevc) to 1080p(h264) at fps = {fps:.2f}')"
   ]
  },
  {
   "cell_type": "code",
   "execution_count": null,
   "id": "b31f9be9",
   "metadata": {},
   "outputs": [],
   "source": [
    "##### Ubuntu 20.04 LTS WSL"
   ]
  },
  {
   "cell_type": "code",
   "execution_count": null,
   "id": "992d0c31",
   "metadata": {},
   "outputs": [],
   "source": [
    "fps, n_frames = encode_bench_videocapture(vid_path_in_out_1080p,vid_path_out_1080p_mp4, False, True)\n",
    "print(f'Ubuntu 20.04 LTS WSL:  Encoded {n_frames} frames from 1080p(hevc) to 1080p(h264) at fps = {fps:.2f}')"
   ]
  },
  {
   "cell_type": "markdown",
   "id": "4ce0685b",
   "metadata": {},
   "source": [
    "## Transcoding Example"
   ]
  },
  {
   "cell_type": "markdown",
   "id": "34b8de11",
   "metadata": {},
   "source": [
    "Transcode from 1080p to 4k for decoding benchmarks"
   ]
  },
  {
   "cell_type": "code",
   "execution_count": 6,
   "id": "c2028958",
   "metadata": {},
   "outputs": [],
   "source": [
    "if(LINUX):\n",
    "    vid_path_in_4k = '/home/b/media/jellyfish-120-mbps-4k-uhd-h264.mkv'\n",
    "    vid_path_in_out_1080p = '/home/b/media/jelly_1080p.hevc'\n",
    "    vid_path_out_1080p = '/home/b/media/jelly.h264'\n",
    "    vid_path_out_1080p_mp4 = '/home/b/media/jelly.mp4'\n",
    "else:\n",
    "    vid_path_in_4k = os.environ['USERPROFILE'] + '/Videos/jellyfish-120-mbps-4k-uhd-h264.mkv'\n",
    "    vid_path_in_out_1080p = os.environ['USERPROFILE'] + '/Videos/jelly_1080p.hevc'\n",
    "    vid_path_out_1080p = os.environ['USERPROFILE'] + '/Videos/jelly.h264'\n",
    "    vid_path_out_1080p_mp4 = os.environ['USERPROFILE'] + '/Videos/jelly.mp4'"
   ]
  },
  {
   "cell_type": "code",
   "execution_count": 7,
   "id": "864006bb",
   "metadata": {},
   "outputs": [
    {
     "name": "stdout",
     "output_type": "stream",
     "text": [
      "\n",
      "General configuration for OpenCV 4.6.0-dev =====================================\n",
      "  Version control:               4.6.0-508-g21133a2091\n",
      "\n",
      "  Extra modules:\n",
      "    Location (extra):            D:/repos/opencv/opencv-python/opencv_contrib/modules\n",
      "    Version control (extra):     4.6.0-106-g9d84eaed\n",
      "\n",
      "  Platform:\n",
      "    Timestamp:                   2022-11-07T10:18:54Z\n",
      "    Host:                        Windows 10.0.22000 AMD64\n",
      "    CMake:                       3.24.1\n",
      "    CMake generator:             Ninja\n",
      "    CMake build tool:            C:/PROGRA~1/MICROS~2/2022/COMMUN~1/Common7/IDE/COMMON~1/MICROS~1/CMake/Ninja/ninja.exe\n",
      "    MSVC:                        1933\n",
      "    Configuration:               Release\n",
      "\n",
      "  CPU/HW features:\n",
      "    Baseline:                    SSE SSE2 SSE3\n",
      "      requested:                 SSE3\n",
      "    Dispatched code generation:  SSE4_1 SSE4_2 FP16 AVX AVX2 AVX512_SKX\n",
      "      requested:                 SSE4_1 SSE4_2 AVX FP16 AVX2 AVX512_SKX\n",
      "      SSE4_1 (16 files):         + SSSE3 SSE4_1\n",
      "      SSE4_2 (1 files):          + SSSE3 SSE4_1 POPCNT SSE4_2\n",
      "      FP16 (0 files):            + SSSE3 SSE4_1 POPCNT SSE4_2 FP16 AVX\n",
      "      AVX (4 files):             + SSSE3 SSE4_1 POPCNT SSE4_2 AVX\n",
      "      AVX2 (32 files):           + SSSE3 SSE4_1 POPCNT SSE4_2 FP16 FMA3 AVX AVX2\n",
      "      AVX512_SKX (5 files):      + SSSE3 SSE4_1 POPCNT SSE4_2 FP16 FMA3 AVX AVX2 AVX_512F AVX512_COMMON AVX512_SKX\n",
      "\n",
      "  C/C++:\n",
      "    Built as dynamic libs?:      NO\n",
      "    C++ standard:                11\n",
      "    C++ Compiler:                C:/Program Files/Microsoft Visual Studio/2022/Community/VC/Tools/MSVC/14.33.31629/bin/Hostx86/x64/cl.exe  (ver 19.33.31629.0)\n",
      "    C++ flags (Release):         /DWIN32 /D_WINDOWS /W4 /GR  /D _CRT_SECURE_NO_DEPRECATE /D _CRT_NONSTDC_NO_DEPRECATE /D _SCL_SECURE_NO_WARNINGS /Gy /bigobj /Oi  /fp:precise /FS     /EHa /wd4127 /wd4251 /wd4324 /wd4275 /wd4512 /wd4589 /wd4819  /MT /O2 /Ob2 /DNDEBUG \n",
      "    C++ flags (Debug):           /DWIN32 /D_WINDOWS /W4 /GR  /D _CRT_SECURE_NO_DEPRECATE /D _CRT_NONSTDC_NO_DEPRECATE /D _SCL_SECURE_NO_WARNINGS /Gy /bigobj /Oi  /fp:precise /FS     /EHa /wd4127 /wd4251 /wd4324 /wd4275 /wd4512 /wd4589 /wd4819  /MTd /Zi /Ob0 /Od /RTC1 \n",
      "    C Compiler:                  C:/Program Files/Microsoft Visual Studio/2022/Community/VC/Tools/MSVC/14.33.31629/bin/Hostx86/x64/cl.exe\n",
      "    C flags (Release):           /DWIN32 /D_WINDOWS /W3  /D _CRT_SECURE_NO_DEPRECATE /D _CRT_NONSTDC_NO_DEPRECATE /D _SCL_SECURE_NO_WARNINGS /Gy /bigobj /Oi  /fp:precise /FS       /MT /O2 /Ob2 /DNDEBUG \n",
      "    C flags (Debug):             /DWIN32 /D_WINDOWS /W3  /D _CRT_SECURE_NO_DEPRECATE /D _CRT_NONSTDC_NO_DEPRECATE /D _SCL_SECURE_NO_WARNINGS /Gy /bigobj /Oi  /fp:precise /FS     /MTd /Zi /Ob0 /Od /RTC1 \n",
      "    Linker flags (Release):      /machine:x64  /NODEFAULTLIB:atlthunk.lib /INCREMENTAL:NO  /NODEFAULTLIB:libcmtd.lib /NODEFAULTLIB:libcpmtd.lib /NODEFAULTLIB:msvcrtd.lib\n",
      "    Linker flags (Debug):        /machine:x64  /NODEFAULTLIB:atlthunk.lib /debug /INCREMENTAL  /NODEFAULTLIB:libcmt.lib /NODEFAULTLIB:libcpmt.lib /NODEFAULTLIB:msvcrt.lib\n",
      "    ccache:                      NO\n",
      "    Precompiled headers:         NO\n",
      "    Extra dependencies:          wsock32 comctl32 gdi32 ole32 setupapi ws2_32 C:/Program Files/NVIDIA GPU Computing Toolkit/CUDA/v11.8/lib/x64/cuda.lib C:/Program Files/NVIDIA GPU Computing Toolkit/CUDA/v11.8/lib/x64/nvcuvid.lib C:/Program Files/NVIDIA GPU Computing Toolkit/CUDA/v11.8/lib/x64/nvencodeapi.lib Iconv::Iconv cudart_static.lib nppc.lib nppial.lib nppicc.lib nppidei.lib nppif.lib nppig.lib nppim.lib nppist.lib nppisu.lib nppitc.lib npps.lib cublas.lib cudnn.lib cufft.lib -LIBPATH:\"C:/Program Files/NVIDIA GPU Computing Toolkit/CUDA/v11.8/lib/x64\"\n",
      "    3rdparty dependencies:       libprotobuf ade ittnotify libjpeg-turbo libwebp libpng libtiff libopenjp2 IlmImf zlib quirc ippiw ippicv\n",
      "\n",
      "  OpenCV modules:\n",
      "    To be built:                 aruco barcode bgsegm bioinspired calib3d ccalib core cudaarithm cudabgsegm cudacodec cudafeatures2d cudafilters cudaimgproc cudalegacy cudaobjdetect cudaoptflow cudastereo cudawarping cudev datasets dnn dnn_objdetect dnn_superres dpm face features2d flann fuzzy gapi hfs highgui img_hash imgcodecs imgproc intensity_transform line_descriptor mcc ml objdetect optflow phase_unwrapping photo plot python3 quality rapid reg rgbd saliency shape stereo stitching structured_light superres surface_matching text tracking video videoio videostab wechat_qrcode xfeatures2d ximgproc xobjdetect xphoto\n",
      "    Disabled:                    world\n",
      "    Disabled by dependency:      -\n",
      "    Unavailable:                 alphamat cvv freetype hdf java julia matlab ovis python2 sfm ts viz\n",
      "    Applications:                -\n",
      "    Documentation:               NO\n",
      "    Non-free algorithms:         NO\n",
      "\n",
      "  Windows RT support:            NO\n",
      "\n",
      "  GUI:                           WIN32UI\n",
      "    Win32 UI:                    YES\n",
      "    VTK support:                 NO\n",
      "\n",
      "  Media I/O: \n",
      "    ZLib:                        build (ver 1.2.12)\n",
      "    JPEG:                        build-libjpeg-turbo (ver 2.1.3-62)\n",
      "      SIMD Support Request:      YES\n",
      "      SIMD Support:              NO\n",
      "    WEBP:                        build (ver encoder: 0x020f)\n",
      "    PNG:                         build (ver 1.6.37)\n",
      "    TIFF:                        build (ver 42 - 4.2.0)\n",
      "    JPEG 2000:                   build (ver 2.4.0)\n",
      "    OpenEXR:                     build (ver 2.3.0)\n",
      "    HDR:                         YES\n",
      "    SUNRASTER:                   YES\n",
      "    PXM:                         YES\n",
      "    PFM:                         YES\n",
      "\n",
      "  Video I/O:\n",
      "    DC1394:                      NO\n",
      "    FFMPEG:                      YES (prebuilt binaries)\n",
      "      avcodec:                   YES (58.134.100)\n",
      "      avformat:                  YES (58.76.100)\n",
      "      avutil:                    YES (56.70.100)\n",
      "      swscale:                   YES (5.9.100)\n",
      "      avresample:                YES (4.0.0)\n",
      "    GStreamer:                   YES (1.20.3)\n",
      "    DirectShow:                  YES\n",
      "    Media Foundation:            YES\n",
      "      DXVA:                      YES\n",
      "\n",
      "  Parallel framework:            Concurrency\n",
      "\n",
      "  Trace:                         YES (with Intel ITT)\n",
      "\n",
      "  Other third-party libraries:\n",
      "    Intel IPP:                   2020.0.0 Gold [2020.0.0]\n",
      "           at:                   D:/repos/opencv/opencv-python/_skbuild/win-amd64-3.9/cmake-build/3rdparty/ippicv/ippicv_win/icv\n",
      "    Intel IPP IW:                sources (2020.0.0)\n",
      "              at:                D:/repos/opencv/opencv-python/_skbuild/win-amd64-3.9/cmake-build/3rdparty/ippicv/ippicv_win/iw\n",
      "    Lapack:                      NO\n",
      "    Eigen:                       NO\n",
      "    Custom HAL:                  NO\n",
      "    Protobuf:                    build (3.19.1)\n",
      "\n",
      "  NVIDIA CUDA:                   YES (ver 11.8, CUFFT CUBLAS NVCUVID NVCUVENC FAST_MATH)\n",
      "    NVIDIA GPU arch:             35 37 50 52 60 61 70 75 80 86\n",
      "    NVIDIA PTX archs:            86\n",
      "\n",
      "  cuDNN:                         YES (ver 8.6.0)\n",
      "\n",
      "  OpenCL:                        YES (NVD3D11)\n",
      "    Include path:                D:/repos/opencv/opencv-python/opencv/3rdparty/include/opencl/1.2\n",
      "    Link libraries:              Dynamic load\n",
      "\n",
      "  Python 3:\n",
      "    Interpreter:                 C:/Users/b/mambaforge/python.exe (ver 3.9.13)\n",
      "    Libraries:                   C:/Users/b/mambaforge/libs/python39.lib (ver 3.9.13)\n",
      "    numpy:                       C:/Users/b/mambaforge/lib/site-packages/numpy/core/include (ver 1.23.3)\n",
      "    install path:                python/cv2/python-3\n",
      "\n",
      "  Python (for build):            C:/Users/b/mambaforge/python.exe\n",
      "\n",
      "  Java:                          \n",
      "    ant:                         NO\n",
      "    JNI:                         NO\n",
      "    Java wrappers:               NO\n",
      "    Java tests:                  NO\n",
      "\n",
      "  Install to:                    d:/repos/opencv/opencv-python/_skbuild/win-amd64-3.9/cmake-install\n",
      "-----------------------------------------------------------------\n",
      "\n",
      "\n"
     ]
    }
   ],
   "source": [
    "print(cv.getBuildInformation())"
   ]
  },
  {
   "cell_type": "code",
   "execution_count": 8,
   "id": "6bdf6db8",
   "metadata": {},
   "outputs": [],
   "source": [
    "def cvFormat(color_format = cv.cudacodec.COLOR_FORMAT_BGRA):\n",
    "    assert ((color_format == cv.cudacodec.COLOR_FORMAT_BGR) | (color_format == cv.cudacodec.COLOR_FORMAT_BGRA) | \n",
    "            (color_format == cv.cudacodec.COLOR_FORMAT_GRAY) | (color_format == cv.cudacodec.COLOR_FORMAT_NV_NV12)), \\\n",
    "            f'color_format {color_format} not supported!'\n",
    "    if(color_format == cv.cudacodec.COLOR_FORMAT_BGRA): return cv.CV_8UC4\n",
    "    elif((color_format == cv.cudacodec.COLOR_FORMAT_NV_NV12) | (color_format == cv.cudacodec.COLOR_FORMAT_GRAY)): return cv.CV_8UC1\n",
    "    else: return cv.CV_8UC3"
   ]
  },
  {
   "cell_type": "markdown",
   "id": "6e955038",
   "metadata": {},
   "source": [
    "### `cv::cudacodec::VideoReader` -> `cv::cudacodec::VideoWriter`"
   ]
  },
  {
   "cell_type": "code",
   "execution_count": 9,
   "id": "94137998",
   "metadata": {},
   "outputs": [],
   "source": [
    "def transcode(vid_path_in, vid_path_out, codec = cv.cudacodec.H264, params = cv.cudacodec_VideoReaderInitParams(), \n",
    "              color_format = cv.cudacodec.COLOR_FORMAT_BGRA):\n",
    "    stream = cv.cuda.Stream()\n",
    "    reader = cv.cudacodec.createVideoReader(vid_path_in,params=params)\n",
    "    reader.set(color_format)\n",
    "    format = reader.format()\n",
    "    if params.targetSz != (0,0):\n",
    "        w,h = params.targetSz   \n",
    "    else:\n",
    "        w,h = (format.width,format.height)\n",
    "        h  = (np.ceil(h/16)*16).astype(int)\n",
    "    \n",
    "    h_decode = h if color_format != cv.cudacodec.COLOR_FORMAT_NV_NV12 else int(h*1.5)\n",
    "    frame = cv.cuda.GpuMat(h_decode,w,cvFormat(color_format))\n",
    "    writer = cv.cudacodec.createVideoWriter(vid_path_out,[w,h],codec,colorFormat = color_format,stream=stream)\n",
    "    n_frames = 0\n",
    "    start = time.time()    \n",
    "    ret, _ = reader.nextFrame(frame,stream)\n",
    "    while(ret):\n",
    "        n_frames += 1\n",
    "        writer.write(frame)\n",
    "        ret, _ = reader.nextFrame(frame,stream)\n",
    "    writer.release()\n",
    "    end = time.time()\n",
    "    return n_frames/(end - start), n_frames;"
   ]
  },
  {
   "cell_type": "markdown",
   "id": "d80d6081",
   "metadata": {},
   "source": [
    "#### First convert 4K(h264) to 1080p(hevc) for benchmarking"
   ]
  },
  {
   "cell_type": "markdown",
   "id": "29e57bf2",
   "metadata": {},
   "source": [
    "##### Windows 11"
   ]
  },
  {
   "cell_type": "code",
   "execution_count": 10,
   "id": "3ba986cd",
   "metadata": {},
   "outputs": [
    {
     "name": "stdout",
     "output_type": "stream",
     "text": [
      "Windows 11: Transcoded 900 frames from 4k(h264) to 1080p(hevc) at fps= 145.09\n"
     ]
    }
   ],
   "source": [
    "params = cv.cudacodec_VideoReaderInitParams()\n",
    "params.targetSz = (1920,1080)\n",
    "params.minNumDecodeSurfaces = 10 # maximum decoding performance\n",
    "fps, n_frames = transcode(vid_path_in_4k,vid_path_in_out_1080p,cv.cudacodec.HEVC,params)\n",
    "print(f'Windows 11: Transcoded {n_frames} frames from 4k(h264) to 1080p(hevc) at fps= {fps:.2f}')"
   ]
  },
  {
   "cell_type": "markdown",
   "id": "853765f1",
   "metadata": {},
   "source": [
    "#### Bench"
   ]
  },
  {
   "cell_type": "markdown",
   "id": "74690bbe",
   "metadata": {},
   "source": [
    "Benchmark 1080p transcoding - timings will be slightly optimistic because decoding begins as soon as the VideoWriter is created"
   ]
  },
  {
   "cell_type": "markdown",
   "id": "167e550f",
   "metadata": {},
   "source": [
    "##### Windows 11"
   ]
  },
  {
   "cell_type": "code",
   "execution_count": 11,
   "id": "146c5c18",
   "metadata": {},
   "outputs": [
    {
     "name": "stdout",
     "output_type": "stream",
     "text": [
      "Windows 11 (warmup): Transcoded 900 frames from 1080p(hevc) to 1080p(h264) at fps = 538.10\n",
      "Windows 11: Transcoded 900 frames from 1080p(hevc) to 1080p(h264) at fps = 534.52\n"
     ]
    }
   ],
   "source": [
    "params = cv.cudacodec_VideoReaderInitParams()\n",
    "params.targetSz = (1920,1080)\n",
    "params.minNumDecodeSurfaces = 30 # maximum decoding performance\n",
    "fps, n_frames = transcode(vid_path_in_out_1080p,vid_path_out_1080p,cv.cudacodec.H264,params,cv.cudacodec.COLOR_FORMAT_NV_NV12)\n",
    "print(f'Windows 11 (warmup): Transcoded {n_frames} frames from 1080p(hevc) to 1080p(h264) at fps = {fps:.2f}')\n",
    "fps, n_frames = transcode(vid_path_in_out_1080p,vid_path_out_1080p,cv.cudacodec.H264,params,cv.cudacodec.COLOR_FORMAT_NV_NV12)\n",
    "print(f'Windows 11: Transcoded {n_frames} frames from 1080p(hevc) to 1080p(h264) at fps = {fps:.2f}')"
   ]
  },
  {
   "cell_type": "markdown",
   "id": "92ef9708",
   "metadata": {},
   "source": [
    "##### Ubuntu 20.04 LTS WSL"
   ]
  },
  {
   "cell_type": "code",
   "execution_count": 12,
   "id": "e11e0630",
   "metadata": {},
   "outputs": [
    {
     "name": "stdout",
     "output_type": "stream",
     "text": [
      "Ubuntu 20.04 LTS WSL: Transcoded 900 frames from 1080p(hevc) to 1080p(h264) at fps = 537.07\n"
     ]
    }
   ],
   "source": [
    "params = cv.cudacodec_VideoReaderInitParams()\n",
    "params.targetSz = (1920,1080)\n",
    "params.minNumDecodeSurfaces = 30 # maximum decoding performance\n",
    "fps, n_frames = transcode(vid_path_in_out_1080p,vid_path_out_1080p,cv.cudacodec.H264,params,cv.cudacodec.COLOR_FORMAT_NV_NV12)\n",
    "print(f'Ubuntu 20.04 LTS WSL: Transcoded {n_frames} frames from 1080p(hevc) to 1080p(h264) at fps = {fps:.2f}')"
   ]
  },
  {
   "cell_type": "markdown",
   "id": "448e2011",
   "metadata": {},
   "source": [
    "### `cv::VideoCapture` -> `cv::cudacodec::VideoWriter`"
   ]
  },
  {
   "cell_type": "code",
   "execution_count": 13,
   "id": "e604e9f0",
   "metadata": {},
   "outputs": [],
   "source": [
    "def transcode_cpu_to_gpu(vid_path_in, vid_path_out, codec = cv.cudacodec.H264):\n",
    "    cap = cv.VideoCapture(vid_path_in,cv.CAP_FFMPEG,(cv.CAP_PROP_HW_ACCELERATION, cv.VIDEO_ACCELERATION_NONE))\n",
    "    w = int(cap.get(cv.CAP_PROP_FRAME_WIDTH))\n",
    "    h = int(cap.get(cv.CAP_PROP_FRAME_HEIGHT))\n",
    "    frame = np.zeros((h,w,3),dtype='uint8')\n",
    "    writer = cv.cudacodec.createVideoWriter(vid_path_out,[w,h],codec,cv.cudacodec.COLOR_FORMAT_BGR)\n",
    "    n_frames = 0\n",
    "    start = time.time()\n",
    "    ret, _ = cap.read(frame)\n",
    "    while(ret):\n",
    "        n_frames += 1\n",
    "        writer.write(frame)\n",
    "        ret, _ = cap.read(frame)\n",
    "    writer.release()\n",
    "    end = time.time()\n",
    "    return n_frames/(end - start), n_frames;"
   ]
  },
  {
   "cell_type": "markdown",
   "id": "22249f72",
   "metadata": {},
   "source": [
    "##### Windows 11"
   ]
  },
  {
   "cell_type": "code",
   "execution_count": 14,
   "id": "5ea43c3d",
   "metadata": {},
   "outputs": [
    {
     "name": "stdout",
     "output_type": "stream",
     "text": [
      "Windows 11 (warmup): Transcoded 900 frames from 1080p(hevc) to 1080p(h264) at fps = 194.77\n",
      "Windows 11: Transcoded 900 frames from 1080p(hevc) to 1080p(h264) at fps = 173.61\n"
     ]
    }
   ],
   "source": [
    "fps, n_frames = transcode_cpu_to_gpu(vid_path_in_out_1080p,vid_path_out_1080p,cv.cudacodec.H264)\n",
    "print(f'Windows 11 (warmup): Transcoded {n_frames} frames from 1080p(hevc) to 1080p(h264) at fps = {fps:.2f}')\n",
    "fps, n_frames = transcode_cpu_to_gpu(vid_path_in_out_1080p,vid_path_out_1080p,cv.cudacodec.H264)\n",
    "print(f'Windows 11: Transcoded {n_frames} frames from 1080p(hevc) to 1080p(h264) at fps = {fps:.2f}')"
   ]
  },
  {
   "cell_type": "markdown",
   "id": "a8a22627",
   "metadata": {},
   "source": [
    "##### Ubuntu 20.04 LTS WSL"
   ]
  },
  {
   "cell_type": "code",
   "execution_count": 15,
   "id": "5c1bce22",
   "metadata": {},
   "outputs": [
    {
     "name": "stdout",
     "output_type": "stream",
     "text": [
      "Ubuntu 20.04 LTS WSL: Transcoded 900 frames from 1080p(hevc) to 1080p(h264) at fps = 147.78\n"
     ]
    }
   ],
   "source": [
    "fps, n_frames = transcode_cpu_to_gpu(vid_path_in_out_1080p,vid_path_out_1080p,cv.cudacodec.H264)\n",
    "print(f'Ubuntu 20.04 LTS WSL: Transcoded {n_frames} frames from 1080p(hevc) to 1080p(h264) at fps = {fps:.2f}')"
   ]
  },
  {
   "cell_type": "markdown",
   "id": "0a7d033b",
   "metadata": {},
   "source": [
    "### `cv::VideoCapture` -> `cv::VideoCapture`"
   ]
  },
  {
   "cell_type": "markdown",
   "id": "5ada4a60",
   "metadata": {},
   "source": [
    "Hardware acceleration not available on Linux"
   ]
  },
  {
   "cell_type": "code",
   "execution_count": 16,
   "id": "c4d41f58",
   "metadata": {},
   "outputs": [],
   "source": [
    "def transcode_videocapture(vid_path_in, vid_path_out, hw_decode = False, hw_encode = False):   \n",
    "    props_decode  = (cv.CAP_PROP_HW_ACCELERATION, cv.VIDEO_ACCELERATION_ANY) if hw_decode else (cv.CAP_PROP_HW_ACCELERATION, cv.VIDEO_ACCELERATION_NONE)\n",
    "    props_encode  = (cv.VIDEOWRITER_PROP_HW_ACCELERATION, cv.VIDEO_ACCELERATION_ANY) if hw_encode else (cv.VIDEOWRITER_PROP_HW_ACCELERATION, cv.VIDEO_ACCELERATION_NONE)\n",
    "    cap = cv.VideoCapture(vid_path_in,cv.CAP_FFMPEG, props_decode)\n",
    "    #fourcc = cv.VideoWriter_fourcc(*\"mp4v\")\n",
    "    fourcc = cv.VideoWriter_fourcc(*\"avc1\")\n",
    "    fps = cap.get(cv.CAP_PROP_FPS)\n",
    "    width = int(cap.get(cv.CAP_PROP_FRAME_WIDTH))\n",
    "    height = int(cap.get(cv.CAP_PROP_FRAME_HEIGHT))\n",
    "    writer = cv.VideoWriter(vid_path_out, fourcc, fps, (width,height), props_encode)\n",
    "    frame = np.zeros((height,width,3),dtype='uint8')\n",
    "    n_frames = 0\n",
    "    start = time.time()\n",
    "    ret, _ = cap.read(frame)\n",
    "    while(ret):\n",
    "        n_frames += 1\n",
    "        writer.write(frame)\n",
    "        ret, _ = cap.read(frame)\n",
    "    writer.release()\n",
    "    end = time.time()\n",
    "    return n_frames/(end - start), n_frames;"
   ]
  },
  {
   "cell_type": "markdown",
   "id": "f8662a1e",
   "metadata": {},
   "source": [
    "##### Windows 11"
   ]
  },
  {
   "cell_type": "markdown",
   "id": "90a8a476",
   "metadata": {},
   "source": [
    "HW Encoding Only"
   ]
  },
  {
   "cell_type": "code",
   "execution_count": 17,
   "id": "f187fa97",
   "metadata": {},
   "outputs": [
    {
     "name": "stdout",
     "output_type": "stream",
     "text": [
      "Windows 11: Transcoded 900 frames from 1080p(hevc) to 1080p(h264) at fps = 174.95\n"
     ]
    }
   ],
   "source": [
    "fps, n_frames = transcode_videocapture(vid_path_in_out_1080p,vid_path_out_1080p_mp4, False, True)\n",
    "print(f'Windows 11: Transcoded {n_frames} frames from 1080p(hevc) to 1080p(h264) at fps = {fps:.2f}')"
   ]
  },
  {
   "cell_type": "markdown",
   "id": "d7edd7ea",
   "metadata": {},
   "source": [
    "HW Encoding and Decoding - the hw decoder is the bottleneck\n"
   ]
  },
  {
   "cell_type": "code",
   "execution_count": 18,
   "id": "d4f387e2",
   "metadata": {},
   "outputs": [
    {
     "name": "stdout",
     "output_type": "stream",
     "text": [
      "Windows 11: Transcoded 900 frames from 1080p(hevc) to 1080p(h264) at fps = 103.11\n"
     ]
    }
   ],
   "source": [
    "fps, n_frames = transcode_videocapture(vid_path_in_out_1080p,vid_path_out_1080p_mp4, True, True)\n",
    "print(f'Windows 11: Transcoded {n_frames} frames from 1080p(hevc) to 1080p(h264) at fps = {fps:.2f}')"
   ]
  },
  {
   "cell_type": "markdown",
   "id": "316d83b6",
   "metadata": {},
   "source": [
    "##### Ubuntu 20.04 LTS WSL"
   ]
  },
  {
   "cell_type": "code",
   "execution_count": 19,
   "id": "d639b169",
   "metadata": {},
   "outputs": [
    {
     "name": "stdout",
     "output_type": "stream",
     "text": [
      "Ubuntu 20.04 LTS WSL: Transcoded 900 frames from 1080p(hevc) to 1080p(h264) at fps = 97.68\n"
     ]
    }
   ],
   "source": [
    "fps, n_frames = transcode_videocapture(vid_path_in_out_1080p,vid_path_out_1080p_mp4, True, True)\n",
    "print(f'Ubuntu 20.04 LTS WSL: Transcoded {n_frames} frames from 1080p(hevc) to 1080p(h264) at fps = {fps:.2f}')"
   ]
  },
  {
   "cell_type": "markdown",
   "id": "2904536e",
   "metadata": {},
   "source": [
    "## Encoding Examples"
   ]
  },
  {
   "cell_type": "markdown",
   "id": "4904c4d4",
   "metadata": {},
   "source": [
    "### `cv::cudacodec::VideoWriter`"
   ]
  },
  {
   "cell_type": "code",
   "execution_count": 20,
   "id": "42e65975",
   "metadata": {},
   "outputs": [],
   "source": [
    "def encode_bench(vid_path_in, vid_path_out, codec = cv.cudacodec.H264, params = cv.cudacodec_VideoReaderInitParams(), \n",
    "              color_format = cv.cudacodec.COLOR_FORMAT_BGRA):\n",
    "    stream = cv.cuda.Stream()\n",
    "    reader = cv.cudacodec.createVideoReader(vid_path_in,params=params)\n",
    "    reader.set(color_format)\n",
    "    format = reader.format()\n",
    "    if params.targetSz != (0,0):\n",
    "        w,h = params.targetSz   \n",
    "    else:\n",
    "        w,h = (format.width,format.height)\n",
    "        h  = (np.ceil(h/16)*16).astype(int)\n",
    "    \n",
    "    h_decode = h if color_format != cv.cudacodec.COLOR_FORMAT_NV_NV12 else int(h*1.5)\n",
    "    frame = cv.cuda.GpuMat(h_decode,w,cvFormat(color_format))\n",
    "    writer = cv.cudacodec.createVideoWriter(vid_path_out,[w,h],codec,colorFormat = color_format,stream=stream)\n",
    "    n_frames = 0\n",
    "    frames = [];\n",
    "    ret, _ = reader.nextFrame(frame,stream)\n",
    "    while(ret):\n",
    "        frames.append(frame.clone())\n",
    "        ret, _ = reader.nextFrame(frame,stream)\n",
    "    stream.waitForCompletion()\n",
    "    start = time.time()\n",
    "    for frame_to_encode in frames:        \n",
    "        n_frames += 1\n",
    "        writer.write(frame_to_encode)        \n",
    "    writer.release()\n",
    "    end = time.time()\n",
    "    return n_frames/(end - start), n_frames;"
   ]
  },
  {
   "cell_type": "markdown",
   "id": "711b668a",
   "metadata": {},
   "source": [
    "##### Windows 11"
   ]
  },
  {
   "cell_type": "code",
   "execution_count": 21,
   "id": "310b88ca",
   "metadata": {},
   "outputs": [
    {
     "name": "stdout",
     "output_type": "stream",
     "text": [
      "Windows 11 (warmup): Encoded 900 frames from 1080p(hevc) to 1080p(h264) at fps = 542.75\n",
      "Windows 11: Encoded 900 frames from 1080p(hevc) to 1080p(h264) at fps = 537.46\n"
     ]
    }
   ],
   "source": [
    "params = cv.cudacodec_VideoReaderInitParams()\n",
    "params.targetSz = (1920,1080)\n",
    "params.minNumDecodeSurfaces = 30 # maximum decoding performance\n",
    "fps, n_frames = encode_bench(vid_path_in_out_1080p,vid_path_out_1080p,cv.cudacodec.H264,params,cv.cudacodec.COLOR_FORMAT_NV_NV12)\n",
    "print(f'Windows 11 (warmup): Encoded {n_frames} frames from 1080p(hevc) to 1080p(h264) at fps = {fps:.2f}')\n",
    "fps, n_frames = encode_bench(vid_path_in_out_1080p,vid_path_out_1080p,cv.cudacodec.H264,params,cv.cudacodec.COLOR_FORMAT_NV_NV12)\n",
    "print(f'Windows 11: Encoded {n_frames} frames from 1080p(hevc) to 1080p(h264) at fps = {fps:.2f}')"
   ]
  },
  {
   "cell_type": "markdown",
   "id": "736e2754",
   "metadata": {},
   "source": [
    "##### Ubuntu 20.04 LTS WSL"
   ]
  },
  {
   "cell_type": "code",
   "execution_count": 22,
   "id": "9f0bb099",
   "metadata": {},
   "outputs": [
    {
     "name": "stdout",
     "output_type": "stream",
     "text": [
      "Ubuntu 20.04 LTS WSL: Encoded 900 frames from 1080p(hevc) to 1080p(h264) at fps = 538.94\n"
     ]
    }
   ],
   "source": [
    "params = cv.cudacodec_VideoReaderInitParams()\n",
    "params.targetSz = (1920,1080)\n",
    "params.minNumDecodeSurfaces = 30 # maximum decoding performance\n",
    "fps, n_frames = encode_bench(vid_path_in_out_1080p,vid_path_out_1080p,cv.cudacodec.H264,params,cv.cudacodec.COLOR_FORMAT_NV_NV12)\n",
    "print(f'Ubuntu 20.04 LTS WSL: Encoded {n_frames} frames from 1080p(hevc) to 1080p(h264) at fps = {fps:.2f}')"
   ]
  },
  {
   "cell_type": "markdown",
   "id": "c41a5793",
   "metadata": {},
   "source": [
    "### `cv::VideoWriter` with hardware acceleration - unable to disable on windows"
   ]
  },
  {
   "cell_type": "code",
   "execution_count": 23,
   "id": "b756607b",
   "metadata": {},
   "outputs": [],
   "source": [
    "def encode_bench_videocapture(vid_path_in, vid_path_out, hw_decode = False, hw_encode = False):   \n",
    "    props_decode  = (cv.CAP_PROP_HW_ACCELERATION, cv.VIDEO_ACCELERATION_ANY) if hw_decode else (cv.CAP_PROP_HW_ACCELERATION, cv.VIDEO_ACCELERATION_NONE)\n",
    "    props_encode  = (cv.VIDEOWRITER_PROP_HW_ACCELERATION, cv.VIDEO_ACCELERATION_ANY) if hw_encode else (cv.VIDEOWRITER_PROP_HW_ACCELERATION, cv.VIDEO_ACCELERATION_NONE)\n",
    "    cap = cv.VideoCapture(vid_path_in,cv.CAP_FFMPEG, props_decode)\n",
    "    #fourcc = cv.VideoWriter_fourcc(*\"mp4v\")\n",
    "    fourcc = cv.VideoWriter_fourcc(*\"avc1\")\n",
    "    fps = cap.get(cv.CAP_PROP_FPS)\n",
    "    width = int(cap.get(cv.CAP_PROP_FRAME_WIDTH))\n",
    "    height = int(cap.get(cv.CAP_PROP_FRAME_HEIGHT))\n",
    "    \n",
    "    frame = np.zeros((height,width,3),dtype='uint8')\n",
    "    n_frames = 0\n",
    "    frames = []\n",
    "    ret, _ = cap.read(frame)\n",
    "    while(ret):\n",
    "        frames.append(frame.copy())\n",
    "        ret, _ = cap.read(frame)\n",
    "    #time.sleep(10)\n",
    "    writer = cv.VideoWriter(vid_path_out, fourcc, fps, (width,height), props_encode)\n",
    "    start = time.time()\n",
    "    for frame_to_encode in frames:\n",
    "        n_frames += 1\n",
    "        writer.write(frame_to_encode)    \n",
    "    writer.release()\n",
    "    end = time.time()\n",
    "    return n_frames/(end - start), n_frames;"
   ]
  },
  {
   "cell_type": "code",
   "execution_count": 24,
   "id": "51f41336",
   "metadata": {},
   "outputs": [
    {
     "name": "stdout",
     "output_type": "stream",
     "text": [
      "1.001640796661377\n",
      "11.010230779647827\n"
     ]
    }
   ],
   "source": [
    "start = time.time()\n",
    "time.sleep(1)\n",
    "print(time.time() - start)\n",
    "time.sleep(10)\n",
    "print(time.time() - start)"
   ]
  },
  {
   "cell_type": "code",
   "execution_count": 25,
   "id": "be7f60c8",
   "metadata": {},
   "outputs": [],
   "source": [
    "# running decode kills the performance of inbuilt hardware encoder?"
   ]
  },
  {
   "cell_type": "code",
   "execution_count": 26,
   "id": "78711c57",
   "metadata": {},
   "outputs": [],
   "source": [
    "vid_path_in = vid_path_in_out_1080p\n",
    "vid_path_out = vid_path_out_1080p_mp4\n",
    "props_decode  = (cv.CAP_PROP_HW_ACCELERATION, cv.VIDEO_ACCELERATION_NONE)\n",
    "props_encode  = (cv.VIDEOWRITER_PROP_HW_ACCELERATION, cv.VIDEO_ACCELERATION_ANY)\n",
    "cap = cv.VideoCapture(vid_path_in,cv.CAP_FFMPEG, props_decode)\n",
    "#fourcc = cv.VideoWriter_fourcc(*\"mp4v\")\n",
    "fourcc = cv.VideoWriter_fourcc(*\"avc1\")\n",
    "fps = cap.get(cv.CAP_PROP_FPS)\n",
    "width = int(cap.get(cv.CAP_PROP_FRAME_WIDTH))\n",
    "height = int(cap.get(cv.CAP_PROP_FRAME_HEIGHT))\n",
    "#writer = cv.VideoWriter(vid_path_out, fourcc, fps, (width,height), props_encode)\n",
    "frame = np.zeros((height,width,3),dtype='uint8')\n",
    "n_frames = 0\n",
    "frames = []\n",
    "ret, _ = cap.read(frame)\n",
    "while(ret):\n",
    "    frames.append(frame.copy())\n",
    "    ret, _ = cap.read(frame)\n",
    "            "
   ]
  },
  {
   "cell_type": "code",
   "execution_count": 27,
   "id": "adeff45a",
   "metadata": {},
   "outputs": [
    {
     "data": {
      "text/plain": [
       "(240.43738011167878, 900)"
      ]
     },
     "execution_count": 27,
     "metadata": {},
     "output_type": "execute_result"
    }
   ],
   "source": [
    "\n",
    "writer = cv.VideoWriter(vid_path_out, fourcc, fps, (width,height), props_encode)\n",
    "#time.sleep(10)\n",
    "n_frames = 0\n",
    "start = time.time()\n",
    "for frame_to_encode in frames:\n",
    "    n_frames += 1\n",
    "    writer.write(frame_to_encode)    \n",
    "writer.release()\n",
    "end = time.time()\n",
    "n_frames/(end - start), n_frames\n",
    "#return n_frames/(end - start), n_frames;"
   ]
  },
  {
   "cell_type": "code",
   "execution_count": 28,
   "id": "aa1ec5da",
   "metadata": {},
   "outputs": [
    {
     "data": {
      "text/plain": [
       "900"
      ]
     },
     "execution_count": 28,
     "metadata": {},
     "output_type": "execute_result"
    }
   ],
   "source": [
    "len(frames)"
   ]
  },
  {
   "cell_type": "code",
   "execution_count": null,
   "id": "32d525fa",
   "metadata": {},
   "outputs": [],
   "source": []
  },
  {
   "cell_type": "markdown",
   "id": "496058f5",
   "metadata": {},
   "source": [
    "Decoding is the bottleneck.  Note: Running encoding twice has reduced performace memory?"
   ]
  },
  {
   "cell_type": "markdown",
   "id": "0f7993c0",
   "metadata": {},
   "source": [
    "##### Windows 11"
   ]
  },
  {
   "cell_type": "code",
   "execution_count": 29,
   "id": "7382659f",
   "metadata": {},
   "outputs": [
    {
     "name": "stdout",
     "output_type": "stream",
     "text": [
      "Windows 11: Encoded 900 frames from 1080p(hevc) to 1080p(h264) at fps = 260.64\n"
     ]
    }
   ],
   "source": [
    "fps, n_frames = encode_bench_videocapture(vid_path_in_out_1080p,vid_path_out_1080p_mp4, False, True)\n",
    "print(f'Windows 11: Encoded {n_frames} frames from 1080p(hevc) to 1080p(h264) at fps = {fps:.2f}')"
   ]
  },
  {
   "cell_type": "code",
   "execution_count": 32,
   "id": "8dcc9fc0",
   "metadata": {},
   "outputs": [
    {
     "name": "stdout",
     "output_type": "stream",
     "text": [
      "Windows 11: Encoded 900 frames from 1080p(hevc) to 1080p(h264) at fps = 259.42\n"
     ]
    }
   ],
   "source": [
    "fps, n_frames = encode_bench_videocapture(vid_path_in_out_1080p,vid_path_out_1080p_mp4, False, True)\n",
    "print(f'Windows 11: Encoded {n_frames} frames from 1080p(hevc) to 1080p(h264) at fps = {fps:.2f}')"
   ]
  },
  {
   "cell_type": "markdown",
   "id": "834442f8",
   "metadata": {},
   "source": [
    "##### Ubuntu 20.04 LTS WSL"
   ]
  },
  {
   "cell_type": "code",
   "execution_count": 31,
   "id": "193273f2",
   "metadata": {},
   "outputs": [
    {
     "name": "stdout",
     "output_type": "stream",
     "text": [
      "Ubuntu 20.04 LTS WSL:  Encoded 900 frames from 1080p(hevc) to 1080p(h264) at fps = 256.27\n"
     ]
    }
   ],
   "source": [
    "fps, n_frames = encode_bench_videocapture(vid_path_in_out_1080p,vid_path_out_1080p_mp4, False, True)\n",
    "print(f'Ubuntu 20.04 LTS WSL:  Encoded {n_frames} frames from 1080p(hevc) to 1080p(h264) at fps = {fps:.2f}')"
   ]
  },
  {
   "cell_type": "code",
   "execution_count": null,
   "id": "b4a4cc06",
   "metadata": {},
   "outputs": [],
   "source": []
  }
 ],
 "metadata": {
  "kernelspec": {
   "display_name": "Python 3 (ipykernel)",
   "language": "python",
   "name": "python3"
  },
  "language_info": {
   "codemirror_mode": {
    "name": "ipython",
    "version": 3
   },
   "file_extension": ".py",
   "mimetype": "text/x-python",
   "name": "python",
   "nbconvert_exporter": "python",
   "pygments_lexer": "ipython3",
   "version": "3.9.13"
  },
  "toc": {
   "base_numbering": 1,
   "nav_menu": {},
   "number_sections": true,
   "sideBar": true,
   "skip_h1_title": false,
   "title_cell": "Table of Contents",
   "title_sidebar": "Contents",
   "toc_cell": false,
   "toc_position": {},
   "toc_section_display": true,
   "toc_window_display": false
  },
  "varInspector": {
   "cols": {
    "lenName": 16,
    "lenType": 16,
    "lenVar": 40
   },
   "kernels_config": {
    "python": {
     "delete_cmd_postfix": "",
     "delete_cmd_prefix": "del ",
     "library": "var_list.py",
     "varRefreshCmd": "print(var_dic_list())"
    },
    "r": {
     "delete_cmd_postfix": ") ",
     "delete_cmd_prefix": "rm(",
     "library": "var_list.r",
     "varRefreshCmd": "cat(var_dic_list()) "
    }
   },
   "types_to_exclude": [
    "module",
    "function",
    "builtin_function_or_method",
    "instance",
    "_Feature"
   ],
   "window_display": false
  }
 },
 "nbformat": 4,
 "nbformat_minor": 5
}
