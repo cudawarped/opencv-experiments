{
 "cells": [
  {
   "cell_type": "markdown",
   "id": "1545a406",
   "metadata": {},
   "source": [
    "# cv.cudacodec"
   ]
  },
  {
   "cell_type": "code",
   "execution_count": 1,
   "id": "d3f8a4b0",
   "metadata": {},
   "outputs": [],
   "source": [
    "import cv2 as cv\n",
    "import os\n",
    "import time\n",
    "import numpy as np"
   ]
  },
  {
   "cell_type": "markdown",
   "id": "ac450ca8",
   "metadata": {},
   "source": [
    "## Transcoding Example"
   ]
  },
  {
   "cell_type": "markdown",
   "id": "33f348a4",
   "metadata": {},
   "source": [
    "Quick example comparing cv.cudacodec transcoding with cv on ubuntu using python wheel from https://github.com/cudawarped/opencv-python-cuda-wheels/releases/tag/4.6.0.20221102.\n",
    "\n",
    "GPU: Mobile RTX 3070 Ti (5th gen decoder & 7th gen encoder)\n",
    "\n",
    "CPU: i7-12700H\n",
    "\n",
    "The benchmark results are not comparable because CPU hardware decoding was not available for the chosen codecs."
   ]
  },
  {
   "cell_type": "code",
   "execution_count": 2,
   "id": "21825e40",
   "metadata": {},
   "outputs": [],
   "source": [
    "vid_path_in_4k = '/home/b/media/jellyfish-120-mbps-4k-uhd-h264.mkv'\n",
    "vid_path_in_out_1080p = '/home/b/media/jelly_1080p.hevc'\n",
    "vid_path_out_1080p = '/home/b/media/jelly.h264'\n",
    "vid_path_out_1080p_mp4 = '/home/b/media/jelly.mp4'"
   ]
  },
  {
   "cell_type": "code",
   "execution_count": 3,
   "id": "43ae6af1",
   "metadata": {},
   "outputs": [
    {
     "name": "stdout",
     "output_type": "stream",
     "text": [
      "\n",
      "General configuration for OpenCV 4.6.0-dev =====================================\n",
      "  Version control:               4.6.0-504-gee9137f176\n",
      "\n",
      "  Extra modules:\n",
      "    Location (extra):            /home/b/repos/opencv/opencv-python/opencv_contrib/modules\n",
      "    Version control (extra):     4.6.0-106-g9d84eaed\n",
      "\n",
      "  Platform:\n",
      "    Timestamp:                   2022-11-02T16:24:13Z\n",
      "    Host:                        Linux 5.10.16.3-microsoft-standard-WSL2 x86_64\n",
      "    CMake:                       3.24.1\n",
      "    CMake generator:             Ninja\n",
      "    CMake build tool:            /usr/bin/ninja\n",
      "    Configuration:               Release\n",
      "\n",
      "  CPU/HW features:\n",
      "    Baseline:                    SSE SSE2 SSE3\n",
      "      requested:                 SSE3\n",
      "    Dispatched code generation:  SSE4_1 SSE4_2 FP16 AVX AVX2 AVX512_SKX\n",
      "      requested:                 SSE4_1 SSE4_2 AVX FP16 AVX2 AVX512_SKX\n",
      "      SSE4_1 (16 files):         + SSSE3 SSE4_1\n",
      "      SSE4_2 (1 files):          + SSSE3 SSE4_1 POPCNT SSE4_2\n",
      "      FP16 (0 files):            + SSSE3 SSE4_1 POPCNT SSE4_2 FP16 AVX\n",
      "      AVX (4 files):             + SSSE3 SSE4_1 POPCNT SSE4_2 AVX\n",
      "      AVX2 (32 files):           + SSSE3 SSE4_1 POPCNT SSE4_2 FP16 FMA3 AVX AVX2\n",
      "      AVX512_SKX (5 files):      + SSSE3 SSE4_1 POPCNT SSE4_2 FP16 FMA3 AVX AVX2 AVX_512F AVX512_COMMON AVX512_SKX\n",
      "\n",
      "  C/C++:\n",
      "    Built as dynamic libs?:      NO\n",
      "    C++ standard:                11\n",
      "    C++ Compiler:                /usr/bin/c++  (ver 9.4.0)\n",
      "    C++ flags (Release):         -fsigned-char -W -Wall -Wreturn-type -Wnon-virtual-dtor -Waddress -Wsequence-point -Wformat -Wformat-security -Wmissing-declarations -Wundef -Winit-self -Wpointer-arith -Wshadow -Wsign-promo -Wuninitialized -Wsuggest-override -Wno-delete-non-virtual-dtor -Wno-comment -Wimplicit-fallthrough=3 -Wno-strict-overflow -fdiagnostics-show-option -Wno-long-long -pthread -fomit-frame-pointer -ffunction-sections -fdata-sections  -msse -msse2 -msse3 -fvisibility=hidden -fvisibility-inlines-hidden -O3 -DNDEBUG  -DNDEBUG\n",
      "    C++ flags (Debug):           -fsigned-char -W -Wall -Wreturn-type -Wnon-virtual-dtor -Waddress -Wsequence-point -Wformat -Wformat-security -Wmissing-declarations -Wundef -Winit-self -Wpointer-arith -Wshadow -Wsign-promo -Wuninitialized -Wsuggest-override -Wno-delete-non-virtual-dtor -Wno-comment -Wimplicit-fallthrough=3 -Wno-strict-overflow -fdiagnostics-show-option -Wno-long-long -pthread -fomit-frame-pointer -ffunction-sections -fdata-sections  -msse -msse2 -msse3 -fvisibility=hidden -fvisibility-inlines-hidden -g  -O0 -DDEBUG -D_DEBUG\n",
      "    C Compiler:                  /usr/bin/cc\n",
      "    C flags (Release):           -fsigned-char -W -Wall -Wreturn-type -Waddress -Wsequence-point -Wformat -Wformat-security -Wmissing-declarations -Wmissing-prototypes -Wstrict-prototypes -Wundef -Winit-self -Wpointer-arith -Wshadow -Wuninitialized -Wno-comment -Wimplicit-fallthrough=3 -Wno-strict-overflow -fdiagnostics-show-option -Wno-long-long -pthread -fomit-frame-pointer -ffunction-sections -fdata-sections  -msse -msse2 -msse3 -fvisibility=hidden -O3 -DNDEBUG  -DNDEBUG\n",
      "    C flags (Debug):             -fsigned-char -W -Wall -Wreturn-type -Waddress -Wsequence-point -Wformat -Wformat-security -Wmissing-declarations -Wmissing-prototypes -Wstrict-prototypes -Wundef -Winit-self -Wpointer-arith -Wshadow -Wuninitialized -Wno-comment -Wimplicit-fallthrough=3 -Wno-strict-overflow -fdiagnostics-show-option -Wno-long-long -pthread -fomit-frame-pointer -ffunction-sections -fdata-sections  -msse -msse2 -msse3 -fvisibility=hidden -g  -O0 -DDEBUG -D_DEBUG\n",
      "    Linker flags (Release):      -Wl,--exclude-libs,libippicv.a -Wl,--exclude-libs,libippiw.a   -Wl,--gc-sections -Wl,--as-needed -Wl,--no-undefined  \n",
      "    Linker flags (Debug):        -Wl,--exclude-libs,libippicv.a -Wl,--exclude-libs,libippiw.a   -Wl,--gc-sections -Wl,--as-needed -Wl,--no-undefined  \n",
      "    ccache:                      NO\n",
      "    Precompiled headers:         NO\n",
      "    Extra dependencies:          openjp2 /usr/lib/wsl/lib/libcuda.so /home/b/stubs/nvcuvid/libnvcuvid.so /home/b/stubs/nvcuvid/libnvidia-encode.so Iconv::Iconv m pthread cudart_static dl rt nppc nppial nppicc nppidei nppif nppig nppim nppist nppisu nppitc npps cublas cudnn cufft -L/usr/local/cuda/lib64 -L/usr/lib/x86_64-linux-gnu\n",
      "    3rdparty dependencies:       libprotobuf ade ittnotify libjpeg-turbo libwebp libpng libtiff IlmImf zlib quirc ippiw ippicv\n",
      "\n",
      "  OpenCV modules:\n",
      "    To be built:                 aruco barcode bgsegm bioinspired calib3d ccalib core cudaarithm cudabgsegm cudacodec cudafeatures2d cudafilters cudaimgproc cudalegacy cudaobjdetect cudaoptflow cudastereo cudawarping cudev datasets dnn dnn_objdetect dnn_superres dpm face features2d flann fuzzy gapi hfs highgui img_hash imgcodecs imgproc intensity_transform line_descriptor mcc ml objdetect optflow phase_unwrapping photo plot python3 quality rapid reg rgbd saliency shape stereo stitching structured_light superres surface_matching text tracking video videoio videostab wechat_qrcode xfeatures2d ximgproc xobjdetect xphoto\n",
      "    Disabled:                    world\n",
      "    Disabled by dependency:      -\n",
      "    Unavailable:                 alphamat cvv freetype hdf java julia matlab ovis python2 sfm ts viz\n",
      "    Applications:                -\n",
      "    Documentation:               NO\n",
      "    Non-free algorithms:         NO\n",
      "\n",
      "  GUI:                           NONE\n",
      "    GTK+:                        NO\n",
      "    VTK support:                 NO\n",
      "\n",
      "  Media I/O: \n",
      "    ZLib:                        zlib (ver 1.2.12)\n",
      "    JPEG:                        libjpeg-turbo (ver 2.1.3-62)\n",
      "    WEBP:                        build (ver encoder: 0x020f)\n",
      "    PNG:                         build (ver 1.6.37)\n",
      "    TIFF:                        build (ver 42 - 4.2.0)\n",
      "    JPEG 2000:                   OpenJPEG (ver 2.5.0)\n",
      "    OpenEXR:                     build (ver 2.3.0)\n",
      "    HDR:                         YES\n",
      "    SUNRASTER:                   YES\n",
      "    PXM:                         YES\n",
      "    PFM:                         YES\n",
      "\n",
      "  Video I/O:\n",
      "    DC1394:                      NO\n",
      "    FFMPEG:                      YES\n",
      "      avcodec:                   YES (58.54.100)\n",
      "      avformat:                  YES (58.29.100)\n",
      "      avutil:                    YES (56.31.100)\n",
      "      swscale:                   YES (5.5.100)\n",
      "      avresample:                YES (4.0.0)\n",
      "    GStreamer:                   NO\n",
      "    v4l/v4l2:                    YES (linux/videodev2.h)\n",
      "\n",
      "  Parallel framework:            pthreads\n",
      "\n",
      "  Trace:                         YES (with Intel ITT)\n",
      "\n",
      "  Other third-party libraries:\n",
      "    Intel IPP:                   2020.0.0 Gold [2020.0.0]\n",
      "           at:                   /home/b/repos/opencv/opencv-python/_skbuild/linux-x86_64-3.9/cmake-build/3rdparty/ippicv/ippicv_lnx/icv\n",
      "    Intel IPP IW:                sources (2020.0.0)\n",
      "              at:                /home/b/repos/opencv/opencv-python/_skbuild/linux-x86_64-3.9/cmake-build/3rdparty/ippicv/ippicv_lnx/iw\n",
      "    VA:                          NO\n",
      "    Lapack:                      NO\n",
      "    Eigen:                       NO\n",
      "    Custom HAL:                  NO\n",
      "    Protobuf:                    build (3.19.1)\n",
      "\n",
      "  NVIDIA CUDA:                   YES (ver 11.7, CUFFT CUBLAS NVCUVID NVCUVENC FAST_MATH)\n",
      "    NVIDIA GPU arch:             35 37 50 52 60 61 70 75 80 86\n",
      "    NVIDIA PTX archs:            86\n",
      "\n",
      "  cuDNN:                         YES (ver 8.4.1)\n",
      "\n",
      "  OpenCL:                        YES (no extra features)\n",
      "    Include path:                /home/b/repos/opencv/opencv-python/opencv/3rdparty/include/opencl/1.2\n",
      "    Link libraries:              Dynamic load\n",
      "\n",
      "  Python 3:\n",
      "    Interpreter:                 /home/b/mambaforge/bin/python (ver 3.9.13)\n",
      "    Libraries:                   /home/b/mambaforge/lib/libpython3.9.so (ver 3.9.13)\n",
      "    numpy:                       /home/b/mambaforge/lib/python3.9/site-packages/numpy/core/include (ver 1.23.3)\n",
      "    install path:                python/cv2/python-3\n",
      "\n",
      "  Python (for build):            /home/b/mambaforge/bin/python\n",
      "\n",
      "  Java:                          \n",
      "    ant:                         NO\n",
      "    JNI:                         NO\n",
      "    Java wrappers:               NO\n",
      "    Java tests:                  NO\n",
      "\n",
      "  Install to:                    /home/b/repos/opencv/opencv-python/_skbuild/linux-x86_64-3.9/cmake-install\n",
      "-----------------------------------------------------------------\n",
      "\n",
      "\n"
     ]
    }
   ],
   "source": [
    "print(cv.getBuildInformation())"
   ]
  },
  {
   "cell_type": "markdown",
   "id": "9a66cd2c",
   "metadata": {},
   "source": [
    "### GPU"
   ]
  },
  {
   "cell_type": "code",
   "execution_count": 4,
   "id": "b00f632a",
   "metadata": {},
   "outputs": [],
   "source": [
    "def transcode(vid_path_in, vid_path_out, codec = cv.cudacodec.H264, params = cv.cudacodec_VideoReaderInitParams()):\n",
    "    reader = cv.cudacodec.createVideoReader(vid_path_in,params=params)\n",
    "    reader.set(cv.cudacodec.COLOR_FORMAT_BGR)\n",
    "    format = reader.format()\n",
    "    if params.targetSz != (0,0):\n",
    "        w,h = params.targetSz\n",
    "    else:\n",
    "        w,h = (format.width,format.height)\n",
    "        \n",
    "    frame = cv.cuda.GpuMat(h,w,cv.CV_8UC3)\n",
    "    writer = cv.cudacodec.createVideoWriter(vid_path_out,[w,h],codec)\n",
    "    n_frames = 0\n",
    "    start = time.time()\n",
    "    ret, _ = reader.nextFrame(frame)\n",
    "    while(ret):\n",
    "        n_frames += 1\n",
    "        writer.write(frame)\n",
    "        ret, _ = reader.nextFrame(frame)\n",
    "    writer.release()\n",
    "    end = time.time()\n",
    "    return n_frames/(end - start), n_frames;"
   ]
  },
  {
   "cell_type": "markdown",
   "id": "2eab816e",
   "metadata": {},
   "source": [
    "First convert 4K(h264) to 1080p(hevc) for benchmarking"
   ]
  },
  {
   "cell_type": "code",
   "execution_count": 5,
   "id": "c2e2a129",
   "metadata": {},
   "outputs": [
    {
     "name": "stdout",
     "output_type": "stream",
     "text": [
      "Transcoded 900 frames from 4k(h264) to 1080p(hevc) at fps= 130.99\n"
     ]
    }
   ],
   "source": [
    "params = cv.cudacodec_VideoReaderInitParams()\n",
    "params.targetSz = (1920,1080)\n",
    "fps, n_frames = transcode(vid_path_in_4k,vid_path_in_out_1080p,cv.cudacodec.HEVC,params)\n",
    "print(f'Transcoded {n_frames} frames from 4k(h264) to 1080p(hevc) at fps= {fps:.2f}')"
   ]
  },
  {
   "cell_type": "markdown",
   "id": "7e6dc675",
   "metadata": {},
   "source": [
    "Benchmark 1080p transcoding - timings will be slightly optimistic because decoding begins as soon as the VideoWriter is created"
   ]
  },
  {
   "cell_type": "code",
   "execution_count": 6,
   "id": "511fd755",
   "metadata": {},
   "outputs": [
    {
     "name": "stdout",
     "output_type": "stream",
     "text": [
      "Transcoded 900 frames from 1080p(hevc) to 1080p(h264) at fps = 544.81\n"
     ]
    }
   ],
   "source": [
    "params = cv.cudacodec_VideoReaderInitParams()\n",
    "params.targetSz = (1920,1080)\n",
    "fps, n_frames = transcode(vid_path_in_out_1080p,vid_path_out_1080p,cv.cudacodec.H264,params)\n",
    "print(f'Transcoded {n_frames} frames from 1080p(hevc) to 1080p(h264) at fps = {fps:.2f}')"
   ]
  },
  {
   "cell_type": "markdown",
   "id": "1f7c9033",
   "metadata": {},
   "source": [
    "### CPU"
   ]
  },
  {
   "cell_type": "markdown",
   "id": "d54dbc48",
   "metadata": {},
   "source": [
    "Hardware acceleration does not appear to be available for this codec"
   ]
  },
  {
   "cell_type": "code",
   "execution_count": 7,
   "id": "75263318",
   "metadata": {},
   "outputs": [],
   "source": [
    "def transcode_cpu(vid_path_in, vid_path_out):    \n",
    "    cap = cv.VideoCapture(vid_path_in,cv.CAP_FFMPEG,(cv.CAP_PROP_HW_ACCELERATION, cv.VIDEO_ACCELERATION_ANY))\n",
    "    #fourcc = cv.VideoWriter_fourcc(*\"mp4v\")\n",
    "    fourcc = cv.VideoWriter_fourcc(*\"avc1\")\n",
    "    fps = cap.get(cv.CAP_PROP_FPS)\n",
    "    width = int(cap.get(cv.CAP_PROP_FRAME_WIDTH))\n",
    "    height = int(cap.get(cv.CAP_PROP_FRAME_HEIGHT))\n",
    "    writer = cv.VideoWriter(vid_path_out, fourcc, fps, (width,height),\n",
    "                            (cv.VIDEOWRITER_PROP_HW_ACCELERATION, cv.VIDEO_ACCELERATION_ANY))\n",
    "    frame = np.zeros((height,width,3),dtype='uint8')\n",
    "    n_frames = 0\n",
    "    start = time.time()\n",
    "    ret, _ = cap.read(frame)\n",
    "    while(ret):\n",
    "        n_frames += 1\n",
    "        writer.write(frame)\n",
    "        ret, _ = cap.read(frame)\n",
    "    writer.release()\n",
    "    end = time.time()\n",
    "    return n_frames/(end - start), n_frames;"
   ]
  },
  {
   "cell_type": "markdown",
   "id": "584b13a1",
   "metadata": {},
   "source": [
    "Benchmarking 1080p transcoding without hardware acceleration"
   ]
  },
  {
   "cell_type": "code",
   "execution_count": 8,
   "id": "6ab764d4",
   "metadata": {},
   "outputs": [
    {
     "name": "stdout",
     "output_type": "stream",
     "text": [
      "Transcoded 900 frames from 1080p(hevc) to 1080p(h264) at fps = 65.46\n"
     ]
    }
   ],
   "source": [
    "fps, n_frames = transcode_cpu(vid_path_in_out_1080p,vid_path_out_1080p_mp4)\n",
    "print(f'Transcoded {n_frames} frames from 1080p(hevc) to 1080p(h264) at fps = {fps:.2f}')"
   ]
  },
  {
   "cell_type": "code",
   "execution_count": null,
   "id": "57534197",
   "metadata": {},
   "outputs": [],
   "source": []
  }
 ],
 "metadata": {
  "kernelspec": {
   "display_name": "Python 3 (ipykernel)",
   "language": "python",
   "name": "python3"
  },
  "language_info": {
   "codemirror_mode": {
    "name": "ipython",
    "version": 3
   },
   "file_extension": ".py",
   "mimetype": "text/x-python",
   "name": "python",
   "nbconvert_exporter": "python",
   "pygments_lexer": "ipython3",
   "version": "3.9.13"
  }
 },
 "nbformat": 4,
 "nbformat_minor": 5
}
