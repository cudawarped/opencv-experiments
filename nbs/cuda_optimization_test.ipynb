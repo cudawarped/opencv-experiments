{
 "cells": [
  {
   "cell_type": "code",
   "execution_count": 1,
   "metadata": {},
   "outputs": [],
   "source": [
    "import cv2\n",
    "import numpy as np\n",
    "import time\n",
    "import GPUtil\n",
    "import platform\n",
    "import cpuinfo"
   ]
  },
  {
   "cell_type": "code",
   "execution_count": 2,
   "metadata": {},
   "outputs": [
    {
     "name": "stdout",
     "output_type": "stream",
     "text": [
      "4.5.2\n",
      "Intel(R) Core(TM) i7-8700 CPU @ 3.20GHz\n",
      "GeForce RTX 2080\n"
     ]
    }
   ],
   "source": [
    "gpus = GPUtil.getGPUs()\n",
    "print(cv2.__version__)\n",
    "print(cpuinfo.get_cpu_info()['brand_raw'])\n",
    "print(gpus[0].name)"
   ]
  },
  {
   "cell_type": "markdown",
   "metadata": {},
   "source": [
    "# OpenCV without optimization"
   ]
  },
  {
   "cell_type": "code",
   "execution_count": 3,
   "metadata": {},
   "outputs": [],
   "source": [
    "im = np.random.random((4000, 4000,3)).astype(np.uint8)\n",
    "loop_cnt = 1000"
   ]
  },
  {
   "cell_type": "markdown",
   "metadata": {},
   "source": [
    "## CPU"
   ]
  },
  {
   "cell_type": "code",
   "execution_count": 4,
   "metadata": {},
   "outputs": [
    {
     "name": "stdout",
     "output_type": "stream",
     "text": [
      "cpu time: 15007.12 us\n"
     ]
    }
   ],
   "source": [
    "start_t = time.time()\n",
    "for _ in range(loop_cnt):    \n",
    "    gray = cv2.cvtColor(im, cv2.COLOR_BGR2GRAY)\n",
    "    retval,thr = cv2.threshold(gray,128,255,cv2.THRESH_BINARY)\n",
    "    morph_kernel = cv2.getStructuringElement(cv2.MORPH_ELLIPSE,(7,7))\n",
    "    morph = cv2.dilate(thr,morph_kernel)\n",
    "    morph = cv2.resize(morph,(640,480))    \n",
    "print('cpu time: {:.2f} us'.format((time.time() - start_t) * 1e6 / loop_cnt))"
   ]
  },
  {
   "cell_type": "markdown",
   "metadata": {},
   "source": [
    "### Pre-alloc return arrays and remove constant ops"
   ]
  },
  {
   "cell_type": "code",
   "execution_count": 5,
   "metadata": {},
   "outputs": [
    {
     "name": "stdout",
     "output_type": "stream",
     "text": [
      "cpu time: 12000.67 us\n"
     ]
    }
   ],
   "source": [
    "# use ones from above except morph\n",
    "morph_sm = np.empty((480,640),np.uint8)\n",
    "morph_kernel = cv2.getStructuringElement(cv2.MORPH_ELLIPSE,(7,7))\n",
    "start_t = time.time()\n",
    "for _ in range(loop_cnt):    \n",
    "    cv2.cvtColor(im, cv2.COLOR_BGR2GRAY, gray)\n",
    "    cv2.threshold(gray,128,255,cv2.THRESH_BINARY,thr)    \n",
    "    cv2.dilate(thr,morph_kernel,morph)\n",
    "    cv2.resize(morph,(640,480),morph_sm)\n",
    "cpu_time = (time.time() - start_t) * 1e6 / loop_cnt\n",
    "print('cpu time: {:.2f} us'.format(cpu_time))"
   ]
  },
  {
   "cell_type": "markdown",
   "metadata": {},
   "source": [
    "## GPU"
   ]
  },
  {
   "cell_type": "code",
   "execution_count": 7,
   "metadata": {},
   "outputs": [
    {
     "name": "stdout",
     "output_type": "stream",
     "text": [
      "gpu time: 16019.12 us\n"
     ]
    }
   ],
   "source": [
    "start_t = time.time()\n",
    "for _ in range(loop_cnt):\n",
    "    gpu_frame = cv2.cuda_GpuMat()\n",
    "    gpu_frame.upload(im)\n",
    "    gpu_gray = cv2.cuda.cvtColor(gpu_frame, cv2.COLOR_BGR2GRAY)\n",
    "    retval,gpu_thr = cv2.cuda.threshold(gpu_gray,128,255,cv2.THRESH_BINARY)\n",
    "    morph_kernel = cv2.getStructuringElement(cv2.MORPH_ELLIPSE,(7,7))\n",
    "    morph_filter = cv2.cuda.createMorphologyFilter(cv2.MORPH_DILATE,cv2.CV_8U,morph_kernel)\n",
    "    gpu_morph = morph_filter.apply(gpu_thr)\n",
    "    gpu_morph = cv2.cuda.resize(gpu_morph,(640,480))\n",
    "    res = gpu_morph.download()\n",
    "print('gpu time: {:.2f} us'.format((time.time() - start_t) * 1e6 / loop_cnt))"
   ]
  },
  {
   "cell_type": "markdown",
   "metadata": {},
   "source": [
    "# OpenCV with optimization"
   ]
  },
  {
   "cell_type": "markdown",
   "metadata": {},
   "source": [
    "## Demonstrate warm up"
   ]
  },
  {
   "cell_type": "code",
   "execution_count": 6,
   "metadata": {},
   "outputs": [
    {
     "name": "stdout",
     "output_type": "stream",
     "text": [
      "gpu time warm up: 116695.36 us\n",
      "gpu time when warm: 16002.82 us\n"
     ]
    }
   ],
   "source": [
    "start_t = time.time()\n",
    "loop_cnt_warm = 5\n",
    "for _ in range(loop_cnt_warm):\n",
    "    gpu_frame = cv2.cuda_GpuMat()\n",
    "    gpu_frame.upload(im)\n",
    "    gpu_gray = cv2.cuda.cvtColor(gpu_frame, cv2.COLOR_BGR2GRAY)\n",
    "    retval,gpu_thr = cv2.cuda.threshold(gpu_gray,128,255,cv2.THRESH_BINARY)\n",
    "    morph_kernel = cv2.getStructuringElement(cv2.MORPH_ELLIPSE,(7,7))\n",
    "    morph_filter = cv2.cuda.createMorphologyFilter(cv2.MORPH_DILATE,cv2.CV_8U,morph_kernel)\n",
    "    gpu_morph = morph_filter.apply(gpu_thr)\n",
    "    gpu_morph = cv2.cuda.resize(gpu_morph,(640,480))\n",
    "    res = gpu_morph.download()\n",
    "print('gpu time warm up: {:.2f} us'.format((time.time() - start_t) * 1e6 / loop_cnt_warm))\n",
    "start_t = time.time()\n",
    "for _ in range(loop_cnt):\n",
    "    gpu_frame = cv2.cuda_GpuMat()\n",
    "    gpu_frame.upload(im)\n",
    "    gpu_gray = cv2.cuda.cvtColor(gpu_frame, cv2.COLOR_BGR2GRAY)\n",
    "    retval,gpu_thr = cv2.cuda.threshold(gpu_gray,128,255,cv2.THRESH_BINARY)\n",
    "    morph_kernel = cv2.getStructuringElement(cv2.MORPH_ELLIPSE,(7,7))\n",
    "    morph_filter = cv2.cuda.createMorphologyFilter(cv2.MORPH_DILATE,cv2.CV_8U,morph_kernel)\n",
    "    gpu_morph = morph_filter.apply(gpu_thr)\n",
    "    gpu_morph = cv2.cuda.resize(gpu_morph,(640,480))\n",
    "    res = gpu_morph.download()\n",
    "print('gpu time when warm: {:.2f} us'.format((time.time() - start_t) * 1e6 / loop_cnt))"
   ]
  },
  {
   "cell_type": "markdown",
   "metadata": {},
   "source": [
    "### Exlude CPU ops and upload/dload"
   ]
  },
  {
   "cell_type": "code",
   "execution_count": 8,
   "metadata": {},
   "outputs": [
    {
     "name": "stdout",
     "output_type": "stream",
     "text": [
      "gpu time: 7100.30 us\n"
     ]
    }
   ],
   "source": [
    "morph_kernel = cv2.getStructuringElement(cv2.MORPH_ELLIPSE,(7,7))\n",
    "gpu_frame = cv2.cuda_GpuMat(im)\n",
    "start_t = time.time()\n",
    "for _ in range(loop_cnt):\n",
    "    gpu_gray = cv2.cuda.cvtColor(gpu_frame, cv2.COLOR_BGR2GRAY)\n",
    "    retval,gpu_thr = cv2.cuda.threshold(gpu_gray,128,255,cv2.THRESH_BINARY)\n",
    "    morph_filter = cv2.cuda.createMorphologyFilter(cv2.MORPH_DILATE,cv2.CV_8U,morph_kernel)\n",
    "    gpu_morph = morph_filter.apply(gpu_thr)\n",
    "    gpu_morph = cv2.cuda.resize(gpu_morph,(640,480))    \n",
    "print('gpu time: {:.2f} us'.format((time.time() - start_t) * 1e6 / loop_cnt))\n",
    "res = gpu_morph.download()"
   ]
  },
  {
   "cell_type": "markdown",
   "metadata": {},
   "source": [
    "### Pre-allocate"
   ]
  },
  {
   "cell_type": "code",
   "execution_count": 9,
   "metadata": {},
   "outputs": [
    {
     "name": "stdout",
     "output_type": "stream",
     "text": [
      "gpu time: 4493.87 us\n"
     ]
    }
   ],
   "source": [
    "morph_kernel = cv2.getStructuringElement(cv2.MORPH_ELLIPSE,(7,7))\n",
    "gpu_frame = cv2.cuda_GpuMat(im)\n",
    "gpu_gray = cv2.cuda_GpuMat(im.shape[:-1][::-1],cv2.CV_8UC1)\n",
    "gpu_thr = cv2.cuda_GpuMat(gpu_gray.size(),gpu_gray.type())\n",
    "gpu_morph = cv2.cuda_GpuMat(gpu_gray.size(),gpu_gray.type())\n",
    "gpu_morph_sm = cv2.cuda_GpuMat((640,480),gpu_gray.type())\n",
    "start_t = time.time()\n",
    "for _ in range(loop_cnt):\n",
    "    cv2.cuda.cvtColor(gpu_frame, cv2.COLOR_BGR2GRAY,gpu_gray)\n",
    "    cv2.cuda.threshold(gpu_gray,128,255,cv2.THRESH_BINARY,gpu_thr)\n",
    "    morph_filter = cv2.cuda.createMorphologyFilter(cv2.MORPH_DILATE,cv2.CV_8U,morph_kernel)\n",
    "    morph_filter.apply(gpu_thr,gpu_morph)\n",
    "    cv2.cuda.resize(gpu_morph,(640,480),gpu_morph_sm)    \n",
    "print('gpu time: {:.2f} us'.format((time.time() - start_t) * 1e6 / loop_cnt))\n",
    "res = gpu_morph.download()"
   ]
  },
  {
   "cell_type": "markdown",
   "metadata": {},
   "source": [
    "### Remove morph_filter creation as this would also be pre-computed in practice"
   ]
  },
  {
   "cell_type": "code",
   "execution_count": 10,
   "metadata": {},
   "outputs": [
    {
     "name": "stdout",
     "output_type": "stream",
     "text": [
      "gpu time: 3620.95 us\n"
     ]
    }
   ],
   "source": [
    "morph_kernel = cv2.getStructuringElement(cv2.MORPH_ELLIPSE,(7,7))\n",
    "gpu_frame = cv2.cuda_GpuMat(im)\n",
    "gpu_gray = cv2.cuda_GpuMat(im.shape[:-1][::-1],cv2.CV_8UC1)\n",
    "gpu_thr = cv2.cuda_GpuMat(gpu_gray.size(),gpu_gray.type())\n",
    "gpu_morph = cv2.cuda_GpuMat(gpu_gray.size(),gpu_gray.type())\n",
    "gpu_morph_sm = cv2.cuda_GpuMat((640,480),gpu_gray.type())\n",
    "morph_filter = cv2.cuda.createMorphologyFilter(cv2.MORPH_DILATE,cv2.CV_8U,morph_kernel)\n",
    "start_t = time.time()\n",
    "for _ in range(loop_cnt):\n",
    "    cv2.cuda.cvtColor(gpu_frame, cv2.COLOR_BGR2GRAY,gpu_gray)\n",
    "    cv2.cuda.threshold(gpu_gray,128,255,cv2.THRESH_BINARY,gpu_thr)    \n",
    "    morph_filter.apply(gpu_thr,gpu_morph)\n",
    "    cv2.cuda.resize(gpu_morph,(640,480),gpu_morph_sm)    \n",
    "print('gpu time: {:.2f} us'.format((time.time() - start_t) * 1e6 / loop_cnt))\n",
    "res = gpu_morph.download()"
   ]
  },
  {
   "cell_type": "markdown",
   "metadata": {},
   "source": [
    "### Stream - worst case scenario stall on each loop iteration"
   ]
  },
  {
   "cell_type": "code",
   "execution_count": 11,
   "metadata": {},
   "outputs": [
    {
     "name": "stdout",
     "output_type": "stream",
     "text": [
      "gpu time: 3443.38 us\n"
     ]
    }
   ],
   "source": [
    "stream = cv2.cuda_Stream()\n",
    "morph_kernel = cv2.getStructuringElement(cv2.MORPH_ELLIPSE,(7,7))\n",
    "gpu_frame = cv2.cuda_GpuMat(im)\n",
    "gpu_gray = cv2.cuda_GpuMat(im.shape[:-1][::-1],cv2.CV_8UC1)\n",
    "gpu_thr = cv2.cuda_GpuMat(gpu_gray.size(),gpu_gray.type())\n",
    "gpu_morph = cv2.cuda_GpuMat(gpu_gray.size(),gpu_gray.type())\n",
    "gpu_morph_sm = cv2.cuda_GpuMat((640,480),gpu_gray.type())\n",
    "morph_filter = cv2.cuda.createMorphologyFilter(cv2.MORPH_DILATE,cv2.CV_8U,morph_kernel)\n",
    "start_t = time.time()\n",
    "for _ in range(loop_cnt):\n",
    "    cv2.cuda.cvtColor(gpu_frame, cv2.COLOR_BGR2GRAY,gpu_gray,stream = stream)\n",
    "    cv2.cuda.threshold(gpu_gray,128,255,cv2.THRESH_BINARY,gpu_thr,stream=stream)    \n",
    "    morph_filter.apply(gpu_thr,gpu_morph,stream=stream)\n",
    "    cv2.cuda.resize(gpu_morph,(640,480),gpu_morph_sm,stream=stream)\n",
    "    stream.waitForCompletion()\n",
    "gpu_time = (time.time() - start_t) * 1e6 / loop_cnt\n",
    "print('gpu time: {:.2f} us'.format(gpu_time))\n",
    "res = gpu_morph.download()"
   ]
  },
  {
   "cell_type": "code",
   "execution_count": 26,
   "metadata": {},
   "outputs": [],
   "source": [
    "# No real improvement from streams likely hard sync inside one of the routines"
   ]
  },
  {
   "cell_type": "markdown",
   "metadata": {},
   "source": [
    "# Speed up"
   ]
  },
  {
   "cell_type": "code",
   "execution_count": 12,
   "metadata": {},
   "outputs": [
    {
     "data": {
      "text/plain": [
       "3.485140688715614"
      ]
     },
     "execution_count": 12,
     "metadata": {},
     "output_type": "execute_result"
    }
   ],
   "source": [
    "cpu_time/gpu_time"
   ]
  },
  {
   "cell_type": "code",
   "execution_count": null,
   "metadata": {},
   "outputs": [],
   "source": []
  }
 ],
 "metadata": {
  "kernelspec": {
   "display_name": "Python 3",
   "language": "python",
   "name": "python3"
  },
  "language_info": {
   "codemirror_mode": {
    "name": "ipython",
    "version": 3
   },
   "file_extension": ".py",
   "mimetype": "text/x-python",
   "name": "python",
   "nbconvert_exporter": "python",
   "pygments_lexer": "ipython3",
   "version": "3.7.7"
  },
  "toc": {
   "base_numbering": 1,
   "nav_menu": {},
   "number_sections": true,
   "sideBar": true,
   "skip_h1_title": false,
   "title_cell": "Table of Contents",
   "title_sidebar": "Contents",
   "toc_cell": false,
   "toc_position": {},
   "toc_section_display": true,
   "toc_window_display": false
  }
 },
 "nbformat": 4,
 "nbformat_minor": 4
}
