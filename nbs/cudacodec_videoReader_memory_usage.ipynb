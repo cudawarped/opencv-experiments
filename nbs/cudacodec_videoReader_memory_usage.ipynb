{
 "cells": [
  {
   "cell_type": "markdown",
   "id": "53117f25",
   "metadata": {},
   "source": [
    "# `cudacodec.VideoReader` memory usage example"
   ]
  },
  {
   "cell_type": "markdown",
   "id": "0adbfc27",
   "metadata": {},
   "source": [
    "The memory required by `cudacodec.VideoReader` is mainly influenced by the number of decode surfaces required as demonstrated in this example.  \n",
    "\n",
    "The minimum number of decode surfaces is determined by the video source and can be increased to increase decoding performance.\n",
    "\n",
    "Note: A [CUDA context](https://docs.nvidia.com/cuda/cuda-c-programming-guide/index.html#context) which requires several hundred MB of device memory needs to be created before any CUDA functions can be called.  Unfortunately the call to `cv.cuda.DeviceInfo()` will create the cuda context so there is no way to measure how much memory this allocates using the OpenCV API.\n",
    "\n",
    "This example uses python wheel from https://github.com/cudawarped/opencv-python-cuda-wheels/releases/tag/4.7.0.20221229"
   ]
  },
  {
   "cell_type": "code",
   "execution_count": 1,
   "id": "154b8b6a",
   "metadata": {},
   "outputs": [],
   "source": [
    "import cv2 as cv\n",
    "import os\n",
    "import time\n",
    "b_to_mb = 2**20\n",
    "vid_root = os.environ['OPENCV_TEST_DATA_PATH'] + \"/cv/video/\""
   ]
  },
  {
   "cell_type": "markdown",
   "id": "12f4db2a",
   "metadata": {},
   "source": [
    "## Create `cudacodec.VideoReader` using the default number of decode surfaces"
   ]
  },
  {
   "cell_type": "code",
   "execution_count": 2,
   "id": "7819f27c",
   "metadata": {},
   "outputs": [],
   "source": [
    "# unfortunately this creates a cuda context therefore mb_free_start is the free memory after context creation\n",
    "device_info = cv.cuda.DeviceInfo()\n",
    "mb_free_start = device_info.freeMemory()/b_to_mb"
   ]
  },
  {
   "cell_type": "code",
   "execution_count": 3,
   "id": "9f5291b7",
   "metadata": {},
   "outputs": [],
   "source": [
    "videoReader = cv.cudacodec.createVideoReader(vid_root + \"1920x1080.avi\")"
   ]
  },
  {
   "cell_type": "code",
   "execution_count": 4,
   "id": "81d66b56",
   "metadata": {},
   "outputs": [],
   "source": [
    "mb_free_after_creation = device_info.freeMemory()/b_to_mb"
   ]
  },
  {
   "cell_type": "code",
   "execution_count": 5,
   "id": "4080e268",
   "metadata": {},
   "outputs": [],
   "source": [
    "# Get number of decode surfaces currently a frame needs to be processed before the format info is valid\n",
    "videoReader.grab()\n",
    "format_info = videoReader.format()"
   ]
  },
  {
   "cell_type": "code",
   "execution_count": 6,
   "id": "97570090",
   "metadata": {},
   "outputs": [
    {
     "name": "stdout",
     "output_type": "stream",
     "text": [
      "Total Memory:                            8191.50MB\n",
      "Free Memory after context creation:      6999.00MB\n",
      "Free Memory after creating video reader: 6973.41MB\n",
      "25.59MB of internal memory when using 4 (1920x1088) decode surfaces\n"
     ]
    }
   ],
   "source": [
    "mb_used = mb_free_start - mb_free_after_creation\n",
    "print(f'Total Memory:                            {device_info.totalMemory()/b_to_mb:.2f}MB')\n",
    "print(f'Free Memory after context creation:      {mb_free_start:.2f}MB')\n",
    "print(f'Free Memory after creating video reader: {mb_free_after_creation:.2f}MB')\n",
    "print(f'{mb_used:.2f}MB of internal memory when using {format_info.ulNumDecodeSurfaces} ({format_info.ulWidth}x{format_info.ulHeight}) decode surfaces')"
   ]
  },
  {
   "cell_type": "markdown",
   "id": "485293dd",
   "metadata": {},
   "source": [
    "## Create `cudacodec.VideoReader` using twice as many decode surfaces"
   ]
  },
  {
   "cell_type": "code",
   "execution_count": 7,
   "id": "f887489f",
   "metadata": {},
   "outputs": [],
   "source": [
    "params = cv.cudacodec.VideoReaderInitParams()\n",
    "params.minNumDecodeSurfaces = format_info.ulNumDecodeSurfaces*2"
   ]
  },
  {
   "cell_type": "code",
   "execution_count": 8,
   "id": "42733d60",
   "metadata": {},
   "outputs": [],
   "source": [
    "videoReader = cv.cudacodec.createVideoReader(vid_root + \"1920x1080.avi\",params=params)"
   ]
  },
  {
   "cell_type": "code",
   "execution_count": 9,
   "id": "dc9904f1",
   "metadata": {},
   "outputs": [],
   "source": [
    "mb_used_double_sufaces = mb_free_start - device_info.freeMemory()/b_to_mb"
   ]
  },
  {
   "cell_type": "code",
   "execution_count": 10,
   "id": "55bc7811",
   "metadata": {},
   "outputs": [],
   "source": [
    "videoReader.grab()\n",
    "format_info = videoReader.format()\n",
    "assert format_info.ulNumDecodeSurfaces == params.minNumDecodeSurfaces "
   ]
  },
  {
   "cell_type": "code",
   "execution_count": 11,
   "id": "c43fad5f",
   "metadata": {},
   "outputs": [
    {
     "name": "stdout",
     "output_type": "stream",
     "text": [
      "Memory increase from doubling the number of decode surfaces: 62.52%\n"
     ]
    }
   ],
   "source": [
    "print(f'Memory increase from doubling the number of decode surfaces: {100*(mb_used_double_sufaces - mb_used)/mb_used:.2f}%')"
   ]
  },
  {
   "cell_type": "code",
   "execution_count": null,
   "id": "26ca941d",
   "metadata": {},
   "outputs": [],
   "source": []
  }
 ],
 "metadata": {
  "kernelspec": {
   "display_name": "Python 3 (ipykernel)",
   "language": "python",
   "name": "python3"
  },
  "language_info": {
   "codemirror_mode": {
    "name": "ipython",
    "version": 3
   },
   "file_extension": ".py",
   "mimetype": "text/x-python",
   "name": "python",
   "nbconvert_exporter": "python",
   "pygments_lexer": "ipython3",
   "version": "3.9.13"
  },
  "toc": {
   "base_numbering": 1,
   "nav_menu": {},
   "number_sections": true,
   "sideBar": true,
   "skip_h1_title": false,
   "title_cell": "Table of Contents",
   "title_sidebar": "Contents",
   "toc_cell": false,
   "toc_position": {},
   "toc_section_display": true,
   "toc_window_display": false
  },
  "varInspector": {
   "cols": {
    "lenName": 16,
    "lenType": 16,
    "lenVar": 40
   },
   "kernels_config": {
    "python": {
     "delete_cmd_postfix": "",
     "delete_cmd_prefix": "del ",
     "library": "var_list.py",
     "varRefreshCmd": "print(var_dic_list())"
    },
    "r": {
     "delete_cmd_postfix": ") ",
     "delete_cmd_prefix": "rm(",
     "library": "var_list.r",
     "varRefreshCmd": "cat(var_dic_list()) "
    }
   },
   "types_to_exclude": [
    "module",
    "function",
    "builtin_function_or_method",
    "instance",
    "_Feature"
   ],
   "window_display": false
  }
 },
 "nbformat": 4,
 "nbformat_minor": 5
}
